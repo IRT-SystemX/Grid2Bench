{
 "cells": [
  {
   "cell_type": "code",
   "execution_count": 1,
   "metadata": {
    "pycharm": {
     "name": "#%%\n"
    }
   },
   "outputs": [],
   "source": [
    "import os\n",
    "import sys\n",
    "sys.path.append(os.path.abspath('..'))\n",
    "\n",
    "from rlbenchplot.EpisodesPlot import EpisodesPlot\n",
    "import pandas as pd\n",
    "import numpy as np\n",
    "import plotly.express as px\n",
    "from datetime import timedelta\n",
    "\n",
    "import warnings\n",
    "warnings.filterwarnings(\"ignore\")\n",
    "\n",
    "agent_path = os.path.abspath(\"../data/input/PPO_Solution\")"
   ]
  },
  {
   "cell_type": "code",
   "execution_count": 2,
   "metadata": {
    "pycharm": {
     "name": "#%%\n"
    }
   },
   "outputs": [
    {
     "name": "stderr",
     "output_type": "stream",
     "text": [
      "100%|██████████| 2/2 [00:05<00:00,  2.51s/it]\n"
     ]
    }
   ],
   "source": [
    "episodes_plot = EpisodesPlot(agent_path, episodes_names=[\"dec16_1\", \"dec16_2\"])"
   ]
  },
  {
   "cell_type": "code",
   "execution_count": 12,
   "metadata": {
    "pycharm": {
     "name": "#%%\n"
    }
   },
   "outputs": [
    {
     "name": "stderr",
     "output_type": "stream",
     "text": [
      "100%|██████████| 24/24 [00:00<00:00, 182.66it/s]\n"
     ]
    },
    {
     "data": {
      "application/vnd.plotly.v1+json": {
       "config": {
        "plotlyServerURL": "https://plot.ly"
       },
       "data": [
        {
         "domain": {
          "x": [
           0,
           1
          ],
          "y": [
           0,
           1
          ]
         },
         "hovertemplate": "index=%{label}<br>Frequency=%{value}<extra></extra>",
         "labels": [
          "NB line switched",
          "NB topological change",
          "NB redispatching",
          "NB storage changes",
          "NB curtailment"
         ],
         "legendgroup": "",
         "name": "",
         "showlegend": true,
         "textinfo": "percent+label",
         "textposition": "inside",
         "type": "pie",
         "values": [
          0,
          242,
          0,
          0,
          0
         ]
        }
       ],
       "layout": {
        "legend": {
         "tracegroupgap": 0
        },
        "template": {
         "data": {
          "bar": [
           {
            "error_x": {
             "color": "#2a3f5f"
            },
            "error_y": {
             "color": "#2a3f5f"
            },
            "marker": {
             "line": {
              "color": "#E5ECF6",
              "width": 0.5
             },
             "pattern": {
              "fillmode": "overlay",
              "size": 10,
              "solidity": 0.2
             }
            },
            "type": "bar"
           }
          ],
          "barpolar": [
           {
            "marker": {
             "line": {
              "color": "#E5ECF6",
              "width": 0.5
             },
             "pattern": {
              "fillmode": "overlay",
              "size": 10,
              "solidity": 0.2
             }
            },
            "type": "barpolar"
           }
          ],
          "carpet": [
           {
            "aaxis": {
             "endlinecolor": "#2a3f5f",
             "gridcolor": "white",
             "linecolor": "white",
             "minorgridcolor": "white",
             "startlinecolor": "#2a3f5f"
            },
            "baxis": {
             "endlinecolor": "#2a3f5f",
             "gridcolor": "white",
             "linecolor": "white",
             "minorgridcolor": "white",
             "startlinecolor": "#2a3f5f"
            },
            "type": "carpet"
           }
          ],
          "choropleth": [
           {
            "colorbar": {
             "outlinewidth": 0,
             "ticks": ""
            },
            "type": "choropleth"
           }
          ],
          "contour": [
           {
            "colorbar": {
             "outlinewidth": 0,
             "ticks": ""
            },
            "colorscale": [
             [
              0,
              "#0d0887"
             ],
             [
              0.1111111111111111,
              "#46039f"
             ],
             [
              0.2222222222222222,
              "#7201a8"
             ],
             [
              0.3333333333333333,
              "#9c179e"
             ],
             [
              0.4444444444444444,
              "#bd3786"
             ],
             [
              0.5555555555555556,
              "#d8576b"
             ],
             [
              0.6666666666666666,
              "#ed7953"
             ],
             [
              0.7777777777777778,
              "#fb9f3a"
             ],
             [
              0.8888888888888888,
              "#fdca26"
             ],
             [
              1,
              "#f0f921"
             ]
            ],
            "type": "contour"
           }
          ],
          "contourcarpet": [
           {
            "colorbar": {
             "outlinewidth": 0,
             "ticks": ""
            },
            "type": "contourcarpet"
           }
          ],
          "heatmap": [
           {
            "colorbar": {
             "outlinewidth": 0,
             "ticks": ""
            },
            "colorscale": [
             [
              0,
              "#0d0887"
             ],
             [
              0.1111111111111111,
              "#46039f"
             ],
             [
              0.2222222222222222,
              "#7201a8"
             ],
             [
              0.3333333333333333,
              "#9c179e"
             ],
             [
              0.4444444444444444,
              "#bd3786"
             ],
             [
              0.5555555555555556,
              "#d8576b"
             ],
             [
              0.6666666666666666,
              "#ed7953"
             ],
             [
              0.7777777777777778,
              "#fb9f3a"
             ],
             [
              0.8888888888888888,
              "#fdca26"
             ],
             [
              1,
              "#f0f921"
             ]
            ],
            "type": "heatmap"
           }
          ],
          "heatmapgl": [
           {
            "colorbar": {
             "outlinewidth": 0,
             "ticks": ""
            },
            "colorscale": [
             [
              0,
              "#0d0887"
             ],
             [
              0.1111111111111111,
              "#46039f"
             ],
             [
              0.2222222222222222,
              "#7201a8"
             ],
             [
              0.3333333333333333,
              "#9c179e"
             ],
             [
              0.4444444444444444,
              "#bd3786"
             ],
             [
              0.5555555555555556,
              "#d8576b"
             ],
             [
              0.6666666666666666,
              "#ed7953"
             ],
             [
              0.7777777777777778,
              "#fb9f3a"
             ],
             [
              0.8888888888888888,
              "#fdca26"
             ],
             [
              1,
              "#f0f921"
             ]
            ],
            "type": "heatmapgl"
           }
          ],
          "histogram": [
           {
            "marker": {
             "pattern": {
              "fillmode": "overlay",
              "size": 10,
              "solidity": 0.2
             }
            },
            "type": "histogram"
           }
          ],
          "histogram2d": [
           {
            "colorbar": {
             "outlinewidth": 0,
             "ticks": ""
            },
            "colorscale": [
             [
              0,
              "#0d0887"
             ],
             [
              0.1111111111111111,
              "#46039f"
             ],
             [
              0.2222222222222222,
              "#7201a8"
             ],
             [
              0.3333333333333333,
              "#9c179e"
             ],
             [
              0.4444444444444444,
              "#bd3786"
             ],
             [
              0.5555555555555556,
              "#d8576b"
             ],
             [
              0.6666666666666666,
              "#ed7953"
             ],
             [
              0.7777777777777778,
              "#fb9f3a"
             ],
             [
              0.8888888888888888,
              "#fdca26"
             ],
             [
              1,
              "#f0f921"
             ]
            ],
            "type": "histogram2d"
           }
          ],
          "histogram2dcontour": [
           {
            "colorbar": {
             "outlinewidth": 0,
             "ticks": ""
            },
            "colorscale": [
             [
              0,
              "#0d0887"
             ],
             [
              0.1111111111111111,
              "#46039f"
             ],
             [
              0.2222222222222222,
              "#7201a8"
             ],
             [
              0.3333333333333333,
              "#9c179e"
             ],
             [
              0.4444444444444444,
              "#bd3786"
             ],
             [
              0.5555555555555556,
              "#d8576b"
             ],
             [
              0.6666666666666666,
              "#ed7953"
             ],
             [
              0.7777777777777778,
              "#fb9f3a"
             ],
             [
              0.8888888888888888,
              "#fdca26"
             ],
             [
              1,
              "#f0f921"
             ]
            ],
            "type": "histogram2dcontour"
           }
          ],
          "mesh3d": [
           {
            "colorbar": {
             "outlinewidth": 0,
             "ticks": ""
            },
            "type": "mesh3d"
           }
          ],
          "parcoords": [
           {
            "line": {
             "colorbar": {
              "outlinewidth": 0,
              "ticks": ""
             }
            },
            "type": "parcoords"
           }
          ],
          "pie": [
           {
            "automargin": true,
            "type": "pie"
           }
          ],
          "scatter": [
           {
            "marker": {
             "colorbar": {
              "outlinewidth": 0,
              "ticks": ""
             }
            },
            "type": "scatter"
           }
          ],
          "scatter3d": [
           {
            "line": {
             "colorbar": {
              "outlinewidth": 0,
              "ticks": ""
             }
            },
            "marker": {
             "colorbar": {
              "outlinewidth": 0,
              "ticks": ""
             }
            },
            "type": "scatter3d"
           }
          ],
          "scattercarpet": [
           {
            "marker": {
             "colorbar": {
              "outlinewidth": 0,
              "ticks": ""
             }
            },
            "type": "scattercarpet"
           }
          ],
          "scattergeo": [
           {
            "marker": {
             "colorbar": {
              "outlinewidth": 0,
              "ticks": ""
             }
            },
            "type": "scattergeo"
           }
          ],
          "scattergl": [
           {
            "marker": {
             "colorbar": {
              "outlinewidth": 0,
              "ticks": ""
             }
            },
            "type": "scattergl"
           }
          ],
          "scattermapbox": [
           {
            "marker": {
             "colorbar": {
              "outlinewidth": 0,
              "ticks": ""
             }
            },
            "type": "scattermapbox"
           }
          ],
          "scatterpolar": [
           {
            "marker": {
             "colorbar": {
              "outlinewidth": 0,
              "ticks": ""
             }
            },
            "type": "scatterpolar"
           }
          ],
          "scatterpolargl": [
           {
            "marker": {
             "colorbar": {
              "outlinewidth": 0,
              "ticks": ""
             }
            },
            "type": "scatterpolargl"
           }
          ],
          "scatterternary": [
           {
            "marker": {
             "colorbar": {
              "outlinewidth": 0,
              "ticks": ""
             }
            },
            "type": "scatterternary"
           }
          ],
          "surface": [
           {
            "colorbar": {
             "outlinewidth": 0,
             "ticks": ""
            },
            "colorscale": [
             [
              0,
              "#0d0887"
             ],
             [
              0.1111111111111111,
              "#46039f"
             ],
             [
              0.2222222222222222,
              "#7201a8"
             ],
             [
              0.3333333333333333,
              "#9c179e"
             ],
             [
              0.4444444444444444,
              "#bd3786"
             ],
             [
              0.5555555555555556,
              "#d8576b"
             ],
             [
              0.6666666666666666,
              "#ed7953"
             ],
             [
              0.7777777777777778,
              "#fb9f3a"
             ],
             [
              0.8888888888888888,
              "#fdca26"
             ],
             [
              1,
              "#f0f921"
             ]
            ],
            "type": "surface"
           }
          ],
          "table": [
           {
            "cells": {
             "fill": {
              "color": "#EBF0F8"
             },
             "line": {
              "color": "white"
             }
            },
            "header": {
             "fill": {
              "color": "#C8D4E3"
             },
             "line": {
              "color": "white"
             }
            },
            "type": "table"
           }
          ]
         },
         "layout": {
          "annotationdefaults": {
           "arrowcolor": "#2a3f5f",
           "arrowhead": 0,
           "arrowwidth": 1
          },
          "autotypenumbers": "strict",
          "coloraxis": {
           "colorbar": {
            "outlinewidth": 0,
            "ticks": ""
           }
          },
          "colorscale": {
           "diverging": [
            [
             0,
             "#8e0152"
            ],
            [
             0.1,
             "#c51b7d"
            ],
            [
             0.2,
             "#de77ae"
            ],
            [
             0.3,
             "#f1b6da"
            ],
            [
             0.4,
             "#fde0ef"
            ],
            [
             0.5,
             "#f7f7f7"
            ],
            [
             0.6,
             "#e6f5d0"
            ],
            [
             0.7,
             "#b8e186"
            ],
            [
             0.8,
             "#7fbc41"
            ],
            [
             0.9,
             "#4d9221"
            ],
            [
             1,
             "#276419"
            ]
           ],
           "sequential": [
            [
             0,
             "#0d0887"
            ],
            [
             0.1111111111111111,
             "#46039f"
            ],
            [
             0.2222222222222222,
             "#7201a8"
            ],
            [
             0.3333333333333333,
             "#9c179e"
            ],
            [
             0.4444444444444444,
             "#bd3786"
            ],
            [
             0.5555555555555556,
             "#d8576b"
            ],
            [
             0.6666666666666666,
             "#ed7953"
            ],
            [
             0.7777777777777778,
             "#fb9f3a"
            ],
            [
             0.8888888888888888,
             "#fdca26"
            ],
            [
             1,
             "#f0f921"
            ]
           ],
           "sequentialminus": [
            [
             0,
             "#0d0887"
            ],
            [
             0.1111111111111111,
             "#46039f"
            ],
            [
             0.2222222222222222,
             "#7201a8"
            ],
            [
             0.3333333333333333,
             "#9c179e"
            ],
            [
             0.4444444444444444,
             "#bd3786"
            ],
            [
             0.5555555555555556,
             "#d8576b"
            ],
            [
             0.6666666666666666,
             "#ed7953"
            ],
            [
             0.7777777777777778,
             "#fb9f3a"
            ],
            [
             0.8888888888888888,
             "#fdca26"
            ],
            [
             1,
             "#f0f921"
            ]
           ]
          },
          "colorway": [
           "#636efa",
           "#EF553B",
           "#00cc96",
           "#ab63fa",
           "#FFA15A",
           "#19d3f3",
           "#FF6692",
           "#B6E880",
           "#FF97FF",
           "#FECB52"
          ],
          "font": {
           "color": "#2a3f5f"
          },
          "geo": {
           "bgcolor": "white",
           "lakecolor": "white",
           "landcolor": "#E5ECF6",
           "showlakes": true,
           "showland": true,
           "subunitcolor": "white"
          },
          "hoverlabel": {
           "align": "left"
          },
          "hovermode": "closest",
          "mapbox": {
           "style": "light"
          },
          "paper_bgcolor": "white",
          "plot_bgcolor": "#E5ECF6",
          "polar": {
           "angularaxis": {
            "gridcolor": "white",
            "linecolor": "white",
            "ticks": ""
           },
           "bgcolor": "#E5ECF6",
           "radialaxis": {
            "gridcolor": "white",
            "linecolor": "white",
            "ticks": ""
           }
          },
          "scene": {
           "xaxis": {
            "backgroundcolor": "#E5ECF6",
            "gridcolor": "white",
            "gridwidth": 2,
            "linecolor": "white",
            "showbackground": true,
            "ticks": "",
            "zerolinecolor": "white"
           },
           "yaxis": {
            "backgroundcolor": "#E5ECF6",
            "gridcolor": "white",
            "gridwidth": 2,
            "linecolor": "white",
            "showbackground": true,
            "ticks": "",
            "zerolinecolor": "white"
           },
           "zaxis": {
            "backgroundcolor": "#E5ECF6",
            "gridcolor": "white",
            "gridwidth": 2,
            "linecolor": "white",
            "showbackground": true,
            "ticks": "",
            "zerolinecolor": "white"
           }
          },
          "shapedefaults": {
           "line": {
            "color": "#2a3f5f"
           }
          },
          "ternary": {
           "aaxis": {
            "gridcolor": "white",
            "linecolor": "white",
            "ticks": ""
           },
           "baxis": {
            "gridcolor": "white",
            "linecolor": "white",
            "ticks": ""
           },
           "bgcolor": "#E5ECF6",
           "caxis": {
            "gridcolor": "white",
            "linecolor": "white",
            "ticks": ""
           }
          },
          "title": {
           "x": 0.05
          },
          "xaxis": {
           "automargin": true,
           "gridcolor": "white",
           "linecolor": "white",
           "ticks": "",
           "title": {
            "standoff": 15
           },
           "zerolinecolor": "white",
           "zerolinewidth": 2
          },
          "yaxis": {
           "automargin": true,
           "gridcolor": "white",
           "linecolor": "white",
           "ticks": "",
           "title": {
            "standoff": 15
           },
           "zerolinecolor": "white",
           "zerolinewidth": 2
          }
         }
        },
        "title": {
         "text": "Frequency of actions by type"
        }
       }
      },
      "text/html": [
       "<div>                            <div id=\"27e5f3bb-948b-4c40-a260-30b47fb4eb32\" class=\"plotly-graph-div\" style=\"height:525px; width:100%;\"></div>            <script type=\"text/javascript\">                require([\"plotly\"], function(Plotly) {                    window.PLOTLYENV=window.PLOTLYENV || {};                                    if (document.getElementById(\"27e5f3bb-948b-4c40-a260-30b47fb4eb32\")) {                    Plotly.newPlot(                        \"27e5f3bb-948b-4c40-a260-30b47fb4eb32\",                        [{\"domain\":{\"x\":[0.0,1.0],\"y\":[0.0,1.0]},\"hovertemplate\":\"index=%{label}<br>Frequency=%{value}<extra></extra>\",\"labels\":[\"NB line switched\",\"NB topological change\",\"NB redispatching\",\"NB storage changes\",\"NB curtailment\"],\"legendgroup\":\"\",\"name\":\"\",\"showlegend\":true,\"values\":[0,242,0,0,0],\"type\":\"pie\",\"textinfo\":\"percent+label\",\"textposition\":\"inside\"}],                        {\"template\":{\"data\":{\"bar\":[{\"error_x\":{\"color\":\"#2a3f5f\"},\"error_y\":{\"color\":\"#2a3f5f\"},\"marker\":{\"line\":{\"color\":\"#E5ECF6\",\"width\":0.5},\"pattern\":{\"fillmode\":\"overlay\",\"size\":10,\"solidity\":0.2}},\"type\":\"bar\"}],\"barpolar\":[{\"marker\":{\"line\":{\"color\":\"#E5ECF6\",\"width\":0.5},\"pattern\":{\"fillmode\":\"overlay\",\"size\":10,\"solidity\":0.2}},\"type\":\"barpolar\"}],\"carpet\":[{\"aaxis\":{\"endlinecolor\":\"#2a3f5f\",\"gridcolor\":\"white\",\"linecolor\":\"white\",\"minorgridcolor\":\"white\",\"startlinecolor\":\"#2a3f5f\"},\"baxis\":{\"endlinecolor\":\"#2a3f5f\",\"gridcolor\":\"white\",\"linecolor\":\"white\",\"minorgridcolor\":\"white\",\"startlinecolor\":\"#2a3f5f\"},\"type\":\"carpet\"}],\"choropleth\":[{\"colorbar\":{\"outlinewidth\":0,\"ticks\":\"\"},\"type\":\"choropleth\"}],\"contour\":[{\"colorbar\":{\"outlinewidth\":0,\"ticks\":\"\"},\"colorscale\":[[0.0,\"#0d0887\"],[0.1111111111111111,\"#46039f\"],[0.2222222222222222,\"#7201a8\"],[0.3333333333333333,\"#9c179e\"],[0.4444444444444444,\"#bd3786\"],[0.5555555555555556,\"#d8576b\"],[0.6666666666666666,\"#ed7953\"],[0.7777777777777778,\"#fb9f3a\"],[0.8888888888888888,\"#fdca26\"],[1.0,\"#f0f921\"]],\"type\":\"contour\"}],\"contourcarpet\":[{\"colorbar\":{\"outlinewidth\":0,\"ticks\":\"\"},\"type\":\"contourcarpet\"}],\"heatmap\":[{\"colorbar\":{\"outlinewidth\":0,\"ticks\":\"\"},\"colorscale\":[[0.0,\"#0d0887\"],[0.1111111111111111,\"#46039f\"],[0.2222222222222222,\"#7201a8\"],[0.3333333333333333,\"#9c179e\"],[0.4444444444444444,\"#bd3786\"],[0.5555555555555556,\"#d8576b\"],[0.6666666666666666,\"#ed7953\"],[0.7777777777777778,\"#fb9f3a\"],[0.8888888888888888,\"#fdca26\"],[1.0,\"#f0f921\"]],\"type\":\"heatmap\"}],\"heatmapgl\":[{\"colorbar\":{\"outlinewidth\":0,\"ticks\":\"\"},\"colorscale\":[[0.0,\"#0d0887\"],[0.1111111111111111,\"#46039f\"],[0.2222222222222222,\"#7201a8\"],[0.3333333333333333,\"#9c179e\"],[0.4444444444444444,\"#bd3786\"],[0.5555555555555556,\"#d8576b\"],[0.6666666666666666,\"#ed7953\"],[0.7777777777777778,\"#fb9f3a\"],[0.8888888888888888,\"#fdca26\"],[1.0,\"#f0f921\"]],\"type\":\"heatmapgl\"}],\"histogram\":[{\"marker\":{\"pattern\":{\"fillmode\":\"overlay\",\"size\":10,\"solidity\":0.2}},\"type\":\"histogram\"}],\"histogram2d\":[{\"colorbar\":{\"outlinewidth\":0,\"ticks\":\"\"},\"colorscale\":[[0.0,\"#0d0887\"],[0.1111111111111111,\"#46039f\"],[0.2222222222222222,\"#7201a8\"],[0.3333333333333333,\"#9c179e\"],[0.4444444444444444,\"#bd3786\"],[0.5555555555555556,\"#d8576b\"],[0.6666666666666666,\"#ed7953\"],[0.7777777777777778,\"#fb9f3a\"],[0.8888888888888888,\"#fdca26\"],[1.0,\"#f0f921\"]],\"type\":\"histogram2d\"}],\"histogram2dcontour\":[{\"colorbar\":{\"outlinewidth\":0,\"ticks\":\"\"},\"colorscale\":[[0.0,\"#0d0887\"],[0.1111111111111111,\"#46039f\"],[0.2222222222222222,\"#7201a8\"],[0.3333333333333333,\"#9c179e\"],[0.4444444444444444,\"#bd3786\"],[0.5555555555555556,\"#d8576b\"],[0.6666666666666666,\"#ed7953\"],[0.7777777777777778,\"#fb9f3a\"],[0.8888888888888888,\"#fdca26\"],[1.0,\"#f0f921\"]],\"type\":\"histogram2dcontour\"}],\"mesh3d\":[{\"colorbar\":{\"outlinewidth\":0,\"ticks\":\"\"},\"type\":\"mesh3d\"}],\"parcoords\":[{\"line\":{\"colorbar\":{\"outlinewidth\":0,\"ticks\":\"\"}},\"type\":\"parcoords\"}],\"pie\":[{\"automargin\":true,\"type\":\"pie\"}],\"scatter\":[{\"marker\":{\"colorbar\":{\"outlinewidth\":0,\"ticks\":\"\"}},\"type\":\"scatter\"}],\"scatter3d\":[{\"line\":{\"colorbar\":{\"outlinewidth\":0,\"ticks\":\"\"}},\"marker\":{\"colorbar\":{\"outlinewidth\":0,\"ticks\":\"\"}},\"type\":\"scatter3d\"}],\"scattercarpet\":[{\"marker\":{\"colorbar\":{\"outlinewidth\":0,\"ticks\":\"\"}},\"type\":\"scattercarpet\"}],\"scattergeo\":[{\"marker\":{\"colorbar\":{\"outlinewidth\":0,\"ticks\":\"\"}},\"type\":\"scattergeo\"}],\"scattergl\":[{\"marker\":{\"colorbar\":{\"outlinewidth\":0,\"ticks\":\"\"}},\"type\":\"scattergl\"}],\"scattermapbox\":[{\"marker\":{\"colorbar\":{\"outlinewidth\":0,\"ticks\":\"\"}},\"type\":\"scattermapbox\"}],\"scatterpolar\":[{\"marker\":{\"colorbar\":{\"outlinewidth\":0,\"ticks\":\"\"}},\"type\":\"scatterpolar\"}],\"scatterpolargl\":[{\"marker\":{\"colorbar\":{\"outlinewidth\":0,\"ticks\":\"\"}},\"type\":\"scatterpolargl\"}],\"scatterternary\":[{\"marker\":{\"colorbar\":{\"outlinewidth\":0,\"ticks\":\"\"}},\"type\":\"scatterternary\"}],\"surface\":[{\"colorbar\":{\"outlinewidth\":0,\"ticks\":\"\"},\"colorscale\":[[0.0,\"#0d0887\"],[0.1111111111111111,\"#46039f\"],[0.2222222222222222,\"#7201a8\"],[0.3333333333333333,\"#9c179e\"],[0.4444444444444444,\"#bd3786\"],[0.5555555555555556,\"#d8576b\"],[0.6666666666666666,\"#ed7953\"],[0.7777777777777778,\"#fb9f3a\"],[0.8888888888888888,\"#fdca26\"],[1.0,\"#f0f921\"]],\"type\":\"surface\"}],\"table\":[{\"cells\":{\"fill\":{\"color\":\"#EBF0F8\"},\"line\":{\"color\":\"white\"}},\"header\":{\"fill\":{\"color\":\"#C8D4E3\"},\"line\":{\"color\":\"white\"}},\"type\":\"table\"}]},\"layout\":{\"annotationdefaults\":{\"arrowcolor\":\"#2a3f5f\",\"arrowhead\":0,\"arrowwidth\":1},\"autotypenumbers\":\"strict\",\"coloraxis\":{\"colorbar\":{\"outlinewidth\":0,\"ticks\":\"\"}},\"colorscale\":{\"diverging\":[[0,\"#8e0152\"],[0.1,\"#c51b7d\"],[0.2,\"#de77ae\"],[0.3,\"#f1b6da\"],[0.4,\"#fde0ef\"],[0.5,\"#f7f7f7\"],[0.6,\"#e6f5d0\"],[0.7,\"#b8e186\"],[0.8,\"#7fbc41\"],[0.9,\"#4d9221\"],[1,\"#276419\"]],\"sequential\":[[0.0,\"#0d0887\"],[0.1111111111111111,\"#46039f\"],[0.2222222222222222,\"#7201a8\"],[0.3333333333333333,\"#9c179e\"],[0.4444444444444444,\"#bd3786\"],[0.5555555555555556,\"#d8576b\"],[0.6666666666666666,\"#ed7953\"],[0.7777777777777778,\"#fb9f3a\"],[0.8888888888888888,\"#fdca26\"],[1.0,\"#f0f921\"]],\"sequentialminus\":[[0.0,\"#0d0887\"],[0.1111111111111111,\"#46039f\"],[0.2222222222222222,\"#7201a8\"],[0.3333333333333333,\"#9c179e\"],[0.4444444444444444,\"#bd3786\"],[0.5555555555555556,\"#d8576b\"],[0.6666666666666666,\"#ed7953\"],[0.7777777777777778,\"#fb9f3a\"],[0.8888888888888888,\"#fdca26\"],[1.0,\"#f0f921\"]]},\"colorway\":[\"#636efa\",\"#EF553B\",\"#00cc96\",\"#ab63fa\",\"#FFA15A\",\"#19d3f3\",\"#FF6692\",\"#B6E880\",\"#FF97FF\",\"#FECB52\"],\"font\":{\"color\":\"#2a3f5f\"},\"geo\":{\"bgcolor\":\"white\",\"lakecolor\":\"white\",\"landcolor\":\"#E5ECF6\",\"showlakes\":true,\"showland\":true,\"subunitcolor\":\"white\"},\"hoverlabel\":{\"align\":\"left\"},\"hovermode\":\"closest\",\"mapbox\":{\"style\":\"light\"},\"paper_bgcolor\":\"white\",\"plot_bgcolor\":\"#E5ECF6\",\"polar\":{\"angularaxis\":{\"gridcolor\":\"white\",\"linecolor\":\"white\",\"ticks\":\"\"},\"bgcolor\":\"#E5ECF6\",\"radialaxis\":{\"gridcolor\":\"white\",\"linecolor\":\"white\",\"ticks\":\"\"}},\"scene\":{\"xaxis\":{\"backgroundcolor\":\"#E5ECF6\",\"gridcolor\":\"white\",\"gridwidth\":2,\"linecolor\":\"white\",\"showbackground\":true,\"ticks\":\"\",\"zerolinecolor\":\"white\"},\"yaxis\":{\"backgroundcolor\":\"#E5ECF6\",\"gridcolor\":\"white\",\"gridwidth\":2,\"linecolor\":\"white\",\"showbackground\":true,\"ticks\":\"\",\"zerolinecolor\":\"white\"},\"zaxis\":{\"backgroundcolor\":\"#E5ECF6\",\"gridcolor\":\"white\",\"gridwidth\":2,\"linecolor\":\"white\",\"showbackground\":true,\"ticks\":\"\",\"zerolinecolor\":\"white\"}},\"shapedefaults\":{\"line\":{\"color\":\"#2a3f5f\"}},\"ternary\":{\"aaxis\":{\"gridcolor\":\"white\",\"linecolor\":\"white\",\"ticks\":\"\"},\"baxis\":{\"gridcolor\":\"white\",\"linecolor\":\"white\",\"ticks\":\"\"},\"bgcolor\":\"#E5ECF6\",\"caxis\":{\"gridcolor\":\"white\",\"linecolor\":\"white\",\"ticks\":\"\"}},\"title\":{\"x\":0.05},\"xaxis\":{\"automargin\":true,\"gridcolor\":\"white\",\"linecolor\":\"white\",\"ticks\":\"\",\"title\":{\"standoff\":15},\"zerolinecolor\":\"white\",\"zerolinewidth\":2},\"yaxis\":{\"automargin\":true,\"gridcolor\":\"white\",\"linecolor\":\"white\",\"ticks\":\"\",\"title\":{\"standoff\":15},\"zerolinecolor\":\"white\",\"zerolinewidth\":2}}},\"legend\":{\"tracegroupgap\":0},\"title\":{\"text\":\"Frequency of actions by type\"}},                        {\"responsive\": true}                    ).then(function(){\n",
       "                            \n",
       "var gd = document.getElementById('27e5f3bb-948b-4c40-a260-30b47fb4eb32');\n",
       "var x = new MutationObserver(function (mutations, observer) {{\n",
       "        var display = window.getComputedStyle(gd).display;\n",
       "        if (!display || display === 'none') {{\n",
       "            console.log([gd, 'removed!']);\n",
       "            Plotly.purge(gd);\n",
       "            observer.disconnect();\n",
       "        }}\n",
       "}});\n",
       "\n",
       "// Listen for the removal of the full notebook cells\n",
       "var notebookContainer = gd.closest('#notebook-container');\n",
       "if (notebookContainer) {{\n",
       "    x.observe(notebookContainer, {childList: true});\n",
       "}}\n",
       "\n",
       "// Listen for the clearing of the current output cell\n",
       "var outputEl = gd.closest('.output');\n",
       "if (outputEl) {{\n",
       "    x.observe(outputEl, {childList: true});\n",
       "}}\n",
       "\n",
       "                        })                };                });            </script>        </div>"
      ]
     },
     "metadata": {},
     "output_type": "display_data"
    }
   ],
   "source": [
    "episodes_plot.plot_actions_freq_by_type(episodes_names=[\"dec16_1\", \"dec16_2\"])"
   ]
  },
  {
   "cell_type": "code",
   "execution_count": 13,
   "metadata": {
    "pycharm": {
     "name": "#%%\n"
    }
   },
   "outputs": [
    {
     "name": "stderr",
     "output_type": "stream",
     "text": [
      "100%|██████████| 24/24 [00:00<00:00, 710.38it/s]\n"
     ]
    },
    {
     "data": {
      "application/vnd.plotly.v1+json": {
       "config": {
        "plotlyServerURL": "https://plot.ly"
       },
       "data": [
        {
         "alignmentgroup": "True",
         "cliponaxis": false,
         "hovertemplate": "variable=Overloaded<br>Line name=%{x}<br>Frequency=%{y}<extra></extra>",
         "legendgroup": "Overloaded",
         "marker": {
          "color": "#636efa",
          "pattern": {
           "shape": ""
          }
         },
         "name": "Overloaded",
         "offsetgroup": "Overloaded",
         "orientation": "v",
         "showlegend": true,
         "textangle": 0,
         "textfont": {
          "size": 12
         },
         "textposition": "auto",
         "texttemplate": "%{y:.2s}",
         "type": "bar",
         "x": [
          "34_35_110",
          "36_38_115",
          "38_39_119",
          "42_43_123",
          "43_44_125",
          "44_45_126",
          "44_48_133",
          "48_50_136",
          "48_53_142",
          "53_54_143",
          "53_55_144",
          "54_55_145",
          "55_56_146",
          "55_57_148",
          "50_57_149",
          "53_58_150",
          "55_58_152",
          "55_58_153",
          "54_58_154",
          "58_59_155",
          "58_60_156",
          "59_60_157",
          "59_61_158",
          "62_63_160",
          "48_65_164",
          "61_65_166",
          "61_66_167",
          "46_68_169"
         ],
         "xaxis": "x",
         "y": [
          6,
          2,
          2,
          1,
          3,
          0,
          13,
          2,
          5,
          5,
          1,
          7,
          3,
          20,
          7,
          1,
          1,
          6,
          14,
          4,
          3,
          2,
          1,
          0,
          1,
          1,
          5,
          1
         ],
         "yaxis": "y"
        },
        {
         "alignmentgroup": "True",
         "cliponaxis": false,
         "hovertemplate": "variable=Disconnected<br>Line name=%{x}<br>Frequency=%{y}<extra></extra>",
         "legendgroup": "Disconnected",
         "marker": {
          "color": "#EF553B",
          "pattern": {
           "shape": ""
          }
         },
         "name": "Disconnected",
         "offsetgroup": "Disconnected",
         "orientation": "v",
         "showlegend": true,
         "textangle": 0,
         "textfont": {
          "size": 12
         },
         "textposition": "auto",
         "texttemplate": "%{y:.2s}",
         "type": "bar",
         "x": [
          "34_35_110",
          "36_38_115",
          "38_39_119",
          "42_43_123",
          "43_44_125",
          "44_45_126",
          "44_48_133",
          "48_50_136",
          "48_53_142",
          "53_54_143",
          "53_55_144",
          "54_55_145",
          "55_56_146",
          "55_57_148",
          "50_57_149",
          "53_58_150",
          "55_58_152",
          "55_58_153",
          "54_58_154",
          "58_59_155",
          "58_60_156",
          "59_60_157",
          "59_61_158",
          "62_63_160",
          "48_65_164",
          "61_65_166",
          "61_66_167",
          "46_68_169"
         ],
         "xaxis": "x",
         "y": [
          87,
          0,
          0,
          0,
          0,
          96,
          0,
          73,
          0,
          0,
          0,
          0,
          0,
          0,
          0,
          0,
          0,
          0,
          96,
          0,
          0,
          0,
          0,
          48,
          0,
          0,
          0,
          0
         ],
         "yaxis": "y"
        }
       ],
       "layout": {
        "barmode": "relative",
        "legend": {
         "title": {
          "text": "variable"
         },
         "tracegroupgap": 0
        },
        "template": {
         "data": {
          "bar": [
           {
            "error_x": {
             "color": "#2a3f5f"
            },
            "error_y": {
             "color": "#2a3f5f"
            },
            "marker": {
             "line": {
              "color": "#E5ECF6",
              "width": 0.5
             },
             "pattern": {
              "fillmode": "overlay",
              "size": 10,
              "solidity": 0.2
             }
            },
            "type": "bar"
           }
          ],
          "barpolar": [
           {
            "marker": {
             "line": {
              "color": "#E5ECF6",
              "width": 0.5
             },
             "pattern": {
              "fillmode": "overlay",
              "size": 10,
              "solidity": 0.2
             }
            },
            "type": "barpolar"
           }
          ],
          "carpet": [
           {
            "aaxis": {
             "endlinecolor": "#2a3f5f",
             "gridcolor": "white",
             "linecolor": "white",
             "minorgridcolor": "white",
             "startlinecolor": "#2a3f5f"
            },
            "baxis": {
             "endlinecolor": "#2a3f5f",
             "gridcolor": "white",
             "linecolor": "white",
             "minorgridcolor": "white",
             "startlinecolor": "#2a3f5f"
            },
            "type": "carpet"
           }
          ],
          "choropleth": [
           {
            "colorbar": {
             "outlinewidth": 0,
             "ticks": ""
            },
            "type": "choropleth"
           }
          ],
          "contour": [
           {
            "colorbar": {
             "outlinewidth": 0,
             "ticks": ""
            },
            "colorscale": [
             [
              0,
              "#0d0887"
             ],
             [
              0.1111111111111111,
              "#46039f"
             ],
             [
              0.2222222222222222,
              "#7201a8"
             ],
             [
              0.3333333333333333,
              "#9c179e"
             ],
             [
              0.4444444444444444,
              "#bd3786"
             ],
             [
              0.5555555555555556,
              "#d8576b"
             ],
             [
              0.6666666666666666,
              "#ed7953"
             ],
             [
              0.7777777777777778,
              "#fb9f3a"
             ],
             [
              0.8888888888888888,
              "#fdca26"
             ],
             [
              1,
              "#f0f921"
             ]
            ],
            "type": "contour"
           }
          ],
          "contourcarpet": [
           {
            "colorbar": {
             "outlinewidth": 0,
             "ticks": ""
            },
            "type": "contourcarpet"
           }
          ],
          "heatmap": [
           {
            "colorbar": {
             "outlinewidth": 0,
             "ticks": ""
            },
            "colorscale": [
             [
              0,
              "#0d0887"
             ],
             [
              0.1111111111111111,
              "#46039f"
             ],
             [
              0.2222222222222222,
              "#7201a8"
             ],
             [
              0.3333333333333333,
              "#9c179e"
             ],
             [
              0.4444444444444444,
              "#bd3786"
             ],
             [
              0.5555555555555556,
              "#d8576b"
             ],
             [
              0.6666666666666666,
              "#ed7953"
             ],
             [
              0.7777777777777778,
              "#fb9f3a"
             ],
             [
              0.8888888888888888,
              "#fdca26"
             ],
             [
              1,
              "#f0f921"
             ]
            ],
            "type": "heatmap"
           }
          ],
          "heatmapgl": [
           {
            "colorbar": {
             "outlinewidth": 0,
             "ticks": ""
            },
            "colorscale": [
             [
              0,
              "#0d0887"
             ],
             [
              0.1111111111111111,
              "#46039f"
             ],
             [
              0.2222222222222222,
              "#7201a8"
             ],
             [
              0.3333333333333333,
              "#9c179e"
             ],
             [
              0.4444444444444444,
              "#bd3786"
             ],
             [
              0.5555555555555556,
              "#d8576b"
             ],
             [
              0.6666666666666666,
              "#ed7953"
             ],
             [
              0.7777777777777778,
              "#fb9f3a"
             ],
             [
              0.8888888888888888,
              "#fdca26"
             ],
             [
              1,
              "#f0f921"
             ]
            ],
            "type": "heatmapgl"
           }
          ],
          "histogram": [
           {
            "marker": {
             "pattern": {
              "fillmode": "overlay",
              "size": 10,
              "solidity": 0.2
             }
            },
            "type": "histogram"
           }
          ],
          "histogram2d": [
           {
            "colorbar": {
             "outlinewidth": 0,
             "ticks": ""
            },
            "colorscale": [
             [
              0,
              "#0d0887"
             ],
             [
              0.1111111111111111,
              "#46039f"
             ],
             [
              0.2222222222222222,
              "#7201a8"
             ],
             [
              0.3333333333333333,
              "#9c179e"
             ],
             [
              0.4444444444444444,
              "#bd3786"
             ],
             [
              0.5555555555555556,
              "#d8576b"
             ],
             [
              0.6666666666666666,
              "#ed7953"
             ],
             [
              0.7777777777777778,
              "#fb9f3a"
             ],
             [
              0.8888888888888888,
              "#fdca26"
             ],
             [
              1,
              "#f0f921"
             ]
            ],
            "type": "histogram2d"
           }
          ],
          "histogram2dcontour": [
           {
            "colorbar": {
             "outlinewidth": 0,
             "ticks": ""
            },
            "colorscale": [
             [
              0,
              "#0d0887"
             ],
             [
              0.1111111111111111,
              "#46039f"
             ],
             [
              0.2222222222222222,
              "#7201a8"
             ],
             [
              0.3333333333333333,
              "#9c179e"
             ],
             [
              0.4444444444444444,
              "#bd3786"
             ],
             [
              0.5555555555555556,
              "#d8576b"
             ],
             [
              0.6666666666666666,
              "#ed7953"
             ],
             [
              0.7777777777777778,
              "#fb9f3a"
             ],
             [
              0.8888888888888888,
              "#fdca26"
             ],
             [
              1,
              "#f0f921"
             ]
            ],
            "type": "histogram2dcontour"
           }
          ],
          "mesh3d": [
           {
            "colorbar": {
             "outlinewidth": 0,
             "ticks": ""
            },
            "type": "mesh3d"
           }
          ],
          "parcoords": [
           {
            "line": {
             "colorbar": {
              "outlinewidth": 0,
              "ticks": ""
             }
            },
            "type": "parcoords"
           }
          ],
          "pie": [
           {
            "automargin": true,
            "type": "pie"
           }
          ],
          "scatter": [
           {
            "marker": {
             "colorbar": {
              "outlinewidth": 0,
              "ticks": ""
             }
            },
            "type": "scatter"
           }
          ],
          "scatter3d": [
           {
            "line": {
             "colorbar": {
              "outlinewidth": 0,
              "ticks": ""
             }
            },
            "marker": {
             "colorbar": {
              "outlinewidth": 0,
              "ticks": ""
             }
            },
            "type": "scatter3d"
           }
          ],
          "scattercarpet": [
           {
            "marker": {
             "colorbar": {
              "outlinewidth": 0,
              "ticks": ""
             }
            },
            "type": "scattercarpet"
           }
          ],
          "scattergeo": [
           {
            "marker": {
             "colorbar": {
              "outlinewidth": 0,
              "ticks": ""
             }
            },
            "type": "scattergeo"
           }
          ],
          "scattergl": [
           {
            "marker": {
             "colorbar": {
              "outlinewidth": 0,
              "ticks": ""
             }
            },
            "type": "scattergl"
           }
          ],
          "scattermapbox": [
           {
            "marker": {
             "colorbar": {
              "outlinewidth": 0,
              "ticks": ""
             }
            },
            "type": "scattermapbox"
           }
          ],
          "scatterpolar": [
           {
            "marker": {
             "colorbar": {
              "outlinewidth": 0,
              "ticks": ""
             }
            },
            "type": "scatterpolar"
           }
          ],
          "scatterpolargl": [
           {
            "marker": {
             "colorbar": {
              "outlinewidth": 0,
              "ticks": ""
             }
            },
            "type": "scatterpolargl"
           }
          ],
          "scatterternary": [
           {
            "marker": {
             "colorbar": {
              "outlinewidth": 0,
              "ticks": ""
             }
            },
            "type": "scatterternary"
           }
          ],
          "surface": [
           {
            "colorbar": {
             "outlinewidth": 0,
             "ticks": ""
            },
            "colorscale": [
             [
              0,
              "#0d0887"
             ],
             [
              0.1111111111111111,
              "#46039f"
             ],
             [
              0.2222222222222222,
              "#7201a8"
             ],
             [
              0.3333333333333333,
              "#9c179e"
             ],
             [
              0.4444444444444444,
              "#bd3786"
             ],
             [
              0.5555555555555556,
              "#d8576b"
             ],
             [
              0.6666666666666666,
              "#ed7953"
             ],
             [
              0.7777777777777778,
              "#fb9f3a"
             ],
             [
              0.8888888888888888,
              "#fdca26"
             ],
             [
              1,
              "#f0f921"
             ]
            ],
            "type": "surface"
           }
          ],
          "table": [
           {
            "cells": {
             "fill": {
              "color": "#EBF0F8"
             },
             "line": {
              "color": "white"
             }
            },
            "header": {
             "fill": {
              "color": "#C8D4E3"
             },
             "line": {
              "color": "white"
             }
            },
            "type": "table"
           }
          ]
         },
         "layout": {
          "annotationdefaults": {
           "arrowcolor": "#2a3f5f",
           "arrowhead": 0,
           "arrowwidth": 1
          },
          "autotypenumbers": "strict",
          "coloraxis": {
           "colorbar": {
            "outlinewidth": 0,
            "ticks": ""
           }
          },
          "colorscale": {
           "diverging": [
            [
             0,
             "#8e0152"
            ],
            [
             0.1,
             "#c51b7d"
            ],
            [
             0.2,
             "#de77ae"
            ],
            [
             0.3,
             "#f1b6da"
            ],
            [
             0.4,
             "#fde0ef"
            ],
            [
             0.5,
             "#f7f7f7"
            ],
            [
             0.6,
             "#e6f5d0"
            ],
            [
             0.7,
             "#b8e186"
            ],
            [
             0.8,
             "#7fbc41"
            ],
            [
             0.9,
             "#4d9221"
            ],
            [
             1,
             "#276419"
            ]
           ],
           "sequential": [
            [
             0,
             "#0d0887"
            ],
            [
             0.1111111111111111,
             "#46039f"
            ],
            [
             0.2222222222222222,
             "#7201a8"
            ],
            [
             0.3333333333333333,
             "#9c179e"
            ],
            [
             0.4444444444444444,
             "#bd3786"
            ],
            [
             0.5555555555555556,
             "#d8576b"
            ],
            [
             0.6666666666666666,
             "#ed7953"
            ],
            [
             0.7777777777777778,
             "#fb9f3a"
            ],
            [
             0.8888888888888888,
             "#fdca26"
            ],
            [
             1,
             "#f0f921"
            ]
           ],
           "sequentialminus": [
            [
             0,
             "#0d0887"
            ],
            [
             0.1111111111111111,
             "#46039f"
            ],
            [
             0.2222222222222222,
             "#7201a8"
            ],
            [
             0.3333333333333333,
             "#9c179e"
            ],
            [
             0.4444444444444444,
             "#bd3786"
            ],
            [
             0.5555555555555556,
             "#d8576b"
            ],
            [
             0.6666666666666666,
             "#ed7953"
            ],
            [
             0.7777777777777778,
             "#fb9f3a"
            ],
            [
             0.8888888888888888,
             "#fdca26"
            ],
            [
             1,
             "#f0f921"
            ]
           ]
          },
          "colorway": [
           "#636efa",
           "#EF553B",
           "#00cc96",
           "#ab63fa",
           "#FFA15A",
           "#19d3f3",
           "#FF6692",
           "#B6E880",
           "#FF97FF",
           "#FECB52"
          ],
          "font": {
           "color": "#2a3f5f"
          },
          "geo": {
           "bgcolor": "white",
           "lakecolor": "white",
           "landcolor": "#E5ECF6",
           "showlakes": true,
           "showland": true,
           "subunitcolor": "white"
          },
          "hoverlabel": {
           "align": "left"
          },
          "hovermode": "closest",
          "mapbox": {
           "style": "light"
          },
          "paper_bgcolor": "white",
          "plot_bgcolor": "#E5ECF6",
          "polar": {
           "angularaxis": {
            "gridcolor": "white",
            "linecolor": "white",
            "ticks": ""
           },
           "bgcolor": "#E5ECF6",
           "radialaxis": {
            "gridcolor": "white",
            "linecolor": "white",
            "ticks": ""
           }
          },
          "scene": {
           "xaxis": {
            "backgroundcolor": "#E5ECF6",
            "gridcolor": "white",
            "gridwidth": 2,
            "linecolor": "white",
            "showbackground": true,
            "ticks": "",
            "zerolinecolor": "white"
           },
           "yaxis": {
            "backgroundcolor": "#E5ECF6",
            "gridcolor": "white",
            "gridwidth": 2,
            "linecolor": "white",
            "showbackground": true,
            "ticks": "",
            "zerolinecolor": "white"
           },
           "zaxis": {
            "backgroundcolor": "#E5ECF6",
            "gridcolor": "white",
            "gridwidth": 2,
            "linecolor": "white",
            "showbackground": true,
            "ticks": "",
            "zerolinecolor": "white"
           }
          },
          "shapedefaults": {
           "line": {
            "color": "#2a3f5f"
           }
          },
          "ternary": {
           "aaxis": {
            "gridcolor": "white",
            "linecolor": "white",
            "ticks": ""
           },
           "baxis": {
            "gridcolor": "white",
            "linecolor": "white",
            "ticks": ""
           },
           "bgcolor": "#E5ECF6",
           "caxis": {
            "gridcolor": "white",
            "linecolor": "white",
            "ticks": ""
           }
          },
          "title": {
           "x": 0.05
          },
          "xaxis": {
           "automargin": true,
           "gridcolor": "white",
           "linecolor": "white",
           "ticks": "",
           "title": {
            "standoff": 15
           },
           "zerolinecolor": "white",
           "zerolinewidth": 2
          },
          "yaxis": {
           "automargin": true,
           "gridcolor": "white",
           "linecolor": "white",
           "ticks": "",
           "title": {
            "standoff": 15
           },
           "zerolinecolor": "white",
           "zerolinewidth": 2
          }
         }
        },
        "title": {
         "text": "Frequency of overloaded and disconnected lines"
        },
        "xaxis": {
         "anchor": "y",
         "domain": [
          0,
          1
         ],
         "title": {
          "text": "Line name"
         }
        },
        "yaxis": {
         "anchor": "x",
         "domain": [
          0,
          1
         ],
         "title": {
          "text": "Frequency"
         }
        }
       }
      },
      "text/html": [
       "<div>                            <div id=\"ffd35beb-7484-4a51-97f7-65d63f43caf7\" class=\"plotly-graph-div\" style=\"height:525px; width:100%;\"></div>            <script type=\"text/javascript\">                require([\"plotly\"], function(Plotly) {                    window.PLOTLYENV=window.PLOTLYENV || {};                                    if (document.getElementById(\"ffd35beb-7484-4a51-97f7-65d63f43caf7\")) {                    Plotly.newPlot(                        \"ffd35beb-7484-4a51-97f7-65d63f43caf7\",                        [{\"alignmentgroup\":\"True\",\"hovertemplate\":\"variable=Overloaded<br>Line name=%{x}<br>Frequency=%{y}<extra></extra>\",\"legendgroup\":\"Overloaded\",\"marker\":{\"color\":\"#636efa\",\"pattern\":{\"shape\":\"\"}},\"name\":\"Overloaded\",\"offsetgroup\":\"Overloaded\",\"orientation\":\"v\",\"showlegend\":true,\"textposition\":\"auto\",\"texttemplate\":\"%{y:.2s}\",\"x\":[\"34_35_110\",\"36_38_115\",\"38_39_119\",\"42_43_123\",\"43_44_125\",\"44_45_126\",\"44_48_133\",\"48_50_136\",\"48_53_142\",\"53_54_143\",\"53_55_144\",\"54_55_145\",\"55_56_146\",\"55_57_148\",\"50_57_149\",\"53_58_150\",\"55_58_152\",\"55_58_153\",\"54_58_154\",\"58_59_155\",\"58_60_156\",\"59_60_157\",\"59_61_158\",\"62_63_160\",\"48_65_164\",\"61_65_166\",\"61_66_167\",\"46_68_169\"],\"xaxis\":\"x\",\"y\":[6,2,2,1,3,0,13,2,5,5,1,7,3,20,7,1,1,6,14,4,3,2,1,0,1,1,5,1],\"yaxis\":\"y\",\"type\":\"bar\",\"textfont\":{\"size\":12},\"cliponaxis\":false,\"textangle\":0},{\"alignmentgroup\":\"True\",\"hovertemplate\":\"variable=Disconnected<br>Line name=%{x}<br>Frequency=%{y}<extra></extra>\",\"legendgroup\":\"Disconnected\",\"marker\":{\"color\":\"#EF553B\",\"pattern\":{\"shape\":\"\"}},\"name\":\"Disconnected\",\"offsetgroup\":\"Disconnected\",\"orientation\":\"v\",\"showlegend\":true,\"textposition\":\"auto\",\"texttemplate\":\"%{y:.2s}\",\"x\":[\"34_35_110\",\"36_38_115\",\"38_39_119\",\"42_43_123\",\"43_44_125\",\"44_45_126\",\"44_48_133\",\"48_50_136\",\"48_53_142\",\"53_54_143\",\"53_55_144\",\"54_55_145\",\"55_56_146\",\"55_57_148\",\"50_57_149\",\"53_58_150\",\"55_58_152\",\"55_58_153\",\"54_58_154\",\"58_59_155\",\"58_60_156\",\"59_60_157\",\"59_61_158\",\"62_63_160\",\"48_65_164\",\"61_65_166\",\"61_66_167\",\"46_68_169\"],\"xaxis\":\"x\",\"y\":[87,0,0,0,0,96,0,73,0,0,0,0,0,0,0,0,0,0,96,0,0,0,0,48,0,0,0,0],\"yaxis\":\"y\",\"type\":\"bar\",\"textfont\":{\"size\":12},\"cliponaxis\":false,\"textangle\":0}],                        {\"template\":{\"data\":{\"bar\":[{\"error_x\":{\"color\":\"#2a3f5f\"},\"error_y\":{\"color\":\"#2a3f5f\"},\"marker\":{\"line\":{\"color\":\"#E5ECF6\",\"width\":0.5},\"pattern\":{\"fillmode\":\"overlay\",\"size\":10,\"solidity\":0.2}},\"type\":\"bar\"}],\"barpolar\":[{\"marker\":{\"line\":{\"color\":\"#E5ECF6\",\"width\":0.5},\"pattern\":{\"fillmode\":\"overlay\",\"size\":10,\"solidity\":0.2}},\"type\":\"barpolar\"}],\"carpet\":[{\"aaxis\":{\"endlinecolor\":\"#2a3f5f\",\"gridcolor\":\"white\",\"linecolor\":\"white\",\"minorgridcolor\":\"white\",\"startlinecolor\":\"#2a3f5f\"},\"baxis\":{\"endlinecolor\":\"#2a3f5f\",\"gridcolor\":\"white\",\"linecolor\":\"white\",\"minorgridcolor\":\"white\",\"startlinecolor\":\"#2a3f5f\"},\"type\":\"carpet\"}],\"choropleth\":[{\"colorbar\":{\"outlinewidth\":0,\"ticks\":\"\"},\"type\":\"choropleth\"}],\"contour\":[{\"colorbar\":{\"outlinewidth\":0,\"ticks\":\"\"},\"colorscale\":[[0.0,\"#0d0887\"],[0.1111111111111111,\"#46039f\"],[0.2222222222222222,\"#7201a8\"],[0.3333333333333333,\"#9c179e\"],[0.4444444444444444,\"#bd3786\"],[0.5555555555555556,\"#d8576b\"],[0.6666666666666666,\"#ed7953\"],[0.7777777777777778,\"#fb9f3a\"],[0.8888888888888888,\"#fdca26\"],[1.0,\"#f0f921\"]],\"type\":\"contour\"}],\"contourcarpet\":[{\"colorbar\":{\"outlinewidth\":0,\"ticks\":\"\"},\"type\":\"contourcarpet\"}],\"heatmap\":[{\"colorbar\":{\"outlinewidth\":0,\"ticks\":\"\"},\"colorscale\":[[0.0,\"#0d0887\"],[0.1111111111111111,\"#46039f\"],[0.2222222222222222,\"#7201a8\"],[0.3333333333333333,\"#9c179e\"],[0.4444444444444444,\"#bd3786\"],[0.5555555555555556,\"#d8576b\"],[0.6666666666666666,\"#ed7953\"],[0.7777777777777778,\"#fb9f3a\"],[0.8888888888888888,\"#fdca26\"],[1.0,\"#f0f921\"]],\"type\":\"heatmap\"}],\"heatmapgl\":[{\"colorbar\":{\"outlinewidth\":0,\"ticks\":\"\"},\"colorscale\":[[0.0,\"#0d0887\"],[0.1111111111111111,\"#46039f\"],[0.2222222222222222,\"#7201a8\"],[0.3333333333333333,\"#9c179e\"],[0.4444444444444444,\"#bd3786\"],[0.5555555555555556,\"#d8576b\"],[0.6666666666666666,\"#ed7953\"],[0.7777777777777778,\"#fb9f3a\"],[0.8888888888888888,\"#fdca26\"],[1.0,\"#f0f921\"]],\"type\":\"heatmapgl\"}],\"histogram\":[{\"marker\":{\"pattern\":{\"fillmode\":\"overlay\",\"size\":10,\"solidity\":0.2}},\"type\":\"histogram\"}],\"histogram2d\":[{\"colorbar\":{\"outlinewidth\":0,\"ticks\":\"\"},\"colorscale\":[[0.0,\"#0d0887\"],[0.1111111111111111,\"#46039f\"],[0.2222222222222222,\"#7201a8\"],[0.3333333333333333,\"#9c179e\"],[0.4444444444444444,\"#bd3786\"],[0.5555555555555556,\"#d8576b\"],[0.6666666666666666,\"#ed7953\"],[0.7777777777777778,\"#fb9f3a\"],[0.8888888888888888,\"#fdca26\"],[1.0,\"#f0f921\"]],\"type\":\"histogram2d\"}],\"histogram2dcontour\":[{\"colorbar\":{\"outlinewidth\":0,\"ticks\":\"\"},\"colorscale\":[[0.0,\"#0d0887\"],[0.1111111111111111,\"#46039f\"],[0.2222222222222222,\"#7201a8\"],[0.3333333333333333,\"#9c179e\"],[0.4444444444444444,\"#bd3786\"],[0.5555555555555556,\"#d8576b\"],[0.6666666666666666,\"#ed7953\"],[0.7777777777777778,\"#fb9f3a\"],[0.8888888888888888,\"#fdca26\"],[1.0,\"#f0f921\"]],\"type\":\"histogram2dcontour\"}],\"mesh3d\":[{\"colorbar\":{\"outlinewidth\":0,\"ticks\":\"\"},\"type\":\"mesh3d\"}],\"parcoords\":[{\"line\":{\"colorbar\":{\"outlinewidth\":0,\"ticks\":\"\"}},\"type\":\"parcoords\"}],\"pie\":[{\"automargin\":true,\"type\":\"pie\"}],\"scatter\":[{\"marker\":{\"colorbar\":{\"outlinewidth\":0,\"ticks\":\"\"}},\"type\":\"scatter\"}],\"scatter3d\":[{\"line\":{\"colorbar\":{\"outlinewidth\":0,\"ticks\":\"\"}},\"marker\":{\"colorbar\":{\"outlinewidth\":0,\"ticks\":\"\"}},\"type\":\"scatter3d\"}],\"scattercarpet\":[{\"marker\":{\"colorbar\":{\"outlinewidth\":0,\"ticks\":\"\"}},\"type\":\"scattercarpet\"}],\"scattergeo\":[{\"marker\":{\"colorbar\":{\"outlinewidth\":0,\"ticks\":\"\"}},\"type\":\"scattergeo\"}],\"scattergl\":[{\"marker\":{\"colorbar\":{\"outlinewidth\":0,\"ticks\":\"\"}},\"type\":\"scattergl\"}],\"scattermapbox\":[{\"marker\":{\"colorbar\":{\"outlinewidth\":0,\"ticks\":\"\"}},\"type\":\"scattermapbox\"}],\"scatterpolar\":[{\"marker\":{\"colorbar\":{\"outlinewidth\":0,\"ticks\":\"\"}},\"type\":\"scatterpolar\"}],\"scatterpolargl\":[{\"marker\":{\"colorbar\":{\"outlinewidth\":0,\"ticks\":\"\"}},\"type\":\"scatterpolargl\"}],\"scatterternary\":[{\"marker\":{\"colorbar\":{\"outlinewidth\":0,\"ticks\":\"\"}},\"type\":\"scatterternary\"}],\"surface\":[{\"colorbar\":{\"outlinewidth\":0,\"ticks\":\"\"},\"colorscale\":[[0.0,\"#0d0887\"],[0.1111111111111111,\"#46039f\"],[0.2222222222222222,\"#7201a8\"],[0.3333333333333333,\"#9c179e\"],[0.4444444444444444,\"#bd3786\"],[0.5555555555555556,\"#d8576b\"],[0.6666666666666666,\"#ed7953\"],[0.7777777777777778,\"#fb9f3a\"],[0.8888888888888888,\"#fdca26\"],[1.0,\"#f0f921\"]],\"type\":\"surface\"}],\"table\":[{\"cells\":{\"fill\":{\"color\":\"#EBF0F8\"},\"line\":{\"color\":\"white\"}},\"header\":{\"fill\":{\"color\":\"#C8D4E3\"},\"line\":{\"color\":\"white\"}},\"type\":\"table\"}]},\"layout\":{\"annotationdefaults\":{\"arrowcolor\":\"#2a3f5f\",\"arrowhead\":0,\"arrowwidth\":1},\"autotypenumbers\":\"strict\",\"coloraxis\":{\"colorbar\":{\"outlinewidth\":0,\"ticks\":\"\"}},\"colorscale\":{\"diverging\":[[0,\"#8e0152\"],[0.1,\"#c51b7d\"],[0.2,\"#de77ae\"],[0.3,\"#f1b6da\"],[0.4,\"#fde0ef\"],[0.5,\"#f7f7f7\"],[0.6,\"#e6f5d0\"],[0.7,\"#b8e186\"],[0.8,\"#7fbc41\"],[0.9,\"#4d9221\"],[1,\"#276419\"]],\"sequential\":[[0.0,\"#0d0887\"],[0.1111111111111111,\"#46039f\"],[0.2222222222222222,\"#7201a8\"],[0.3333333333333333,\"#9c179e\"],[0.4444444444444444,\"#bd3786\"],[0.5555555555555556,\"#d8576b\"],[0.6666666666666666,\"#ed7953\"],[0.7777777777777778,\"#fb9f3a\"],[0.8888888888888888,\"#fdca26\"],[1.0,\"#f0f921\"]],\"sequentialminus\":[[0.0,\"#0d0887\"],[0.1111111111111111,\"#46039f\"],[0.2222222222222222,\"#7201a8\"],[0.3333333333333333,\"#9c179e\"],[0.4444444444444444,\"#bd3786\"],[0.5555555555555556,\"#d8576b\"],[0.6666666666666666,\"#ed7953\"],[0.7777777777777778,\"#fb9f3a\"],[0.8888888888888888,\"#fdca26\"],[1.0,\"#f0f921\"]]},\"colorway\":[\"#636efa\",\"#EF553B\",\"#00cc96\",\"#ab63fa\",\"#FFA15A\",\"#19d3f3\",\"#FF6692\",\"#B6E880\",\"#FF97FF\",\"#FECB52\"],\"font\":{\"color\":\"#2a3f5f\"},\"geo\":{\"bgcolor\":\"white\",\"lakecolor\":\"white\",\"landcolor\":\"#E5ECF6\",\"showlakes\":true,\"showland\":true,\"subunitcolor\":\"white\"},\"hoverlabel\":{\"align\":\"left\"},\"hovermode\":\"closest\",\"mapbox\":{\"style\":\"light\"},\"paper_bgcolor\":\"white\",\"plot_bgcolor\":\"#E5ECF6\",\"polar\":{\"angularaxis\":{\"gridcolor\":\"white\",\"linecolor\":\"white\",\"ticks\":\"\"},\"bgcolor\":\"#E5ECF6\",\"radialaxis\":{\"gridcolor\":\"white\",\"linecolor\":\"white\",\"ticks\":\"\"}},\"scene\":{\"xaxis\":{\"backgroundcolor\":\"#E5ECF6\",\"gridcolor\":\"white\",\"gridwidth\":2,\"linecolor\":\"white\",\"showbackground\":true,\"ticks\":\"\",\"zerolinecolor\":\"white\"},\"yaxis\":{\"backgroundcolor\":\"#E5ECF6\",\"gridcolor\":\"white\",\"gridwidth\":2,\"linecolor\":\"white\",\"showbackground\":true,\"ticks\":\"\",\"zerolinecolor\":\"white\"},\"zaxis\":{\"backgroundcolor\":\"#E5ECF6\",\"gridcolor\":\"white\",\"gridwidth\":2,\"linecolor\":\"white\",\"showbackground\":true,\"ticks\":\"\",\"zerolinecolor\":\"white\"}},\"shapedefaults\":{\"line\":{\"color\":\"#2a3f5f\"}},\"ternary\":{\"aaxis\":{\"gridcolor\":\"white\",\"linecolor\":\"white\",\"ticks\":\"\"},\"baxis\":{\"gridcolor\":\"white\",\"linecolor\":\"white\",\"ticks\":\"\"},\"bgcolor\":\"#E5ECF6\",\"caxis\":{\"gridcolor\":\"white\",\"linecolor\":\"white\",\"ticks\":\"\"}},\"title\":{\"x\":0.05},\"xaxis\":{\"automargin\":true,\"gridcolor\":\"white\",\"linecolor\":\"white\",\"ticks\":\"\",\"title\":{\"standoff\":15},\"zerolinecolor\":\"white\",\"zerolinewidth\":2},\"yaxis\":{\"automargin\":true,\"gridcolor\":\"white\",\"linecolor\":\"white\",\"ticks\":\"\",\"title\":{\"standoff\":15},\"zerolinecolor\":\"white\",\"zerolinewidth\":2}}},\"xaxis\":{\"anchor\":\"y\",\"domain\":[0.0,1.0],\"title\":{\"text\":\"Line name\"}},\"yaxis\":{\"anchor\":\"x\",\"domain\":[0.0,1.0],\"title\":{\"text\":\"Frequency\"}},\"legend\":{\"title\":{\"text\":\"variable\"},\"tracegroupgap\":0},\"title\":{\"text\":\"Frequency of overloaded and disconnected lines\"},\"barmode\":\"relative\"},                        {\"responsive\": true}                    ).then(function(){\n",
       "                            \n",
       "var gd = document.getElementById('ffd35beb-7484-4a51-97f7-65d63f43caf7');\n",
       "var x = new MutationObserver(function (mutations, observer) {{\n",
       "        var display = window.getComputedStyle(gd).display;\n",
       "        if (!display || display === 'none') {{\n",
       "            console.log([gd, 'removed!']);\n",
       "            Plotly.purge(gd);\n",
       "            observer.disconnect();\n",
       "        }}\n",
       "}});\n",
       "\n",
       "// Listen for the removal of the full notebook cells\n",
       "var notebookContainer = gd.closest('#notebook-container');\n",
       "if (notebookContainer) {{\n",
       "    x.observe(notebookContainer, {childList: true});\n",
       "}}\n",
       "\n",
       "// Listen for the clearing of the current output cell\n",
       "var outputEl = gd.closest('.output');\n",
       "if (outputEl) {{\n",
       "    x.observe(outputEl, {childList: true});\n",
       "}}\n",
       "\n",
       "                        })                };                });            </script>        </div>"
      ]
     },
     "metadata": {},
     "output_type": "display_data"
    }
   ],
   "source": [
    "episodes_plot.plot_overloaded_disconnected_lines_freq(episodes_names=[\"dec16_1\", \"dec16_2\"])"
   ]
  },
  {
   "cell_type": "code",
   "execution_count": 15,
   "metadata": {
    "pycharm": {
     "name": "#%%\n"
    }
   },
   "outputs": [
    {
     "ename": "AttributeError",
     "evalue": "'str' object has no attribute 'removeprefix'",
     "output_type": "error",
     "traceback": [
      "\u001b[0;31m---------------------------------------------------------------------------\u001b[0m",
      "\u001b[0;31mAttributeError\u001b[0m                            Traceback (most recent call last)",
      "\u001b[0;32m<ipython-input-15-662ed7c527ba>\u001b[0m in \u001b[0;36m<module>\u001b[0;34m\u001b[0m\n\u001b[0;32m----> 1\u001b[0;31m \u001b[0mepisodes_plot\u001b[0m\u001b[0;34m.\u001b[0m\u001b[0mplot_actions_sequence_length_by_type\u001b[0m\u001b[0;34m(\u001b[0m\u001b[0mepisodes_names\u001b[0m\u001b[0;34m=\u001b[0m\u001b[0;34m[\u001b[0m\u001b[0;34m\"dec16_1\"\u001b[0m\u001b[0;34m,\u001b[0m \u001b[0;34m\"dec16_2\"\u001b[0m\u001b[0;34m]\u001b[0m\u001b[0;34m)\u001b[0m\u001b[0;34m\u001b[0m\u001b[0;34m\u001b[0m\u001b[0m\n\u001b[0m",
      "\u001b[0;32m/data/fereshteh/Environments/2mg/RLBenchPlot/rlbenchplot/EpisodesPlot.py\u001b[0m in \u001b[0;36mplot_actions_sequence_length_by_type\u001b[0;34m(self, episodes_names, title, **fig_kwargs)\u001b[0m\n\u001b[1;32m    122\u001b[0m \u001b[0;34m\u001b[0m\u001b[0m\n\u001b[1;32m    123\u001b[0m         \u001b[0;31m# Initialize the dict for design purposes\u001b[0m\u001b[0;34m\u001b[0m\u001b[0;34m\u001b[0m\u001b[0;34m\u001b[0m\u001b[0m\n\u001b[0;32m--> 124\u001b[0;31m         dict_list = [\n\u001b[0m\u001b[1;32m    125\u001b[0m             dict(Type=df.columns[j].removeprefix(\"NB \"), Start=str(df.iloc[0, 0]), Finish=str(df.iloc[0, 0]), Actions=0,\n\u001b[1;32m    126\u001b[0m                  Actions_percent=0) for j in range(1, len(df.columns)) if df.columns[j] != \"Timestamp\"]\n",
      "\u001b[0;32m/data/fereshteh/Environments/2mg/RLBenchPlot/rlbenchplot/EpisodesPlot.py\u001b[0m in \u001b[0;36m<listcomp>\u001b[0;34m(.0)\u001b[0m\n\u001b[1;32m    123\u001b[0m         \u001b[0;31m# Initialize the dict for design purposes\u001b[0m\u001b[0;34m\u001b[0m\u001b[0;34m\u001b[0m\u001b[0;34m\u001b[0m\u001b[0m\n\u001b[1;32m    124\u001b[0m         dict_list = [\n\u001b[0;32m--> 125\u001b[0;31m             dict(Type=df.columns[j].removeprefix(\"NB \"), Start=str(df.iloc[0, 0]), Finish=str(df.iloc[0, 0]), Actions=0,\n\u001b[0m\u001b[1;32m    126\u001b[0m                  Actions_percent=0) for j in range(1, len(df.columns)) if df.columns[j] != \"Timestamp\"]\n\u001b[1;32m    127\u001b[0m \u001b[0;34m\u001b[0m\u001b[0m\n",
      "\u001b[0;31mAttributeError\u001b[0m: 'str' object has no attribute 'removeprefix'"
     ]
    }
   ],
   "source": [
    "episodes_plot.plot_actions_sequence_length_by_type(episodes_names=[\"dec16_1\", \"dec16_2\"])"
   ]
  },
  {
   "cell_type": "code",
   "execution_count": 16,
   "metadata": {
    "pycharm": {
     "name": "#%%\n"
    }
   },
   "outputs": [
    {
     "data": {
      "application/vnd.plotly.v1+json": {
       "config": {
        "plotlyServerURL": "https://plot.ly"
       },
       "data": [
        {
         "hovertemplate": "x=%{x}<br>Execution time=%{y}<extra></extra>",
         "legendgroup": "",
         "line": {
          "color": "#636efa",
          "dash": "solid"
         },
         "marker": {
          "symbol": "circle"
         },
         "mode": "lines",
         "name": "",
         "showlegend": false,
         "type": "scattergl",
         "x": [
          0,
          1,
          2,
          3,
          4,
          5,
          6,
          7,
          8,
          9,
          10,
          11,
          12,
          13,
          14,
          15,
          16,
          17,
          18,
          19,
          20,
          21,
          22,
          23,
          24,
          25,
          26,
          27,
          28,
          29,
          30,
          31,
          32,
          33,
          34,
          35,
          36,
          37,
          38,
          39,
          40,
          41,
          42,
          43,
          44,
          45,
          46,
          47,
          48,
          49,
          50,
          51,
          52,
          53,
          54,
          55,
          56,
          57,
          58,
          59,
          60,
          61,
          62,
          63,
          64,
          65,
          66,
          67,
          68,
          69,
          70,
          71,
          72,
          73,
          74,
          75,
          76,
          77,
          78,
          79,
          80,
          81,
          82,
          83,
          84,
          85,
          86,
          87,
          88,
          89,
          90,
          91,
          92,
          93,
          94,
          95,
          96,
          97,
          98,
          99,
          100,
          101,
          102,
          103,
          104,
          105,
          106,
          107,
          108,
          109,
          110,
          111,
          112,
          113,
          114,
          115,
          116,
          117,
          118,
          119,
          120,
          121,
          122,
          123,
          124,
          125,
          126,
          127,
          128,
          129,
          130,
          131,
          132,
          133,
          134,
          135,
          136,
          137,
          138,
          139,
          140,
          141,
          142,
          143,
          144,
          145,
          146,
          147,
          148,
          149,
          150,
          151,
          152,
          153,
          154,
          155,
          156,
          157,
          158,
          159,
          160,
          161,
          162,
          163,
          164,
          165,
          166,
          167,
          168,
          169,
          170,
          171,
          172,
          173,
          174,
          175,
          176,
          177,
          178,
          179,
          180,
          181,
          182,
          183,
          184,
          185,
          186,
          187,
          188,
          189,
          190,
          191,
          192,
          193,
          194,
          195,
          196,
          197,
          198,
          199,
          200,
          201,
          202,
          203,
          204,
          205,
          206,
          207,
          208,
          209,
          210,
          211,
          212,
          213,
          214,
          215,
          216,
          217,
          218,
          219,
          220,
          221,
          222,
          223,
          224,
          225,
          226,
          227,
          228,
          229,
          230,
          231,
          232,
          233,
          234,
          235,
          236,
          237,
          238,
          239,
          240,
          241,
          242,
          243,
          244,
          245,
          246,
          247,
          248,
          249,
          250,
          251,
          252,
          253,
          254,
          255,
          256,
          257,
          258,
          259,
          260,
          261,
          262,
          263,
          264,
          265,
          266,
          267,
          268,
          269,
          270,
          271,
          272,
          273,
          274,
          275,
          276,
          277,
          278,
          279,
          280,
          281,
          282,
          283,
          284,
          285,
          286,
          287,
          288,
          289,
          290,
          291,
          292,
          293,
          294,
          295,
          296,
          297,
          298,
          299,
          300,
          301,
          302,
          303,
          304,
          305,
          306,
          307,
          308,
          309,
          310,
          311,
          312,
          313,
          314,
          315,
          316,
          317,
          318,
          319,
          320,
          321,
          322,
          323,
          324,
          325,
          326,
          327,
          328,
          329,
          330,
          331,
          332,
          333,
          334,
          335,
          336,
          337,
          338,
          339,
          340,
          341,
          342,
          343,
          344,
          345,
          346,
          347,
          348,
          349,
          350,
          351,
          352,
          353,
          354,
          355,
          356,
          357,
          358,
          359,
          360,
          361,
          362,
          363,
          364,
          365,
          366,
          367,
          368,
          369,
          370,
          371,
          372,
          373,
          374,
          375,
          376,
          377,
          378,
          379,
          380,
          381,
          382,
          383,
          384,
          385,
          386,
          387,
          388,
          389,
          390,
          391,
          392,
          393,
          394,
          395,
          396,
          397,
          398,
          399,
          400,
          401,
          402,
          403,
          404,
          405,
          406,
          407,
          408,
          409,
          410,
          411,
          412,
          413,
          414,
          415,
          416,
          417,
          418,
          419,
          420,
          421,
          422,
          423,
          424,
          425,
          426,
          427,
          428,
          429,
          430,
          431,
          432,
          433,
          434,
          435,
          436,
          437,
          438,
          439,
          440,
          441,
          442,
          443,
          444,
          445,
          446,
          447,
          448,
          449,
          450,
          451,
          452,
          453,
          454,
          455,
          456,
          457,
          458,
          459,
          460,
          461,
          462,
          463,
          464,
          465,
          466,
          467,
          468,
          469,
          470,
          471,
          472,
          473,
          474,
          475,
          476,
          477,
          478,
          479,
          480,
          481,
          482,
          483,
          484,
          485,
          486,
          487,
          488,
          489,
          490,
          491,
          492,
          493,
          494,
          495,
          496,
          497,
          498,
          499,
          500,
          501,
          502,
          503,
          504,
          505,
          506,
          507,
          508,
          509,
          510,
          511,
          512,
          513,
          514,
          515,
          516,
          517,
          518,
          519,
          520,
          521,
          522,
          523,
          524,
          525,
          526,
          527,
          528,
          529,
          530,
          531,
          532,
          533,
          534,
          535,
          536,
          537,
          538,
          539,
          540,
          541,
          542,
          543,
          544,
          545,
          546,
          547,
          548,
          549,
          550,
          551,
          552,
          553,
          554,
          555,
          556,
          557,
          558,
          559,
          560,
          561,
          562,
          563,
          564,
          565,
          566,
          567,
          568,
          569,
          570,
          571,
          572,
          573,
          574,
          575,
          576,
          577,
          578,
          579,
          580,
          581,
          582,
          583,
          584,
          585,
          586,
          587,
          588,
          589,
          590,
          591,
          592,
          593,
          594,
          595,
          596,
          597,
          598,
          599,
          600,
          601,
          602,
          603,
          604,
          605,
          606,
          607,
          608,
          609,
          610,
          611,
          612,
          613,
          614,
          615,
          616,
          617,
          618,
          619,
          620,
          621,
          622,
          623,
          624,
          625,
          626,
          627,
          628,
          629,
          630,
          631,
          632,
          633,
          634,
          635,
          636,
          637,
          638,
          639,
          640,
          641,
          642,
          643,
          644,
          645,
          646,
          647,
          648,
          649,
          650,
          651,
          652,
          653,
          654,
          655,
          656,
          657,
          658,
          659,
          660,
          661,
          662,
          663,
          664,
          665,
          666,
          667,
          668,
          669,
          670,
          671,
          672,
          673,
          674,
          675,
          676,
          677,
          678,
          679,
          680,
          681,
          682,
          683,
          684,
          685,
          686,
          687,
          688,
          689,
          690,
          691,
          692,
          693,
          694,
          695,
          696,
          697,
          698,
          699,
          700,
          701,
          702,
          703,
          704,
          705,
          706,
          707,
          708,
          709,
          710,
          711,
          712,
          713,
          714,
          715,
          716,
          717,
          718,
          719,
          720,
          721,
          722,
          723,
          724,
          725,
          726,
          727,
          728,
          729,
          730,
          731,
          732,
          733,
          734,
          735,
          736,
          737,
          738,
          739,
          740,
          741,
          742,
          743,
          744,
          745,
          746,
          747,
          748,
          749,
          750,
          751,
          752,
          753,
          754,
          755,
          756,
          757,
          758,
          759,
          760,
          761,
          762,
          763,
          764,
          765,
          766,
          767,
          768,
          769,
          770,
          771,
          772,
          773,
          774,
          775,
          776,
          777,
          778,
          779,
          780,
          781,
          782,
          783,
          784,
          785,
          786,
          787,
          788,
          789,
          790,
          791,
          792,
          793,
          794,
          795,
          796,
          797,
          798,
          799,
          800,
          801,
          802,
          803,
          804,
          805,
          806,
          807,
          808,
          809,
          810,
          811,
          812,
          813,
          814,
          815,
          816,
          817,
          818,
          819,
          820,
          821,
          822,
          823,
          824,
          825,
          826,
          827,
          828,
          829,
          830,
          831,
          832,
          833,
          834,
          835,
          836,
          837,
          838,
          839,
          840,
          841,
          842,
          843,
          844,
          845,
          846,
          847,
          848,
          849,
          850,
          851,
          852,
          853,
          854,
          855,
          856,
          857,
          858,
          859,
          860,
          861,
          862,
          863,
          864,
          865,
          866,
          867,
          868,
          869,
          870,
          871,
          872,
          873,
          874,
          875,
          876,
          877,
          878,
          879,
          880,
          881,
          882,
          883,
          884,
          885,
          886,
          887,
          888,
          889,
          890,
          891,
          892,
          893,
          894,
          895,
          896,
          897,
          898,
          899,
          900,
          901,
          902,
          903,
          904,
          905,
          906,
          907,
          908,
          909,
          910,
          911,
          912,
          913,
          914,
          915,
          916,
          917,
          918,
          919,
          920,
          921,
          922,
          923,
          924,
          925,
          926,
          927,
          928,
          929,
          930,
          931,
          932,
          933,
          934,
          935,
          936,
          937,
          938,
          939,
          940,
          941,
          942,
          943,
          944,
          945,
          946,
          947,
          948,
          949,
          950,
          951,
          952,
          953,
          954,
          955,
          956,
          957,
          958,
          959,
          960,
          961,
          962,
          963,
          964,
          965,
          966,
          967,
          968,
          969,
          970,
          971,
          972,
          973,
          974,
          975,
          976,
          977,
          978,
          979,
          980,
          981,
          982,
          983,
          984,
          985,
          986,
          987,
          988,
          989,
          990,
          991,
          992,
          993,
          994,
          995,
          996,
          997,
          998,
          999,
          1000,
          1001,
          1002,
          1003,
          1004,
          1005,
          1006,
          1007,
          1008,
          1009,
          1010,
          1011,
          1012,
          1013,
          1014,
          1015,
          1016,
          1017,
          1018,
          1019,
          1020,
          1021,
          1022,
          1023,
          1024,
          1025,
          1026,
          1027,
          1028,
          1029,
          1030,
          1031,
          1032,
          1033,
          1034,
          1035,
          1036,
          1037,
          1038,
          1039,
          1040,
          1041,
          1042,
          1043,
          1044,
          1045,
          1046,
          1047,
          1048,
          1049,
          1050,
          1051,
          1052,
          1053,
          1054,
          1055,
          1056,
          1057,
          1058,
          1059,
          1060,
          1061,
          1062,
          1063,
          1064,
          1065,
          1066,
          1067,
          1068,
          1069,
          1070,
          1071,
          1072,
          1073,
          1074,
          1075,
          1076,
          1077,
          1078,
          1079,
          1080,
          1081,
          1082,
          1083,
          1084,
          1085,
          1086,
          1087,
          1088,
          1089,
          1090,
          1091,
          1092,
          1093,
          1094,
          1095,
          1096,
          1097,
          1098,
          1099,
          1100,
          1101,
          1102,
          1103,
          1104,
          1105,
          1106,
          1107,
          1108,
          1109,
          1110,
          1111,
          1112,
          1113,
          1114,
          1115,
          1116,
          1117,
          1118,
          1119,
          1120,
          1121,
          1122,
          1123,
          1124,
          1125,
          1126,
          1127,
          1128,
          1129,
          1130,
          1131,
          1132,
          1133,
          1134,
          1135,
          1136,
          1137,
          1138,
          1139,
          1140,
          1141,
          1142,
          1143,
          1144,
          1145,
          1146,
          1147,
          1148,
          1149,
          1150,
          1151,
          1152,
          1153,
          1154,
          1155,
          1156,
          1157,
          1158,
          1159,
          1160,
          1161,
          1162,
          1163,
          1164,
          1165,
          1166,
          1167,
          1168,
          1169,
          1170,
          1171,
          1172,
          1173,
          1174,
          1175,
          1176,
          1177,
          1178,
          1179,
          1180,
          1181,
          1182,
          1183,
          1184,
          1185,
          1186,
          1187,
          1188,
          1189,
          1190,
          1191,
          1192,
          1193,
          1194,
          1195,
          1196,
          1197,
          1198,
          1199,
          1200,
          1201,
          1202,
          1203,
          1204,
          1205,
          1206,
          1207,
          1208,
          1209,
          1210,
          1211,
          1212,
          1213,
          1214,
          1215,
          1216,
          1217,
          1218,
          1219,
          1220,
          1221,
          1222,
          1223,
          1224,
          1225,
          1226,
          1227,
          1228,
          1229,
          1230,
          1231,
          1232,
          1233,
          1234,
          1235,
          1236,
          1237,
          1238,
          1239,
          1240,
          1241,
          1242,
          1243,
          1244,
          1245,
          1246,
          1247,
          1248,
          1249,
          1250,
          1251,
          1252,
          1253,
          1254,
          1255,
          1256,
          1257,
          1258,
          1259,
          1260,
          1261,
          1262,
          1263,
          1264,
          1265,
          1266,
          1267,
          1268,
          1269,
          1270,
          1271,
          1272,
          1273,
          1274,
          1275,
          1276,
          1277,
          1278,
          1279,
          1280,
          1281,
          1282,
          1283,
          1284,
          1285,
          1286,
          1287,
          1288,
          1289,
          1290,
          1291,
          1292,
          1293,
          1294,
          1295,
          1296,
          1297,
          1298,
          1299,
          1300,
          1301,
          1302,
          1303,
          1304,
          1305,
          1306,
          1307,
          1308,
          1309,
          1310,
          1311,
          1312,
          1313,
          1314,
          1315,
          1316,
          1317,
          1318,
          1319,
          1320,
          1321,
          1322,
          1323,
          1324,
          1325,
          1326,
          1327,
          1328,
          1329,
          1330,
          1331,
          1332,
          1333,
          1334,
          1335,
          1336,
          1337,
          1338,
          1339,
          1340,
          1341,
          1342,
          1343,
          1344,
          1345,
          1346,
          1347,
          1348,
          1349,
          1350,
          1351,
          1352,
          1353,
          1354,
          1355,
          1356,
          1357,
          1358,
          1359,
          1360,
          1361,
          1362,
          1363,
          1364,
          1365,
          1366,
          1367,
          1368,
          1369,
          1370,
          1371,
          1372,
          1373,
          1374,
          1375,
          1376,
          1377,
          1378,
          1379,
          1380,
          1381,
          1382,
          1383,
          1384,
          1385,
          1386,
          1387,
          1388,
          1389,
          1390,
          1391,
          1392,
          1393,
          1394,
          1395,
          1396,
          1397,
          1398,
          1399,
          1400,
          1401,
          1402,
          1403,
          1404,
          1405,
          1406,
          1407,
          1408,
          1409,
          1410,
          1411,
          1412,
          1413,
          1414,
          1415,
          1416,
          1417,
          1418,
          1419,
          1420,
          1421,
          1422,
          1423,
          1424,
          1425,
          1426,
          1427,
          1428,
          1429,
          1430,
          1431,
          1432,
          1433,
          1434,
          1435,
          1436,
          1437,
          1438,
          1439,
          1440,
          1441,
          1442,
          1443,
          1444,
          1445,
          1446,
          1447,
          1448,
          1449,
          1450,
          1451,
          1452,
          1453,
          1454,
          1455,
          1456,
          1457,
          1458,
          1459,
          1460,
          1461,
          1462,
          1463,
          1464,
          1465,
          1466,
          1467,
          1468,
          1469,
          1470,
          1471,
          1472,
          1473,
          1474,
          1475,
          1476,
          1477,
          1478,
          1479,
          1480,
          1481,
          1482,
          1483,
          1484,
          1485,
          1486,
          1487,
          1488,
          1489,
          1490,
          1491,
          1492,
          1493,
          1494,
          1495,
          1496,
          1497,
          1498,
          1499,
          1500,
          1501,
          1502,
          1503,
          1504,
          1505,
          1506,
          1507,
          1508,
          1509,
          1510,
          1511,
          1512,
          1513,
          1514,
          1515,
          1516,
          1517,
          1518,
          1519,
          1520,
          1521,
          1522,
          1523,
          1524,
          1525,
          1526,
          1527,
          1528,
          1529,
          1530,
          1531,
          1532,
          1533,
          1534,
          1535,
          1536,
          1537,
          1538,
          1539,
          1540,
          1541,
          1542,
          1543,
          1544,
          1545,
          1546,
          1547,
          1548,
          1549,
          1550,
          1551,
          1552,
          1553,
          1554,
          1555,
          1556,
          1557,
          1558,
          1559,
          1560,
          1561,
          1562,
          1563,
          1564,
          1565,
          1566,
          1567,
          1568,
          1569,
          1570,
          1571,
          1572,
          1573,
          1574,
          1575,
          1576,
          1577,
          1578,
          1579,
          1580,
          1581,
          1582,
          1583,
          1584,
          1585,
          1586,
          1587,
          1588,
          1589,
          1590,
          1591,
          1592,
          1593,
          1594,
          1595,
          1596,
          1597,
          1598,
          1599,
          1600,
          1601,
          1602,
          1603,
          1604,
          1605,
          1606,
          1607,
          1608,
          1609,
          1610,
          1611,
          1612,
          1613,
          1614,
          1615,
          1616,
          1617,
          1618,
          1619,
          1620,
          1621,
          1622,
          1623,
          1624,
          1625,
          1626,
          1627,
          1628,
          1629,
          1630,
          1631,
          1632,
          1633,
          1634,
          1635,
          1636,
          1637,
          1638,
          1639,
          1640,
          1641,
          1642,
          1643,
          1644,
          1645,
          1646,
          1647,
          1648,
          1649,
          1650,
          1651,
          1652,
          1653,
          1654,
          1655,
          1656,
          1657,
          1658,
          1659,
          1660,
          1661,
          1662,
          1663,
          1664,
          1665,
          1666,
          1667,
          1668,
          1669,
          1670,
          1671,
          1672,
          1673,
          1674,
          1675,
          1676,
          1677,
          1678,
          1679,
          1680,
          1681,
          1682,
          1683,
          1684,
          1685,
          1686,
          1687,
          1688,
          1689,
          1690,
          1691,
          1692,
          1693,
          1694,
          1695,
          1696,
          1697,
          1698,
          1699,
          1700,
          1701,
          1702,
          1703,
          1704,
          1705,
          1706,
          1707,
          1708,
          1709,
          1710,
          1711,
          1712,
          1713,
          1714,
          1715,
          1716,
          1717,
          1718,
          1719,
          1720,
          1721,
          1722,
          1723,
          1724,
          1725,
          1726,
          1727,
          1728,
          1729,
          1730,
          1731,
          1732,
          1733,
          1734,
          1735,
          1736,
          1737,
          1738,
          1739,
          1740,
          1741,
          1742,
          1743,
          1744,
          1745,
          1746,
          1747,
          1748,
          1749,
          1750,
          1751,
          1752,
          1753,
          1754,
          1755,
          1756,
          1757,
          1758,
          1759,
          1760,
          1761,
          1762,
          1763,
          1764,
          1765,
          1766,
          1767,
          1768,
          1769,
          1770,
          1771,
          1772,
          1773,
          1774,
          1775,
          1776,
          1777,
          1778,
          1779,
          1780,
          1781,
          1782,
          1783,
          1784,
          1785,
          1786,
          1787,
          1788,
          1789,
          1790,
          1791,
          1792,
          1793,
          1794,
          1795,
          1796,
          1797,
          1798,
          1799,
          1800,
          1801,
          1802,
          1803,
          1804,
          1805,
          1806,
          1807,
          1808,
          1809,
          1810,
          1811,
          1812,
          1813,
          1814,
          1815,
          1816,
          1817,
          1818,
          1819,
          1820,
          1821,
          1822,
          1823,
          1824,
          1825,
          1826,
          1827,
          1828,
          1829,
          1830,
          1831,
          1832,
          1833,
          1834,
          1835,
          1836,
          1837,
          1838,
          1839,
          1840,
          1841,
          1842,
          1843,
          1844,
          1845,
          1846,
          1847,
          1848,
          1849,
          1850,
          1851,
          1852,
          1853,
          1854,
          1855,
          1856,
          1857,
          1858,
          1859,
          1860,
          1861,
          1862,
          1863,
          1864,
          1865,
          1866,
          1867,
          1868,
          1869,
          1870,
          1871,
          1872,
          1873,
          1874,
          1875,
          1876,
          1877,
          1878,
          1879,
          1880,
          1881,
          1882,
          1883,
          1884,
          1885,
          1886,
          1887,
          1888,
          1889,
          1890,
          1891,
          1892,
          1893,
          1894,
          1895,
          1896,
          1897,
          1898,
          1899,
          1900,
          1901,
          1902,
          1903,
          1904,
          1905,
          1906,
          1907,
          1908,
          1909,
          1910,
          1911,
          1912,
          1913,
          1914,
          1915,
          1916,
          1917,
          1918,
          1919,
          1920,
          1921,
          1922,
          1923,
          1924,
          1925,
          1926,
          1927,
          1928,
          1929,
          1930,
          1931,
          1932,
          1933,
          1934,
          1935,
          1936,
          1937,
          1938,
          1939,
          1940,
          1941,
          1942,
          1943,
          1944,
          1945,
          1946,
          1947,
          1948,
          1949,
          1950,
          1951,
          1952,
          1953,
          1954,
          1955,
          1956,
          1957,
          1958,
          1959,
          1960,
          1961,
          1962,
          1963,
          1964,
          1965,
          1966,
          1967,
          1968,
          1969,
          1970,
          1971,
          1972,
          1973,
          1974,
          1975,
          1976,
          1977,
          1978,
          1979,
          1980,
          1981,
          1982,
          1983,
          1984,
          1985,
          1986,
          1987,
          1988,
          1989,
          1990,
          1991,
          1992,
          1993,
          1994,
          1995,
          1996,
          1997,
          1998,
          1999,
          2000,
          2001,
          2002,
          2003,
          2004,
          2005,
          2006,
          2007,
          2008,
          2009,
          2010,
          2011,
          2012,
          2013,
          2014,
          2015,
          2016,
          2017,
          2018,
          2019,
          2020,
          2021,
          2022,
          2023,
          2024,
          2025,
          2026,
          2027,
          2028,
          2029,
          2030,
          2031,
          2032,
          2033,
          2034,
          2035,
          2036,
          2037,
          2038,
          2039,
          2040,
          2041,
          2042,
          2043,
          2044,
          2045,
          2046,
          2047,
          2048,
          2049,
          2050,
          2051,
          2052,
          2053,
          2054,
          2055
         ],
         "xaxis": "x",
         "y": [
          0.000598907470703125,
          6.461143493652344e-05,
          6.318092346191406e-05,
          9.107589721679688e-05,
          6.365776062011719e-05,
          6.198883056640625e-05,
          6.0558319091796875e-05,
          6.0558319091796875e-05,
          6.175041198730469e-05,
          6.127357482910156e-05,
          5.936622619628906e-05,
          5.817413330078125e-05,
          7.796287536621094e-05,
          6.0558319091796875e-05,
          9.584426879882812e-05,
          6.318092346191406e-05,
          6.127357482910156e-05,
          5.8650970458984375e-05,
          5.936622619628906e-05,
          5.841255187988281e-05,
          6.723403930664062e-05,
          6.031990051269531e-05,
          5.984306335449219e-05,
          9.34600830078125e-05,
          0.00010323524475097656,
          6.580352783203125e-05,
          6.4849853515625e-05,
          5.841255187988281e-05,
          5.888938903808594e-05,
          6.246566772460938e-05,
          0.007958412170410156,
          8.416175842285156e-05,
          6.222724914550781e-05,
          5.745887756347656e-05,
          5.841255187988281e-05,
          8.0108642578125e-05,
          5.9604644775390625e-05,
          5.936622619628906e-05,
          6.008148193359375e-05,
          6.031990051269531e-05,
          6.413459777832031e-05,
          5.6743621826171875e-05,
          8.130073547363281e-05,
          5.7697296142578125e-05,
          5.7220458984375e-05,
          5.7697296142578125e-05,
          0.00010180473327636719,
          5.793571472167969e-05,
          8.296966552734375e-05,
          5.793571472167969e-05,
          5.8650970458984375e-05,
          5.7697296142578125e-05,
          5.698204040527344e-05,
          5.745887756347656e-05,
          5.745887756347656e-05,
          5.7220458984375e-05,
          9.1552734375e-05,
          5.7220458984375e-05,
          5.6743621826171875e-05,
          5.817413330078125e-05,
          5.7220458984375e-05,
          5.793571472167969e-05,
          7.724761962890625e-05,
          5.626678466796875e-05,
          6.461143493652344e-05,
          5.698204040527344e-05,
          5.7697296142578125e-05,
          5.7220458984375e-05,
          5.817413330078125e-05,
          5.7220458984375e-05,
          5.7220458984375e-05,
          5.650520324707031e-05,
          6.103515625e-05,
          6.961822509765625e-05,
          6.771087646484375e-05,
          6.604194641113281e-05,
          6.341934204101562e-05,
          5.841255187988281e-05,
          5.793571472167969e-05,
          6.222724914550781e-05,
          5.8650970458984375e-05,
          6.246566772460938e-05,
          5.817413330078125e-05,
          5.888938903808594e-05,
          5.793571472167969e-05,
          6.222724914550781e-05,
          7.843971252441406e-05,
          9.918212890625e-05,
          6.937980651855469e-05,
          6.4849853515625e-05,
          6.008148193359375e-05,
          5.984306335449219e-05,
          5.8650970458984375e-05,
          5.888938903808594e-05,
          8.249282836914062e-05,
          0.0001316070556640625,
          6.890296936035156e-05,
          6.0558319091796875e-05,
          5.8650970458984375e-05,
          5.984306335449219e-05,
          0.00011038780212402344,
          0.00011897087097167969,
          6.556510925292969e-05,
          0.00010585784912109375,
          6.842613220214844e-05,
          6.723403930664062e-05,
          0.00010037422180175781,
          7.390975952148438e-05,
          0.000110626220703125,
          0.00011873245239257812,
          7.176399230957031e-05,
          6.103515625e-05,
          6.031990051269531e-05,
          6.937980651855469e-05,
          5.91278076171875e-05,
          6.914138793945312e-05,
          0.00017976760864257812,
          8.749961853027344e-05,
          6.341934204101562e-05,
          5.888938903808594e-05,
          6.413459777832031e-05,
          0.00011467933654785156,
          5.888938903808594e-05,
          6.437301635742188e-05,
          5.888938903808594e-05,
          6.29425048828125e-05,
          6.008148193359375e-05,
          8.392333984375e-05,
          5.817413330078125e-05,
          5.7697296142578125e-05,
          6.0558319091796875e-05,
          8.082389831542969e-05,
          5.888938903808594e-05,
          5.841255187988281e-05,
          5.7697296142578125e-05,
          5.91278076171875e-05,
          6.151199340820312e-05,
          6.198883056640625e-05,
          8.153915405273438e-05,
          5.841255187988281e-05,
          5.793571472167969e-05,
          7.62939453125e-05,
          6.29425048828125e-05,
          8.296966552734375e-05,
          5.936622619628906e-05,
          9.846687316894531e-05,
          5.6743621826171875e-05,
          5.8650970458984375e-05,
          5.817413330078125e-05,
          5.7697296142578125e-05,
          6.365776062011719e-05,
          5.650520324707031e-05,
          5.91278076171875e-05,
          5.745887756347656e-05,
          6.413459777832031e-05,
          8.130073547363281e-05,
          6.198883056640625e-05,
          6.031990051269531e-05,
          6.318092346191406e-05,
          6.151199340820312e-05,
          6.175041198730469e-05,
          6.103515625e-05,
          6.651878356933594e-05,
          0.00010538101196289062,
          6.175041198730469e-05,
          6.198883056640625e-05,
          6.580352783203125e-05,
          6.365776062011719e-05,
          6.508827209472656e-05,
          6.508827209472656e-05,
          6.747245788574219e-05,
          6.318092346191406e-05,
          6.747245788574219e-05,
          7.462501525878906e-05,
          6.532669067382812e-05,
          6.29425048828125e-05,
          0.7107484340667725,
          6.227222919464111,
          4.803532600402832,
          4.698853492736816,
          7.82012939453125e-05,
          7.2479248046875e-05,
          6.842613220214844e-05,
          6.771087646484375e-05,
          6.794929504394531e-05,
          6.771087646484375e-05,
          0.010436534881591797,
          7.367134094238281e-05,
          0.24027609825134277,
          0.00010347366333007812,
          6.890296936035156e-05,
          6.985664367675781e-05,
          6.747245788574219e-05,
          6.461143493652344e-05,
          6.413459777832031e-05,
          6.461143493652344e-05,
          6.413459777832031e-05,
          6.556510925292969e-05,
          6.437301635742188e-05,
          6.437301635742188e-05,
          6.508827209472656e-05,
          0.00011014938354492188,
          9.012222290039062e-05,
          7.2479248046875e-05,
          7.081031799316406e-05,
          9.799003601074219e-05,
          6.723403930664062e-05,
          6.604194641113281e-05,
          6.532669067382812e-05,
          6.651878356933594e-05,
          7.009506225585938e-05,
          7.224082946777344e-05,
          7.009506225585938e-05,
          6.651878356933594e-05,
          6.556510925292969e-05,
          6.914138793945312e-05,
          6.771087646484375e-05,
          0.6118454933166504,
          7.581710815429688e-05,
          6.914138793945312e-05,
          0.6104550361633301,
          4.236868381500244,
          4.39067268371582,
          3.9436144828796387,
          7.081031799316406e-05,
          6.556510925292969e-05,
          6.389617919921875e-05,
          6.580352783203125e-05,
          0.08588528633117676,
          7.009506225585938e-05,
          6.914138793945312e-05,
          6.818771362304688e-05,
          7.748603820800781e-05,
          7.104873657226562e-05,
          8.7738037109375e-05,
          9.489059448242188e-05,
          9.632110595703125e-05,
          9.441375732421875e-05,
          6.651878356933594e-05,
          6.628036499023438e-05,
          6.914138793945312e-05,
          6.794929504394531e-05,
          6.628036499023438e-05,
          6.794929504394531e-05,
          6.580352783203125e-05,
          7.367134094238281e-05,
          6.723403930664062e-05,
          0.6008265018463135,
          6.747245788574219e-05,
          0.6183972358703613,
          0.14615321159362793,
          6.413459777832031e-05,
          6.151199340820312e-05,
          5.841255187988281e-05,
          0.07636880874633789,
          6.67572021484375e-05,
          6.270408630371094e-05,
          5.817413330078125e-05,
          5.888938903808594e-05,
          5.888938903808594e-05,
          5.841255187988281e-05,
          5.698204040527344e-05,
          5.8650970458984375e-05,
          0.02064967155456543,
          6.723403930664062e-05,
          5.984306335449219e-05,
          5.8650970458984375e-05,
          5.9604644775390625e-05,
          0.00011181831359863281,
          6.270408630371094e-05,
          5.8650970458984375e-05,
          5.745887756347656e-05,
          5.7697296142578125e-05,
          5.7697296142578125e-05,
          5.936622619628906e-05,
          6.246566772460938e-05,
          6.270408630371094e-05,
          5.698204040527344e-05,
          5.984306335449219e-05,
          6.389617919921875e-05,
          6.389617919921875e-05,
          5.984306335449219e-05,
          6.031990051269531e-05,
          5.650520324707031e-05,
          5.7697296142578125e-05,
          5.745887756347656e-05,
          7.152557373046875e-05,
          6.794929504394531e-05,
          6.67572021484375e-05,
          6.151199340820312e-05,
          6.151199340820312e-05,
          5.9604644775390625e-05,
          5.9604644775390625e-05,
          0.5895566940307617,
          6.699562072753906e-05,
          6.175041198730469e-05,
          5.8650970458984375e-05,
          6.365776062011719e-05,
          5.888938903808594e-05,
          0.009033441543579102,
          6.699562072753906e-05,
          6.270408630371094e-05,
          5.793571472167969e-05,
          0.5883679389953613,
          6.604194641113281e-05,
          6.127357482910156e-05,
          5.936622619628906e-05,
          6.031990051269531e-05,
          7.82012939453125e-05,
          5.8650970458984375e-05,
          5.745887756347656e-05,
          5.8650970458984375e-05,
          0.6173570156097412,
          6.532669067382812e-05,
          5.698204040527344e-05,
          5.53131103515625e-05,
          5.817413330078125e-05,
          5.8650970458984375e-05,
          0.00012993812561035156,
          6.079673767089844e-05,
          6.008148193359375e-05,
          5.841255187988281e-05,
          5.6743621826171875e-05,
          5.53131103515625e-05,
          5.602836608886719e-05,
          5.7220458984375e-05,
          6.008148193359375e-05,
          5.91278076171875e-05,
          6.031990051269531e-05,
          6.0558319091796875e-05,
          5.626678466796875e-05,
          5.6743621826171875e-05,
          5.817413330078125e-05,
          5.793571472167969e-05,
          5.841255187988281e-05,
          6.246566772460938e-05,
          6.413459777832031e-05,
          5.7220458984375e-05,
          5.745887756347656e-05,
          5.650520324707031e-05,
          5.745887756347656e-05,
          0.07889199256896973,
          6.723403930664062e-05,
          0.00013303756713867188,
          6.318092346191406e-05,
          5.936622619628906e-05,
          7.486343383789062e-05,
          5.91278076171875e-05,
          6.628036499023438e-05,
          6.103515625e-05,
          6.0558319091796875e-05,
          5.817413330078125e-05,
          0.00019931793212890625,
          5.888938903808594e-05,
          7.605552673339844e-05,
          5.9604644775390625e-05,
          0.0001575946807861328,
          7.295608520507812e-05,
          6.842613220214844e-05,
          7.510185241699219e-05,
          5.817413330078125e-05,
          6.008148193359375e-05,
          6.103515625e-05,
          5.984306335449219e-05,
          5.936622619628906e-05,
          8.988380432128906e-05,
          7.534027099609375e-05,
          5.817413330078125e-05,
          5.793571472167969e-05,
          5.7220458984375e-05,
          6.341934204101562e-05,
          6.651878356933594e-05,
          8.535385131835938e-05,
          0.0443730354309082,
          7.367134094238281e-05,
          8.106231689453125e-05,
          0.0001399517059326172,
          0.0001418590545654297,
          5.841255187988281e-05,
          6.365776062011719e-05,
          6.198883056640625e-05,
          5.8650970458984375e-05,
          6.222724914550781e-05,
          6.389617919921875e-05,
          5.7220458984375e-05,
          5.841255187988281e-05,
          6.341934204101562e-05,
          6.0558319091796875e-05,
          7.343292236328125e-05,
          8.20159912109375e-05,
          6.604194641113281e-05,
          6.008148193359375e-05,
          6.985664367675781e-05,
          7.939338684082031e-05,
          0.0001285076141357422,
          8.225440979003906e-05,
          6.699562072753906e-05,
          6.127357482910156e-05,
          6.29425048828125e-05,
          6.222724914550781e-05,
          5.888938903808594e-05,
          5.817413330078125e-05,
          6.4849853515625e-05,
          6.270408630371094e-05,
          6.29425048828125e-05,
          0.00011038780212402344,
          7.581710815429688e-05,
          5.793571472167969e-05,
          5.888938903808594e-05,
          6.246566772460938e-05,
          5.888938903808594e-05,
          5.817413330078125e-05,
          6.198883056640625e-05,
          0.00010156631469726562,
          5.984306335449219e-05,
          6.008148193359375e-05,
          7.724761962890625e-05,
          5.793571472167969e-05,
          5.936622619628906e-05,
          5.888938903808594e-05,
          5.888938903808594e-05,
          0.00011205673217773438,
          0.00010156631469726562,
          0.0001380443572998047,
          5.984306335449219e-05,
          8.082389831542969e-05,
          5.841255187988281e-05,
          6.270408630371094e-05,
          6.556510925292969e-05,
          8.368492126464844e-05,
          9.870529174804688e-05,
          0.00013899803161621094,
          6.127357482910156e-05,
          5.888938903808594e-05,
          5.9604644775390625e-05,
          5.793571472167969e-05,
          6.246566772460938e-05,
          6.29425048828125e-05,
          0.03288769721984863,
          8.153915405273438e-05,
          8.654594421386719e-05,
          8.273124694824219e-05,
          9.655952453613281e-05,
          0.0001780986785888672,
          0.00010514259338378906,
          9.226799011230469e-05,
          7.319450378417969e-05,
          7.390975952148438e-05,
          9.679794311523438e-05,
          0.00015687942504882812,
          8.296966552734375e-05,
          7.414817810058594e-05,
          8.559226989746094e-05,
          7.2479248046875e-05,
          7.081031799316406e-05,
          7.009506225585938e-05,
          7.152557373046875e-05,
          6.890296936035156e-05,
          0.00016236305236816406,
          8.845329284667969e-05,
          0.00013780593872070312,
          8.821487426757812e-05,
          8.893013000488281e-05,
          6.389617919921875e-05,
          5.9604644775390625e-05,
          6.175041198730469e-05,
          6.198883056640625e-05,
          0.00010132789611816406,
          8.440017700195312e-05,
          6.0558319091796875e-05,
          5.984306335449219e-05,
          6.0558319091796875e-05,
          6.628036499023438e-05,
          5.793571472167969e-05,
          5.7697296142578125e-05,
          6.222724914550781e-05,
          6.723403930664062e-05,
          6.031990051269531e-05,
          5.8650970458984375e-05,
          6.198883056640625e-05,
          8.988380432128906e-05,
          6.079673767089844e-05,
          5.817413330078125e-05,
          9.632110595703125e-05,
          0.00012969970703125,
          6.937980651855469e-05,
          9.179115295410156e-05,
          6.723403930664062e-05,
          6.961822509765625e-05,
          6.771087646484375e-05,
          5.9604644775390625e-05,
          5.984306335449219e-05,
          6.0558319091796875e-05,
          0.0001289844512939453,
          8.368492126464844e-05,
          6.127357482910156e-05,
          6.031990051269531e-05,
          6.365776062011719e-05,
          5.8650970458984375e-05,
          6.103515625e-05,
          6.151199340820312e-05,
          5.793571472167969e-05,
          5.888938903808594e-05,
          6.699562072753906e-05,
          5.793571472167969e-05,
          7.772445678710938e-05,
          5.8650970458984375e-05,
          5.91278076171875e-05,
          5.888938903808594e-05,
          6.151199340820312e-05,
          6.556510925292969e-05,
          5.888938903808594e-05,
          5.817413330078125e-05,
          5.936622619628906e-05,
          5.8650970458984375e-05,
          5.9604644775390625e-05,
          5.8650970458984375e-05,
          6.175041198730469e-05,
          5.745887756347656e-05,
          5.793571472167969e-05,
          5.984306335449219e-05,
          5.984306335449219e-05,
          5.984306335449219e-05,
          5.984306335449219e-05,
          5.888938903808594e-05,
          5.91278076171875e-05,
          5.91278076171875e-05,
          5.817413330078125e-05,
          5.888938903808594e-05,
          5.888938903808594e-05,
          5.841255187988281e-05,
          0.016733169555664062,
          0.00011467933654785156,
          0.03926253318786621,
          6.461143493652344e-05,
          5.984306335449219e-05,
          5.745887756347656e-05,
          0.07171130180358887,
          7.963180541992188e-05,
          7.867813110351562e-05,
          6.127357482910156e-05,
          6.079673767089844e-05,
          5.984306335449219e-05,
          5.888938903808594e-05,
          5.841255187988281e-05,
          0.1233513355255127,
          7.128715515136719e-05,
          5.888938903808594e-05,
          5.745887756347656e-05,
          5.8650970458984375e-05,
          5.745887756347656e-05,
          5.7220458984375e-05,
          5.7697296142578125e-05,
          5.817413330078125e-05,
          6.866455078125e-05,
          6.628036499023438e-05,
          6.508827209472656e-05,
          6.389617919921875e-05,
          6.461143493652344e-05,
          6.580352783203125e-05,
          6.508827209472656e-05,
          6.4849853515625e-05,
          6.67572021484375e-05,
          8.249282836914062e-05,
          6.842613220214844e-05,
          6.532669067382812e-05,
          6.437301635742188e-05,
          6.4849853515625e-05,
          6.341934204101562e-05,
          6.413459777832031e-05,
          6.413459777832031e-05,
          6.341934204101562e-05,
          6.389617919921875e-05,
          7.009506225585938e-05,
          8.153915405273438e-05,
          7.009506225585938e-05,
          7.2479248046875e-05,
          0.00011992454528808594,
          6.628036499023438e-05,
          0.00012445449829101562,
          7.581710815429688e-05,
          9.655952453613281e-05,
          6.914138793945312e-05,
          6.604194641113281e-05,
          6.508827209472656e-05,
          6.413459777832031e-05,
          6.437301635742188e-05,
          7.033348083496094e-05,
          8.630752563476562e-05,
          6.771087646484375e-05,
          6.461143493652344e-05,
          6.413459777832031e-05,
          6.461143493652344e-05,
          0.327578067779541,
          7.295608520507812e-05,
          6.4849853515625e-05,
          7.05718994140625e-05,
          6.890296936035156e-05,
          6.961822509765625e-05,
          6.771087646484375e-05,
          6.651878356933594e-05,
          0.004910945892333984,
          6.0558319091796875e-05,
          7.915496826171875e-05,
          6.103515625e-05,
          6.031990051269531e-05,
          5.602836608886719e-05,
          5.602836608886719e-05,
          5.745887756347656e-05,
          5.888938903808594e-05,
          5.7220458984375e-05,
          9.417533874511719e-05,
          5.793571472167969e-05,
          6.151199340820312e-05,
          6.008148193359375e-05,
          6.0558319091796875e-05,
          5.6743621826171875e-05,
          5.626678466796875e-05,
          5.745887756347656e-05,
          5.91278076171875e-05,
          5.888938903808594e-05,
          5.7697296142578125e-05,
          5.745887756347656e-05,
          5.7220458984375e-05,
          0.00011134147644042969,
          6.198883056640625e-05,
          0.00012350082397460938,
          6.580352783203125e-05,
          5.9604644775390625e-05,
          5.8650970458984375e-05,
          6.389617919921875e-05,
          5.841255187988281e-05,
          5.793571472167969e-05,
          5.936622619628906e-05,
          6.747245788574219e-05,
          6.365776062011719e-05,
          6.318092346191406e-05,
          6.365776062011719e-05,
          6.437301635742188e-05,
          8.177757263183594e-05,
          6.747245788574219e-05,
          6.771087646484375e-05,
          6.723403930664062e-05,
          6.532669067382812e-05,
          6.651878356933594e-05,
          6.604194641113281e-05,
          6.532669067382812e-05,
          6.413459777832031e-05,
          6.580352783203125e-05,
          0.00011849403381347656,
          0.0001494884490966797,
          6.67572021484375e-05,
          6.604194641113281e-05,
          6.365776062011719e-05,
          6.937980651855469e-05,
          6.4849853515625e-05,
          6.4849853515625e-05,
          6.413459777832031e-05,
          0.00010347366333007812,
          6.556510925292969e-05,
          6.4849853515625e-05,
          6.532669067382812e-05,
          6.508827209472656e-05,
          6.437301635742188e-05,
          6.413459777832031e-05,
          6.413459777832031e-05,
          6.723403930664062e-05,
          6.556510925292969e-05,
          6.651878356933594e-05,
          6.556510925292969e-05,
          6.580352783203125e-05,
          6.532669067382812e-05,
          7.152557373046875e-05,
          7.176399230957031e-05,
          8.225440979003906e-05,
          6.651878356933594e-05,
          6.508827209472656e-05,
          6.532669067382812e-05,
          6.4849853515625e-05,
          6.461143493652344e-05,
          6.437301635742188e-05,
          0.004666566848754883,
          9.036064147949219e-05,
          5.793571472167969e-05,
          5.817413330078125e-05,
          7.2479248046875e-05,
          8.296966552734375e-05,
          0.00011014938354492188,
          6.890296936035156e-05,
          0.00010442733764648438,
          0.00010824203491210938,
          6.866455078125e-05,
          7.987022399902344e-05,
          0.00011181831359863281,
          7.390975952148438e-05,
          6.103515625e-05,
          5.984306335449219e-05,
          5.9604644775390625e-05,
          0.0001010894775390625,
          8.058547973632812e-05,
          5.91278076171875e-05,
          5.698204040527344e-05,
          5.817413330078125e-05,
          6.0558319091796875e-05,
          6.246566772460938e-05,
          5.745887756347656e-05,
          5.793571472167969e-05,
          7.581710815429688e-05,
          5.7697296142578125e-05,
          5.7697296142578125e-05,
          6.008148193359375e-05,
          8.082389831542969e-05,
          5.53131103515625e-05,
          5.7220458984375e-05,
          0.00011134147644042969,
          5.817413330078125e-05,
          5.817413330078125e-05,
          5.793571472167969e-05,
          6.079673767089844e-05,
          6.151199340820312e-05,
          7.367134094238281e-05,
          0.04703831672668457,
          6.29425048828125e-05,
          5.8650970458984375e-05,
          6.151199340820312e-05,
          0.00010514259338378906,
          9.083747863769531e-05,
          5.984306335449219e-05,
          7.462501525878906e-05,
          5.698204040527344e-05,
          6.198883056640625e-05,
          5.745887756347656e-05,
          5.6743621826171875e-05,
          5.602836608886719e-05,
          5.626678466796875e-05,
          5.745887756347656e-05,
          6.127357482910156e-05,
          0.00012230873107910156,
          5.745887756347656e-05,
          6.67572021484375e-05,
          9.417533874511719e-05,
          5.7220458984375e-05,
          5.626678466796875e-05,
          5.841255187988281e-05,
          5.626678466796875e-05,
          5.555152893066406e-05,
          5.5789947509765625e-05,
          5.6743621826171875e-05,
          5.936622619628906e-05,
          5.650520324707031e-05,
          5.7220458984375e-05,
          9.250640869140625e-05,
          5.6743621826171875e-05,
          6.079673767089844e-05,
          6.222724914550781e-05,
          5.793571472167969e-05,
          5.793571472167969e-05,
          5.698204040527344e-05,
          7.128715515136719e-05,
          6.008148193359375e-05,
          5.5789947509765625e-05,
          5.698204040527344e-05,
          5.817413330078125e-05,
          5.6743621826171875e-05,
          5.936622619628906e-05,
          5.8650970458984375e-05,
          5.698204040527344e-05,
          6.079673767089844e-05,
          5.7697296142578125e-05,
          9.655952453613281e-05,
          5.817413330078125e-05,
          5.745887756347656e-05,
          5.698204040527344e-05,
          5.626678466796875e-05,
          5.5789947509765625e-05,
          5.745887756347656e-05,
          5.6743621826171875e-05,
          5.698204040527344e-05,
          5.626678466796875e-05,
          5.7220458984375e-05,
          5.841255187988281e-05,
          6.079673767089844e-05,
          6.318092346191406e-05,
          5.626678466796875e-05,
          5.5789947509765625e-05,
          5.602836608886719e-05,
          5.602836608886719e-05,
          5.602836608886719e-05,
          6.0558319091796875e-05,
          0.00010275840759277344,
          5.626678466796875e-05,
          6.270408630371094e-05,
          5.602836608886719e-05,
          5.626678466796875e-05,
          5.6743621826171875e-05,
          0.00012946128845214844,
          6.0558319091796875e-05,
          5.9604644775390625e-05,
          6.437301635742188e-05,
          7.867813110351562e-05,
          5.793571472167969e-05,
          5.91278076171875e-05,
          5.888938903808594e-05,
          5.841255187988281e-05,
          6.198883056640625e-05,
          5.91278076171875e-05,
          7.748603820800781e-05,
          7.200241088867188e-05,
          9.107589721679688e-05,
          6.937980651855469e-05,
          0.00010609626770019531,
          0.00012302398681640625,
          5.8650970458984375e-05,
          5.745887756347656e-05,
          5.8650970458984375e-05,
          5.650520324707031e-05,
          6.699562072753906e-05,
          7.534027099609375e-05,
          5.7697296142578125e-05,
          5.936622619628906e-05,
          9.632110595703125e-05,
          6.341934204101562e-05,
          6.151199340820312e-05,
          0.00013971328735351562,
          0.04456472396850586,
          6.222724914550781e-05,
          5.7697296142578125e-05,
          6.341934204101562e-05,
          7.367134094238281e-05,
          5.8650970458984375e-05,
          5.7697296142578125e-05,
          5.984306335449219e-05,
          5.984306335449219e-05,
          5.8650970458984375e-05,
          5.91278076171875e-05,
          6.0558319091796875e-05,
          6.222724914550781e-05,
          0.00010704994201660156,
          5.91278076171875e-05,
          7.534027099609375e-05,
          5.7220458984375e-05,
          5.626678466796875e-05,
          5.650520324707031e-05,
          5.745887756347656e-05,
          6.222724914550781e-05,
          0.00011444091796875,
          5.698204040527344e-05,
          5.6743621826171875e-05,
          5.7697296142578125e-05,
          7.152557373046875e-05,
          6.008148193359375e-05,
          5.793571472167969e-05,
          5.7697296142578125e-05,
          6.365776062011719e-05,
          5.793571472167969e-05,
          6.365776062011719e-05,
          6.198883056640625e-05,
          5.602836608886719e-05,
          5.53131103515625e-05,
          5.5789947509765625e-05,
          5.793571472167969e-05,
          5.841255187988281e-05,
          8.177757263183594e-05,
          5.5789947509765625e-05,
          6.175041198730469e-05,
          5.698204040527344e-05,
          5.602836608886719e-05,
          5.7220458984375e-05,
          5.745887756347656e-05,
          5.7220458984375e-05,
          0.00012135505676269531,
          0.0001285076141357422,
          7.104873657226562e-05,
          6.723403930664062e-05,
          5.698204040527344e-05,
          5.793571472167969e-05,
          5.7220458984375e-05,
          5.841255187988281e-05,
          5.8650970458984375e-05,
          8.177757263183594e-05,
          7.700920104980469e-05,
          7.653236389160156e-05,
          5.817413330078125e-05,
          5.888938903808594e-05,
          6.079673767089844e-05,
          6.008148193359375e-05,
          5.984306335449219e-05,
          5.9604644775390625e-05,
          6.127357482910156e-05,
          5.7697296142578125e-05,
          5.8650970458984375e-05,
          5.626678466796875e-05,
          5.817413330078125e-05,
          5.793571472167969e-05,
          5.817413330078125e-05,
          6.008148193359375e-05,
          5.7697296142578125e-05,
          7.724761962890625e-05,
          5.745887756347656e-05,
          5.698204040527344e-05,
          0.04795527458190918,
          6.937980651855469e-05,
          7.82012939453125e-05,
          5.888938903808594e-05,
          6.008148193359375e-05,
          5.8650970458984375e-05,
          6.198883056640625e-05,
          9.512901306152344e-05,
          6.008148193359375e-05,
          6.318092346191406e-05,
          5.888938903808594e-05,
          5.8650970458984375e-05,
          6.103515625e-05,
          5.936622619628906e-05,
          5.888938903808594e-05,
          5.91278076171875e-05,
          6.556510925292969e-05,
          5.793571472167969e-05,
          5.841255187988281e-05,
          6.031990051269531e-05,
          5.626678466796875e-05,
          5.984306335449219e-05,
          5.888938903808594e-05,
          5.650520324707031e-05,
          0.00012731552124023438,
          6.604194641113281e-05,
          5.7697296142578125e-05,
          5.6743621826171875e-05,
          5.555152893066406e-05,
          5.650520324707031e-05,
          5.650520324707031e-05,
          5.888938903808594e-05,
          0.00011038780212402344,
          5.626678466796875e-05,
          5.650520324707031e-05,
          6.341934204101562e-05,
          5.698204040527344e-05,
          5.6743621826171875e-05,
          5.5789947509765625e-05,
          5.6743621826171875e-05,
          6.198883056640625e-05,
          7.462501525878906e-05,
          6.103515625e-05,
          5.7697296142578125e-05,
          5.817413330078125e-05,
          5.7697296142578125e-05,
          5.793571472167969e-05,
          6.079673767089844e-05,
          5.6743621826171875e-05,
          5.602836608886719e-05,
          5.602836608886719e-05,
          5.7697296142578125e-05,
          5.507469177246094e-05,
          5.6743621826171875e-05,
          6.008148193359375e-05,
          5.5789947509765625e-05,
          5.626678466796875e-05,
          5.650520324707031e-05,
          5.626678466796875e-05,
          5.650520324707031e-05,
          6.103515625e-05,
          5.602836608886719e-05,
          0.00011754035949707031,
          7.319450378417969e-05,
          6.079673767089844e-05,
          6.246566772460938e-05,
          6.079673767089844e-05,
          6.103515625e-05,
          5.793571472167969e-05,
          5.8650970458984375e-05,
          5.7220458984375e-05,
          5.698204040527344e-05,
          5.91278076171875e-05,
          5.888938903808594e-05,
          9.012222290039062e-05,
          6.031990051269531e-05,
          5.7697296142578125e-05,
          6.008148193359375e-05,
          5.841255187988281e-05,
          5.984306335449219e-05,
          6.270408630371094e-05,
          5.6743621826171875e-05,
          7.963180541992188e-05,
          5.936622619628906e-05,
          5.745887756347656e-05,
          5.841255187988281e-05,
          6.246566772460938e-05,
          5.984306335449219e-05,
          5.793571472167969e-05,
          5.698204040527344e-05,
          5.7220458984375e-05,
          0.00015497207641601562,
          5.745887756347656e-05,
          0.049977779388427734,
          6.937980651855469e-05,
          6.079673767089844e-05,
          5.91278076171875e-05,
          6.0558319091796875e-05,
          6.4849853515625e-05,
          5.698204040527344e-05,
          5.8650970458984375e-05,
          5.817413330078125e-05,
          5.793571472167969e-05,
          5.91278076171875e-05,
          5.91278076171875e-05,
          6.151199340820312e-05,
          8.96453857421875e-05,
          5.888938903808594e-05,
          5.8650970458984375e-05,
          5.936622619628906e-05,
          6.079673767089844e-05,
          7.772445678710938e-05,
          5.936622619628906e-05,
          5.793571472167969e-05,
          6.031990051269531e-05,
          5.888938903808594e-05,
          7.62939453125e-05,
          6.318092346191406e-05,
          7.653236389160156e-05,
          6.29425048828125e-05,
          5.602836608886719e-05,
          5.602836608886719e-05,
          5.7220458984375e-05,
          0.025438547134399414,
          6.29425048828125e-05,
          5.8650970458984375e-05,
          6.103515625e-05,
          5.984306335449219e-05,
          6.270408630371094e-05,
          5.7697296142578125e-05,
          8.58306884765625e-05,
          0.00010728836059570312,
          9.989738464355469e-05,
          6.604194641113281e-05,
          6.29425048828125e-05,
          9.679794311523438e-05,
          6.580352783203125e-05,
          6.151199340820312e-05,
          5.984306335449219e-05,
          5.91278076171875e-05,
          6.008148193359375e-05,
          5.936622619628906e-05,
          5.9604644775390625e-05,
          8.654594421386719e-05,
          6.222724914550781e-05,
          5.9604644775390625e-05,
          6.365776062011719e-05,
          9.655952453613281e-05,
          0.0001220703125,
          8.440017700195312e-05,
          6.723403930664062e-05,
          6.079673767089844e-05,
          6.031990051269531e-05,
          5.936622619628906e-05,
          5.8650970458984375e-05,
          5.8650970458984375e-05,
          6.461143493652344e-05,
          6.341934204101562e-05,
          6.270408630371094e-05,
          5.698204040527344e-05,
          5.745887756347656e-05,
          5.7220458984375e-05,
          5.7220458984375e-05,
          5.817413330078125e-05,
          6.818771362304688e-05,
          6.341934204101562e-05,
          9.250640869140625e-05,
          5.6743621826171875e-05,
          5.745887756347656e-05,
          5.6743621826171875e-05,
          5.698204040527344e-05,
          5.6743621826171875e-05,
          5.817413330078125e-05,
          5.841255187988281e-05,
          6.103515625e-05,
          5.817413330078125e-05,
          0.6203596591949463,
          0.5989162921905518,
          7.224082946777344e-05,
          6.747245788574219e-05,
          6.723403930664062e-05,
          7.43865966796875e-05,
          6.961822509765625e-05,
          6.628036499023438e-05,
          6.914138793945312e-05,
          6.866455078125e-05,
          0.00012254714965820312,
          0.06206202507019043,
          7.104873657226562e-05,
          6.341934204101562e-05,
          7.414817810058594e-05,
          6.842613220214844e-05,
          6.389617919921875e-05,
          0.6210846900939941,
          4.712974548339844,
          0.00045228004455566406,
          0.5054035186767578,
          3.2590951919555664,
          4.865058898925781,
          4.770475387573242,
          4.783240795135498,
          4.090578079223633,
          4.619189262390137,
          4.388488292694092,
          4.6294379234313965,
          3.1572747230529785,
          4.193821907043457,
          0.2601659297943115,
          0.0038230419158935547,
          0.004362344741821289,
          0.004987478256225586,
          0.0041811466217041016,
          0.005064487457275391,
          0.004445075988769531,
          0.004354715347290039,
          0.004304409027099609,
          0.004647493362426758,
          0.004675865173339844,
          0.00450897216796875,
          0.007252693176269531,
          0.007147789001464844,
          0.005780935287475586,
          0.004265785217285156,
          0.009756803512573242,
          0.0043048858642578125,
          0.004072904586791992,
          0.004173994064331055,
          0.0047376155853271484,
          0.004255533218383789,
          0.0043392181396484375,
          0.0042150020599365234,
          0.00401759147644043,
          0.003942728042602539,
          0.0040454864501953125,
          0.0040090084075927734,
          0.006087064743041992,
          0.004385471343994141,
          0.0040743350982666016,
          0.0050389766693115234,
          0.004439353942871094,
          0.00410771369934082,
          0.00446319580078125,
          0.004049062728881836,
          0.00493931770324707,
          0.004120588302612305,
          0.004083871841430664,
          0.004192352294921875,
          0.004161357879638672,
          0.004102945327758789,
          0.004174232482910156,
          0.004563331604003906,
          0.004332304000854492,
          0.004195690155029297,
          0.004418611526489258,
          0.00455784797668457,
          0.004338264465332031,
          0.004658222198486328,
          0.004395246505737305,
          0.004172801971435547,
          0.004819154739379883,
          0.004089832305908203,
          0.0041277408599853516,
          0.0040929317474365234,
          0.0042726993560791016,
          0.004075288772583008,
          0.004182577133178711,
          0.004015922546386719,
          0.004083871841430664,
          0.00509953498840332,
          0.004568576812744141,
          0.004523515701293945,
          0.004394054412841797,
          0.004415750503540039,
          0.004453897476196289,
          0.018782854080200195,
          0.0043621063232421875,
          0.004274129867553711,
          0.05444979667663574,
          0.003923177719116211,
          0.0038225650787353516,
          0.003345489501953125,
          0.0033178329467773438,
          0.4516608715057373,
          0.0028891563415527344,
          0.0639190673828125,
          0.002954721450805664,
          0.002844095230102539,
          0.003315448760986328,
          0.0032715797424316406,
          0.003113269805908203,
          0.003277301788330078,
          0.0035219192504882812,
          0.008122444152832031,
          0.008182764053344727,
          0.008250713348388672,
          0.008280038833618164,
          0.00895071029663086,
          0.008695840835571289,
          0.00829172134399414,
          0.008501768112182617,
          0.00860905647277832,
          0.010740518569946289,
          0.008800506591796875,
          0.008156538009643555,
          0.008544206619262695,
          0.008193254470825195,
          0.008066177368164062,
          0.008170366287231445,
          0.008133172988891602,
          0.00810861587524414,
          0.00783991813659668,
          0.008336305618286133,
          0.007948160171508789,
          0.016249656677246094,
          0.007684230804443359,
          0.0076029300689697266,
          0.007521390914916992,
          0.007721900939941406,
          0.0074062347412109375,
          0.020420074462890625,
          0.007416963577270508,
          0.06060791015625,
          0.007930994033813477,
          0.007698774337768555,
          0.0077288150787353516,
          0.00811147689819336,
          0.009417057037353516,
          0.008864402770996094,
          0.007314205169677734,
          0.00791168212890625,
          0.00754857063293457,
          0.007613658905029297,
          0.008023262023925781,
          0.007451534271240234,
          0.007281064987182617,
          0.008818864822387695,
          0.007681846618652344,
          0.007866621017456055,
          0.007991313934326172,
          0.008307218551635742,
          0.008225679397583008,
          0.007849693298339844,
          0.008397102355957031,
          0.00826406478881836,
          0.008632183074951172,
          0.008329629898071289,
          0.008763313293457031,
          0.008777379989624023,
          0.008324623107910156,
          0.00773930549621582,
          0.007710933685302734,
          0.009090185165405273,
          0.00906229019165039,
          0.009035348892211914,
          0.4399533271789551,
          0.007699728012084961,
          0.007768869400024414,
          0.007714748382568359,
          0.008082389831542969,
          0.007858514785766602,
          0.007709503173828125,
          0.008422374725341797,
          0.007742643356323242,
          0.008677244186401367,
          0.007570028305053711,
          0.008907079696655273,
          0.007572650909423828,
          0.0002834796905517578,
          6.508827209472656e-05,
          6.246566772460938e-05,
          5.888938903808594e-05,
          5.91278076171875e-05,
          6.198883056640625e-05,
          5.8650970458984375e-05,
          5.841255187988281e-05,
          5.984306335449219e-05,
          5.817413330078125e-05,
          5.8650970458984375e-05,
          6.008148193359375e-05,
          5.793571472167969e-05,
          9.965896606445312e-05,
          5.6743621826171875e-05,
          5.91278076171875e-05,
          5.841255187988281e-05,
          6.198883056640625e-05,
          5.5789947509765625e-05,
          5.698204040527344e-05,
          6.198883056640625e-05,
          0.00011348724365234375,
          0.00010609626770019531,
          5.841255187988281e-05,
          5.984306335449219e-05,
          5.841255187988281e-05,
          5.936622619628906e-05,
          6.198883056640625e-05,
          5.7697296142578125e-05,
          5.7220458984375e-05,
          5.888938903808594e-05,
          5.745887756347656e-05,
          5.602836608886719e-05,
          5.817413330078125e-05,
          0.00012731552124023438,
          5.841255187988281e-05,
          0.00012302398681640625,
          5.7220458984375e-05,
          5.7220458984375e-05,
          5.841255187988281e-05,
          5.793571472167969e-05,
          5.936622619628906e-05,
          5.5789947509765625e-05,
          5.555152893066406e-05,
          5.602836608886719e-05,
          0.0001442432403564453,
          5.841255187988281e-05,
          9.751319885253906e-05,
          5.6743621826171875e-05,
          5.7220458984375e-05,
          5.626678466796875e-05,
          5.793571472167969e-05,
          5.650520324707031e-05,
          7.772445678710938e-05,
          5.555152893066406e-05,
          5.888938903808594e-05,
          9.799003601074219e-05,
          5.841255187988281e-05,
          5.7697296142578125e-05,
          5.745887756347656e-05,
          5.91278076171875e-05,
          5.7697296142578125e-05,
          5.5789947509765625e-05,
          5.602836608886719e-05,
          7.271766662597656e-05,
          6.0558319091796875e-05,
          5.650520324707031e-05,
          5.5789947509765625e-05,
          5.6743621826171875e-05,
          5.650520324707031e-05,
          5.745887756347656e-05,
          6.151199340820312e-05,
          5.626678466796875e-05,
          5.745887756347656e-05,
          5.6743621826171875e-05,
          5.793571472167969e-05,
          5.7697296142578125e-05,
          0.00018262863159179688,
          6.961822509765625e-05,
          6.508827209472656e-05,
          6.151199340820312e-05,
          5.936622619628906e-05,
          7.677078247070312e-05,
          7.772445678710938e-05,
          5.745887756347656e-05,
          5.841255187988281e-05,
          5.841255187988281e-05,
          7.62939453125e-05,
          5.745887756347656e-05,
          5.817413330078125e-05,
          5.817413330078125e-05,
          6.103515625e-05,
          5.650520324707031e-05,
          5.7697296142578125e-05,
          5.745887756347656e-05,
          5.7697296142578125e-05,
          5.698204040527344e-05,
          0.00011563301086425781,
          6.532669067382812e-05,
          6.699562072753906e-05,
          5.91278076171875e-05,
          5.817413330078125e-05,
          5.8650970458984375e-05,
          5.91278076171875e-05,
          5.793571472167969e-05,
          5.817413330078125e-05,
          5.9604644775390625e-05,
          5.936622619628906e-05,
          6.008148193359375e-05,
          0.00022029876708984375,
          7.224082946777344e-05,
          0.00011110305786132812,
          9.5367431640625e-05,
          0.0001361370086669922,
          6.246566772460938e-05,
          5.841255187988281e-05,
          5.745887756347656e-05,
          5.9604644775390625e-05,
          7.367134094238281e-05,
          6.437301635742188e-05,
          5.841255187988281e-05,
          5.888938903808594e-05,
          5.91278076171875e-05,
          6.270408630371094e-05,
          6.175041198730469e-05,
          0.00012993812561035156,
          5.793571472167969e-05,
          5.793571472167969e-05,
          5.936622619628906e-05,
          6.103515625e-05,
          5.7697296142578125e-05,
          6.008148193359375e-05,
          5.793571472167969e-05,
          5.8650970458984375e-05,
          5.626678466796875e-05,
          5.936622619628906e-05,
          5.7697296142578125e-05,
          6.532669067382812e-05,
          7.987022399902344e-05,
          6.389617919921875e-05,
          6.604194641113281e-05,
          6.389617919921875e-05,
          6.818771362304688e-05,
          6.365776062011719e-05,
          6.365776062011719e-05,
          6.532669067382812e-05,
          6.389617919921875e-05,
          0.00011563301086425781,
          6.389617919921875e-05,
          6.29425048828125e-05,
          6.437301635742188e-05,
          6.341934204101562e-05,
          7.939338684082031e-05,
          6.914138793945312e-05,
          0.0937814712524414,
          8.225440979003906e-05,
          8.058547973632812e-05,
          7.891654968261719e-05,
          7.796287536621094e-05,
          7.772445678710938e-05,
          8.344650268554688e-05,
          8.320808410644531e-05,
          7.653236389160156e-05,
          7.343292236328125e-05,
          7.319450378417969e-05,
          8.058547973632812e-05,
          7.867813110351562e-05,
          7.963180541992188e-05,
          7.2479248046875e-05,
          7.176399230957031e-05,
          7.534027099609375e-05,
          7.319450378417969e-05,
          7.486343383789062e-05,
          7.05718994140625e-05,
          7.104873657226562e-05,
          7.939338684082031e-05,
          7.700920104980469e-05,
          7.581710815429688e-05,
          8.440017700195312e-05,
          7.557868957519531e-05,
          9.799003601074219e-05,
          7.82012939453125e-05,
          8.440017700195312e-05,
          7.772445678710938e-05,
          0.004773378372192383,
          9.131431579589844e-05,
          6.270408630371094e-05,
          6.556510925292969e-05,
          6.318092346191406e-05,
          7.486343383789062e-05,
          5.9604644775390625e-05,
          6.222724914550781e-05,
          6.794929504394531e-05,
          6.842613220214844e-05,
          7.200241088867188e-05,
          6.890296936035156e-05,
          6.556510925292969e-05,
          6.628036499023438e-05,
          7.104873657226562e-05,
          6.985664367675781e-05,
          7.2479248046875e-05,
          6.937980651855469e-05,
          6.4849853515625e-05,
          6.508827209472656e-05,
          6.0558319091796875e-05,
          0.0001499652862548828,
          0.00011658668518066406,
          0.00011801719665527344,
          7.987022399902344e-05,
          7.82012939453125e-05,
          7.43865966796875e-05,
          7.200241088867188e-05,
          6.341934204101562e-05,
          6.461143493652344e-05,
          6.127357482910156e-05,
          6.461143493652344e-05,
          7.224082946777344e-05,
          6.747245788574219e-05,
          7.104873657226562e-05,
          6.628036499023438e-05,
          7.62939453125e-05,
          7.891654968261719e-05,
          7.987022399902344e-05,
          7.510185241699219e-05,
          7.486343383789062e-05,
          7.62939453125e-05,
          7.748603820800781e-05,
          7.510185241699219e-05,
          7.653236389160156e-05,
          8.821487426757812e-05,
          7.486343383789062e-05,
          0.00010275840759277344,
          7.915496826171875e-05,
          8.034706115722656e-05,
          8.654594421386719e-05,
          8.463859558105469e-05,
          0.00014090538024902344,
          0.00013303756713867188,
          8.630752563476562e-05,
          7.724761962890625e-05,
          8.034706115722656e-05,
          7.62939453125e-05,
          7.62939453125e-05,
          0.00011301040649414062,
          0.00010585784912109375,
          9.131431579589844e-05,
          8.106231689453125e-05,
          7.367134094238281e-05,
          7.271766662597656e-05,
          7.152557373046875e-05,
          7.200241088867188e-05,
          0.00010061264038085938,
          0.00010180473327636719,
          0.00010371208190917969,
          6.699562072753906e-05,
          7.843971252441406e-05,
          7.224082946777344e-05,
          6.747245788574219e-05,
          6.771087646484375e-05,
          6.723403930664062e-05,
          6.937980651855469e-05,
          6.985664367675781e-05,
          6.747245788574219e-05,
          7.510185241699219e-05,
          6.842613220214844e-05,
          7.033348083496094e-05,
          7.176399230957031e-05,
          7.772445678710938e-05,
          7.843971252441406e-05,
          7.05718994140625e-05,
          7.867813110351562e-05,
          6.580352783203125e-05,
          7.176399230957031e-05,
          6.842613220214844e-05,
          9.679794311523438e-05,
          6.437301635742188e-05,
          6.556510925292969e-05,
          6.794929504394531e-05,
          6.67572021484375e-05,
          7.104873657226562e-05,
          6.747245788574219e-05,
          7.200241088867188e-05,
          6.961822509765625e-05,
          6.866455078125e-05,
          6.747245788574219e-05,
          0.00010347366333007812,
          0.00012445449829101562,
          0.00012445449829101562,
          0.00012540817260742188,
          9.036064147949219e-05,
          7.271766662597656e-05,
          6.937980651855469e-05,
          7.724761962890625e-05,
          6.866455078125e-05,
          7.176399230957031e-05,
          7.343292236328125e-05,
          6.985664367675781e-05,
          6.961822509765625e-05,
          0.00010704994201660156,
          8.344650268554688e-05,
          7.367134094238281e-05,
          6.794929504394531e-05,
          7.510185241699219e-05,
          7.271766662597656e-05,
          9.441375732421875e-05,
          7.319450378417969e-05,
          7.653236389160156e-05,
          8.821487426757812e-05,
          7.367134094238281e-05,
          7.343292236328125e-05,
          7.2479248046875e-05,
          7.104873657226562e-05,
          6.985664367675781e-05,
          9.751319885253906e-05,
          7.271766662597656e-05,
          7.653236389160156e-05,
          0.00010991096496582031,
          7.987022399902344e-05,
          0.008620738983154297,
          8.034706115722656e-05,
          7.557868957519531e-05,
          7.915496826171875e-05,
          7.152557373046875e-05,
          7.200241088867188e-05,
          7.510185241699219e-05,
          7.200241088867188e-05,
          0.00012493133544921875,
          0.00011491775512695312,
          8.082389831542969e-05,
          7.510185241699219e-05,
          7.677078247070312e-05,
          7.891654968261719e-05,
          7.462501525878906e-05,
          7.510185241699219e-05,
          6.628036499023438e-05,
          7.867813110351562e-05,
          7.05718994140625e-05,
          6.961822509765625e-05,
          7.43865966796875e-05,
          8.654594421386719e-05,
          7.200241088867188e-05,
          7.176399230957031e-05,
          7.009506225585938e-05,
          6.961822509765625e-05,
          6.747245788574219e-05,
          6.771087646484375e-05,
          7.104873657226562e-05,
          7.82012939453125e-05,
          8.58306884765625e-05,
          7.486343383789062e-05,
          7.081031799316406e-05,
          7.05718994140625e-05,
          7.009506225585938e-05,
          7.414817810058594e-05,
          6.914138793945312e-05,
          6.866455078125e-05,
          9.298324584960938e-05,
          0.00012445449829101562,
          7.843971252441406e-05,
          7.867813110351562e-05,
          7.891654968261719e-05,
          8.20159912109375e-05,
          7.200241088867188e-05,
          7.390975952148438e-05,
          9.250640869140625e-05,
          8.034706115722656e-05,
          6.914138793945312e-05,
          7.605552673339844e-05,
          7.462501525878906e-05,
          7.224082946777344e-05,
          8.177757263183594e-05,
          7.271766662597656e-05,
          7.271766662597656e-05,
          9.846687316894531e-05,
          9.083747863769531e-05,
          7.605552673339844e-05,
          7.581710815429688e-05,
          7.128715515136719e-05,
          7.009506225585938e-05,
          7.152557373046875e-05,
          7.915496826171875e-05,
          7.319450378417969e-05,
          7.581710815429688e-05,
          7.295608520507812e-05,
          8.058547973632812e-05,
          7.43865966796875e-05,
          7.557868957519531e-05,
          7.700920104980469e-05,
          7.462501525878906e-05,
          7.939338684082031e-05,
          7.557868957519531e-05,
          7.939338684082031e-05,
          8.082389831542969e-05,
          0.00011372566223144531,
          7.62939453125e-05,
          7.867813110351562e-05,
          7.653236389160156e-05,
          8.511543273925781e-05,
          8.320808410644531e-05,
          7.653236389160156e-05,
          7.486343383789062e-05,
          6.890296936035156e-05,
          9.822845458984375e-05,
          7.390975952148438e-05,
          9.918212890625e-05,
          7.534027099609375e-05,
          6.985664367675781e-05,
          7.295608520507812e-05,
          7.295608520507812e-05,
          8.153915405273438e-05,
          0.00011372566223144531,
          9.560585021972656e-05,
          0.00010895729064941406,
          9.179115295410156e-05,
          9.894371032714844e-05,
          7.987022399902344e-05,
          7.963180541992188e-05,
          7.081031799316406e-05,
          0.7341694831848145,
          0.00010275840759277344,
          0.08053088188171387,
          9.72747802734375e-05,
          9.441375732421875e-05,
          0.0001227855682373047,
          9.870529174804688e-05,
          9.584426879882812e-05,
          9.393692016601562e-05,
          0.3874225616455078,
          0.00010085105895996094,
          0.0001010894775390625,
          9.250640869140625e-05,
          8.96453857421875e-05,
          0.00012636184692382812,
          8.845329284667969e-05,
          0.00010013580322265625,
          9.34600830078125e-05,
          0.00011467933654785156,
          0.00010466575622558594,
          0.8142986297607422,
          0.00010728836059570312,
          9.918212890625e-05,
          0.00011086463928222656,
          0.00010657310485839844,
          0.000102996826171875,
          0.00010251998901367188,
          0.00010466575622558594,
          0.00010776519775390625,
          0.0001163482666015625,
          0.0001380443572998047,
          0.0001347064971923828,
          0.00010085105895996094,
          0.00010347366333007812,
          0.00010514259338378906,
          0.00010395050048828125,
          9.918212890625e-05,
          0.00010251998901367188,
          0.00010013580322265625,
          0.0066661834716796875,
          0.00606989860534668,
          0.006018400192260742,
          0.006188392639160156,
          0.006407260894775391,
          0.006659746170043945,
          0.006284475326538086,
          0.006336212158203125,
          0.0066089630126953125,
          0.007188558578491211,
          0.0061855316162109375,
          0.006018638610839844,
          0.006039619445800781,
          0.006167173385620117,
          0.006815433502197266,
          0.006900310516357422,
          0.00849461555480957,
          0.008862972259521484,
          0.006172657012939453,
          0.007524967193603516,
          0.006180763244628906,
          0.0067327022552490234,
          0.0061190128326416016,
          0.006357431411743164,
          0.00613856315612793,
          0.039829254150390625,
          8.96453857421875e-05,
          0.000141143798828125,
          0.00011157989501953125,
          0.00013113021850585938,
          9.107589721679688e-05,
          8.320808410644531e-05,
          0.00014829635620117188,
          0.00010466575622558594,
          8.821487426757812e-05,
          0.0001285076141357422,
          8.344650268554688e-05,
          8.630752563476562e-05,
          9.894371032714844e-05,
          8.320808410644531e-05,
          0.0001010894775390625,
          8.869171142578125e-05,
          0.00010991096496582031,
          8.630752563476562e-05,
          9.441375732421875e-05,
          8.320808410644531e-05,
          8.153915405273438e-05,
          8.559226989746094e-05,
          0.00010251998901367188,
          8.845329284667969e-05,
          8.797645568847656e-05,
          0.00010323524475097656,
          9.632110595703125e-05,
          8.702278137207031e-05,
          8.606910705566406e-05,
          0.0001418590545654297,
          9.322166442871094e-05,
          9.1552734375e-05,
          0.0001289844512939453,
          8.7738037109375e-05,
          8.440017700195312e-05,
          0.00013446807861328125,
          9.107589721679688e-05,
          0.0001308917999267578,
          8.702278137207031e-05,
          8.797645568847656e-05,
          8.416175842285156e-05,
          8.630752563476562e-05,
          9.059906005859375e-05,
          9.059906005859375e-05,
          0.00012087821960449219,
          0.0001862049102783203,
          0.0001575946807861328,
          8.869171142578125e-05,
          9.703636169433594e-05,
          8.96453857421875e-05,
          0.00011467933654785156,
          0.00021576881408691406,
          8.916854858398438e-05,
          9.560585021972656e-05,
          8.726119995117188e-05,
          9.226799011230469e-05,
          8.96453857421875e-05,
          8.988380432128906e-05,
          9.870529174804688e-05,
          0.0001437664031982422,
          8.821487426757812e-05,
          9.679794311523438e-05,
          9.775161743164062e-05,
          0.00017142295837402344,
          0.0001010894775390625,
          0.00010514259338378906,
          9.632110595703125e-05,
          9.441375732421875e-05,
          7.700920104980469e-05,
          0.00011444091796875,
          8.344650268554688e-05,
          0.0001289844512939453,
          0.00012826919555664062,
          0.0001316070556640625,
          0.00012159347534179688,
          0.0001308917999267578,
          9.679794311523438e-05,
          8.606910705566406e-05,
          0.00014019012451171875,
          9.083747863769531e-05,
          8.916854858398438e-05,
          8.368492126464844e-05,
          0.00010895729064941406,
          0.00010919570922851562,
          0.00010204315185546875,
          0.00010657310485839844,
          9.799003601074219e-05,
          8.368492126464844e-05,
          9.083747863769531e-05,
          8.678436279296875e-05,
          0.0002799034118652344,
          8.082389831542969e-05,
          7.82012939453125e-05,
          7.915496826171875e-05,
          8.606910705566406e-05,
          7.796287536621094e-05,
          8.7738037109375e-05,
          8.440017700195312e-05,
          8.797645568847656e-05,
          0.7609670162200928,
          7.796287536621094e-05,
          7.128715515136719e-05,
          6.842613220214844e-05,
          6.914138793945312e-05,
          6.961822509765625e-05,
          7.82012939453125e-05,
          7.62939453125e-05,
          0.6050512790679932,
          6.341934204101562e-05,
          0.5474491119384766,
          3.9861032962799072,
          4.071490287780762,
          3.276106357574463,
          0.00047659873962402344,
          0.0003879070281982422,
          0.000354766845703125,
          0.002935647964477539,
          0.5859253406524658,
          0.0027799606323242188,
          0.5077197551727295,
          0.002577543258666992,
          0.611238956451416,
          0.0028159618377685547,
          0.0034554004669189453,
          0.0026726722717285156,
          0.002561807632446289,
          0.5639667510986328,
          0.0025246143341064453,
          0.002935647964477539,
          0.0026578903198242188,
          0.0024242401123046875,
          0.002643585205078125,
          0.0027227401733398438,
          0.0027306079864501953,
          0.0025053024291992188,
          0.002533435821533203,
          0.0026712417602539062,
          0.09960675239562988,
          0.0029022693634033203,
          0.002471446990966797,
          0.02074885368347168,
          0.002534151077270508,
          0.0025196075439453125,
          0.0028035640716552734,
          0.003102540969848633,
          0.004756450653076172,
          0.0029397010803222656,
          0.003806591033935547,
          0.002548694610595703,
          0.0025484561920166016,
          0.0028166770935058594,
          0.0025472640991210938,
          0.0025434494018554688,
          0.002802610397338867,
          0.0024852752685546875,
          0.002778768539428711,
          0.0025205612182617188,
          0.00244903564453125,
          0.002546072006225586,
          0.002579212188720703,
          0.0025300979614257812,
          0.00304412841796875,
          0.0030312538146972656,
          0.0030317306518554688,
          0.0027310848236083984,
          0.0026657581329345703,
          0.0025632381439208984,
          0.0025441646575927734,
          0.002818584442138672,
          0.0025038719177246094,
          0.0025415420532226562,
          0.0026068687438964844,
          0.0025548934936523438,
          0.002492666244506836,
          0.002507448196411133,
          0.002828359603881836,
          0.002536773681640625,
          0.0029184818267822266,
          0.0029354095458984375,
          0.003223896026611328,
          0.0025551319122314453,
          0.002838134765625,
          0.002533435821533203,
          0.002636432647705078,
          0.002684354782104492,
          0.002492666244506836,
          0.0025787353515625,
          0.0028772354125976562,
          0.0029218196868896484,
          0.0024895668029785156,
          0.0027685165405273438,
          0.002547740936279297,
          0.0028603076934814453,
          0.0027108192443847656,
          0.0031023025512695312,
          0.003094911575317383,
          0.002563953399658203,
          0.0025882720947265625,
          0.0024857521057128906,
          0.0025238990783691406,
          0.002523660659790039,
          0.002735614776611328,
          0.0026400089263916016,
          0.0028498172760009766,
          0.0028815269470214844,
          0.0027475357055664062,
          0.002535581588745117,
          0.002496480941772461,
          0.003165721893310547,
          0.0026090145111083984,
          0.002622842788696289,
          0.002892017364501953,
          0.002560138702392578,
          0.002470731735229492,
          0.002953052520751953,
          0.0031332969665527344,
          0.003268718719482422,
          0.002833843231201172,
          0.0027112960815429688,
          0.0026412010192871094,
          0.002753019332885742,
          0.0025615692138671875,
          0.0027794837951660156,
          0.002602100372314453,
          0.0026824474334716797,
          0.0026395320892333984,
          0.0025403499603271484,
          0.003087282180786133,
          0.002438783645629883,
          0.0027840137481689453,
          0.0026521682739257812,
          0.0029115676879882812,
          0.0026102066040039062,
          0.0027189254760742188,
          0.0025713443756103516,
          0.0025315284729003906,
          0.002527952194213867,
          0.0024847984313964844,
          0.0028285980224609375,
          0.002511739730834961,
          0.03231048583984375,
          0.0025424957275390625,
          0.0024940967559814453,
          0.002749204635620117,
          0.19360041618347168,
          0.0024862289428710938,
          0.002513408660888672,
          0.002471446990966797,
          0.002544403076171875,
          0.0027658939361572266,
          0.0028030872344970703,
          0.002717256546020508,
          0.0024459362030029297,
          0.002769947052001953,
          0.002516508102416992,
          0.002500295639038086,
          0.0025658607482910156,
          0.0025107860565185547,
          0.0028100013732910156,
          0.0024979114532470703,
          0.0028579235076904297,
          0.002531290054321289,
          0.0028581619262695312,
          0.0025153160095214844,
          0.0025262832641601562,
          0.0027675628662109375,
          0.0028312206268310547,
          0.0025701522827148438,
          0.0026450157165527344,
          0.002725839614868164,
          0.003659963607788086,
          0.0028438568115234375,
          0.0025136470794677734,
          0.00284576416015625,
          0.0025632381439208984,
          0.0025615692138671875,
          0.002565622329711914,
          0.002529621124267578,
          0.06949973106384277,
          0.0026886463165283203,
          0.0024933815002441406,
          0.0026640892028808594,
          0.002502918243408203,
          0.0029497146606445312,
          0.0025091171264648438,
          0.002825498580932617,
          0.0024938583374023438,
          0.0027332305908203125,
          0.002532958984375,
          0.002859830856323242,
          0.0025458335876464844,
          0.002515077590942383,
          0.0025339126586914062,
          0.002595186233520508,
          0.002707242965698242,
          0.0027697086334228516,
          0.0027332305908203125,
          0.0025892257690429688,
          0.0024406909942626953,
          0.0028891563415527344,
          0.0027697086334228516,
          0.0026450157165527344,
          0.002454042434692383,
          0.0027141571044921875,
          0.0025482177734375,
          0.002786874771118164
         ],
         "yaxis": "y"
        }
       ],
       "layout": {
        "legend": {
         "tracegroupgap": 0
        },
        "template": {
         "data": {
          "bar": [
           {
            "error_x": {
             "color": "#2a3f5f"
            },
            "error_y": {
             "color": "#2a3f5f"
            },
            "marker": {
             "line": {
              "color": "#E5ECF6",
              "width": 0.5
             },
             "pattern": {
              "fillmode": "overlay",
              "size": 10,
              "solidity": 0.2
             }
            },
            "type": "bar"
           }
          ],
          "barpolar": [
           {
            "marker": {
             "line": {
              "color": "#E5ECF6",
              "width": 0.5
             },
             "pattern": {
              "fillmode": "overlay",
              "size": 10,
              "solidity": 0.2
             }
            },
            "type": "barpolar"
           }
          ],
          "carpet": [
           {
            "aaxis": {
             "endlinecolor": "#2a3f5f",
             "gridcolor": "white",
             "linecolor": "white",
             "minorgridcolor": "white",
             "startlinecolor": "#2a3f5f"
            },
            "baxis": {
             "endlinecolor": "#2a3f5f",
             "gridcolor": "white",
             "linecolor": "white",
             "minorgridcolor": "white",
             "startlinecolor": "#2a3f5f"
            },
            "type": "carpet"
           }
          ],
          "choropleth": [
           {
            "colorbar": {
             "outlinewidth": 0,
             "ticks": ""
            },
            "type": "choropleth"
           }
          ],
          "contour": [
           {
            "colorbar": {
             "outlinewidth": 0,
             "ticks": ""
            },
            "colorscale": [
             [
              0,
              "#0d0887"
             ],
             [
              0.1111111111111111,
              "#46039f"
             ],
             [
              0.2222222222222222,
              "#7201a8"
             ],
             [
              0.3333333333333333,
              "#9c179e"
             ],
             [
              0.4444444444444444,
              "#bd3786"
             ],
             [
              0.5555555555555556,
              "#d8576b"
             ],
             [
              0.6666666666666666,
              "#ed7953"
             ],
             [
              0.7777777777777778,
              "#fb9f3a"
             ],
             [
              0.8888888888888888,
              "#fdca26"
             ],
             [
              1,
              "#f0f921"
             ]
            ],
            "type": "contour"
           }
          ],
          "contourcarpet": [
           {
            "colorbar": {
             "outlinewidth": 0,
             "ticks": ""
            },
            "type": "contourcarpet"
           }
          ],
          "heatmap": [
           {
            "colorbar": {
             "outlinewidth": 0,
             "ticks": ""
            },
            "colorscale": [
             [
              0,
              "#0d0887"
             ],
             [
              0.1111111111111111,
              "#46039f"
             ],
             [
              0.2222222222222222,
              "#7201a8"
             ],
             [
              0.3333333333333333,
              "#9c179e"
             ],
             [
              0.4444444444444444,
              "#bd3786"
             ],
             [
              0.5555555555555556,
              "#d8576b"
             ],
             [
              0.6666666666666666,
              "#ed7953"
             ],
             [
              0.7777777777777778,
              "#fb9f3a"
             ],
             [
              0.8888888888888888,
              "#fdca26"
             ],
             [
              1,
              "#f0f921"
             ]
            ],
            "type": "heatmap"
           }
          ],
          "heatmapgl": [
           {
            "colorbar": {
             "outlinewidth": 0,
             "ticks": ""
            },
            "colorscale": [
             [
              0,
              "#0d0887"
             ],
             [
              0.1111111111111111,
              "#46039f"
             ],
             [
              0.2222222222222222,
              "#7201a8"
             ],
             [
              0.3333333333333333,
              "#9c179e"
             ],
             [
              0.4444444444444444,
              "#bd3786"
             ],
             [
              0.5555555555555556,
              "#d8576b"
             ],
             [
              0.6666666666666666,
              "#ed7953"
             ],
             [
              0.7777777777777778,
              "#fb9f3a"
             ],
             [
              0.8888888888888888,
              "#fdca26"
             ],
             [
              1,
              "#f0f921"
             ]
            ],
            "type": "heatmapgl"
           }
          ],
          "histogram": [
           {
            "marker": {
             "pattern": {
              "fillmode": "overlay",
              "size": 10,
              "solidity": 0.2
             }
            },
            "type": "histogram"
           }
          ],
          "histogram2d": [
           {
            "colorbar": {
             "outlinewidth": 0,
             "ticks": ""
            },
            "colorscale": [
             [
              0,
              "#0d0887"
             ],
             [
              0.1111111111111111,
              "#46039f"
             ],
             [
              0.2222222222222222,
              "#7201a8"
             ],
             [
              0.3333333333333333,
              "#9c179e"
             ],
             [
              0.4444444444444444,
              "#bd3786"
             ],
             [
              0.5555555555555556,
              "#d8576b"
             ],
             [
              0.6666666666666666,
              "#ed7953"
             ],
             [
              0.7777777777777778,
              "#fb9f3a"
             ],
             [
              0.8888888888888888,
              "#fdca26"
             ],
             [
              1,
              "#f0f921"
             ]
            ],
            "type": "histogram2d"
           }
          ],
          "histogram2dcontour": [
           {
            "colorbar": {
             "outlinewidth": 0,
             "ticks": ""
            },
            "colorscale": [
             [
              0,
              "#0d0887"
             ],
             [
              0.1111111111111111,
              "#46039f"
             ],
             [
              0.2222222222222222,
              "#7201a8"
             ],
             [
              0.3333333333333333,
              "#9c179e"
             ],
             [
              0.4444444444444444,
              "#bd3786"
             ],
             [
              0.5555555555555556,
              "#d8576b"
             ],
             [
              0.6666666666666666,
              "#ed7953"
             ],
             [
              0.7777777777777778,
              "#fb9f3a"
             ],
             [
              0.8888888888888888,
              "#fdca26"
             ],
             [
              1,
              "#f0f921"
             ]
            ],
            "type": "histogram2dcontour"
           }
          ],
          "mesh3d": [
           {
            "colorbar": {
             "outlinewidth": 0,
             "ticks": ""
            },
            "type": "mesh3d"
           }
          ],
          "parcoords": [
           {
            "line": {
             "colorbar": {
              "outlinewidth": 0,
              "ticks": ""
             }
            },
            "type": "parcoords"
           }
          ],
          "pie": [
           {
            "automargin": true,
            "type": "pie"
           }
          ],
          "scatter": [
           {
            "marker": {
             "colorbar": {
              "outlinewidth": 0,
              "ticks": ""
             }
            },
            "type": "scatter"
           }
          ],
          "scatter3d": [
           {
            "line": {
             "colorbar": {
              "outlinewidth": 0,
              "ticks": ""
             }
            },
            "marker": {
             "colorbar": {
              "outlinewidth": 0,
              "ticks": ""
             }
            },
            "type": "scatter3d"
           }
          ],
          "scattercarpet": [
           {
            "marker": {
             "colorbar": {
              "outlinewidth": 0,
              "ticks": ""
             }
            },
            "type": "scattercarpet"
           }
          ],
          "scattergeo": [
           {
            "marker": {
             "colorbar": {
              "outlinewidth": 0,
              "ticks": ""
             }
            },
            "type": "scattergeo"
           }
          ],
          "scattergl": [
           {
            "marker": {
             "colorbar": {
              "outlinewidth": 0,
              "ticks": ""
             }
            },
            "type": "scattergl"
           }
          ],
          "scattermapbox": [
           {
            "marker": {
             "colorbar": {
              "outlinewidth": 0,
              "ticks": ""
             }
            },
            "type": "scattermapbox"
           }
          ],
          "scatterpolar": [
           {
            "marker": {
             "colorbar": {
              "outlinewidth": 0,
              "ticks": ""
             }
            },
            "type": "scatterpolar"
           }
          ],
          "scatterpolargl": [
           {
            "marker": {
             "colorbar": {
              "outlinewidth": 0,
              "ticks": ""
             }
            },
            "type": "scatterpolargl"
           }
          ],
          "scatterternary": [
           {
            "marker": {
             "colorbar": {
              "outlinewidth": 0,
              "ticks": ""
             }
            },
            "type": "scatterternary"
           }
          ],
          "surface": [
           {
            "colorbar": {
             "outlinewidth": 0,
             "ticks": ""
            },
            "colorscale": [
             [
              0,
              "#0d0887"
             ],
             [
              0.1111111111111111,
              "#46039f"
             ],
             [
              0.2222222222222222,
              "#7201a8"
             ],
             [
              0.3333333333333333,
              "#9c179e"
             ],
             [
              0.4444444444444444,
              "#bd3786"
             ],
             [
              0.5555555555555556,
              "#d8576b"
             ],
             [
              0.6666666666666666,
              "#ed7953"
             ],
             [
              0.7777777777777778,
              "#fb9f3a"
             ],
             [
              0.8888888888888888,
              "#fdca26"
             ],
             [
              1,
              "#f0f921"
             ]
            ],
            "type": "surface"
           }
          ],
          "table": [
           {
            "cells": {
             "fill": {
              "color": "#EBF0F8"
             },
             "line": {
              "color": "white"
             }
            },
            "header": {
             "fill": {
              "color": "#C8D4E3"
             },
             "line": {
              "color": "white"
             }
            },
            "type": "table"
           }
          ]
         },
         "layout": {
          "annotationdefaults": {
           "arrowcolor": "#2a3f5f",
           "arrowhead": 0,
           "arrowwidth": 1
          },
          "autotypenumbers": "strict",
          "coloraxis": {
           "colorbar": {
            "outlinewidth": 0,
            "ticks": ""
           }
          },
          "colorscale": {
           "diverging": [
            [
             0,
             "#8e0152"
            ],
            [
             0.1,
             "#c51b7d"
            ],
            [
             0.2,
             "#de77ae"
            ],
            [
             0.3,
             "#f1b6da"
            ],
            [
             0.4,
             "#fde0ef"
            ],
            [
             0.5,
             "#f7f7f7"
            ],
            [
             0.6,
             "#e6f5d0"
            ],
            [
             0.7,
             "#b8e186"
            ],
            [
             0.8,
             "#7fbc41"
            ],
            [
             0.9,
             "#4d9221"
            ],
            [
             1,
             "#276419"
            ]
           ],
           "sequential": [
            [
             0,
             "#0d0887"
            ],
            [
             0.1111111111111111,
             "#46039f"
            ],
            [
             0.2222222222222222,
             "#7201a8"
            ],
            [
             0.3333333333333333,
             "#9c179e"
            ],
            [
             0.4444444444444444,
             "#bd3786"
            ],
            [
             0.5555555555555556,
             "#d8576b"
            ],
            [
             0.6666666666666666,
             "#ed7953"
            ],
            [
             0.7777777777777778,
             "#fb9f3a"
            ],
            [
             0.8888888888888888,
             "#fdca26"
            ],
            [
             1,
             "#f0f921"
            ]
           ],
           "sequentialminus": [
            [
             0,
             "#0d0887"
            ],
            [
             0.1111111111111111,
             "#46039f"
            ],
            [
             0.2222222222222222,
             "#7201a8"
            ],
            [
             0.3333333333333333,
             "#9c179e"
            ],
            [
             0.4444444444444444,
             "#bd3786"
            ],
            [
             0.5555555555555556,
             "#d8576b"
            ],
            [
             0.6666666666666666,
             "#ed7953"
            ],
            [
             0.7777777777777778,
             "#fb9f3a"
            ],
            [
             0.8888888888888888,
             "#fdca26"
            ],
            [
             1,
             "#f0f921"
            ]
           ]
          },
          "colorway": [
           "#636efa",
           "#EF553B",
           "#00cc96",
           "#ab63fa",
           "#FFA15A",
           "#19d3f3",
           "#FF6692",
           "#B6E880",
           "#FF97FF",
           "#FECB52"
          ],
          "font": {
           "color": "#2a3f5f"
          },
          "geo": {
           "bgcolor": "white",
           "lakecolor": "white",
           "landcolor": "#E5ECF6",
           "showlakes": true,
           "showland": true,
           "subunitcolor": "white"
          },
          "hoverlabel": {
           "align": "left"
          },
          "hovermode": "closest",
          "mapbox": {
           "style": "light"
          },
          "paper_bgcolor": "white",
          "plot_bgcolor": "#E5ECF6",
          "polar": {
           "angularaxis": {
            "gridcolor": "white",
            "linecolor": "white",
            "ticks": ""
           },
           "bgcolor": "#E5ECF6",
           "radialaxis": {
            "gridcolor": "white",
            "linecolor": "white",
            "ticks": ""
           }
          },
          "scene": {
           "xaxis": {
            "backgroundcolor": "#E5ECF6",
            "gridcolor": "white",
            "gridwidth": 2,
            "linecolor": "white",
            "showbackground": true,
            "ticks": "",
            "zerolinecolor": "white"
           },
           "yaxis": {
            "backgroundcolor": "#E5ECF6",
            "gridcolor": "white",
            "gridwidth": 2,
            "linecolor": "white",
            "showbackground": true,
            "ticks": "",
            "zerolinecolor": "white"
           },
           "zaxis": {
            "backgroundcolor": "#E5ECF6",
            "gridcolor": "white",
            "gridwidth": 2,
            "linecolor": "white",
            "showbackground": true,
            "ticks": "",
            "zerolinecolor": "white"
           }
          },
          "shapedefaults": {
           "line": {
            "color": "#2a3f5f"
           }
          },
          "ternary": {
           "aaxis": {
            "gridcolor": "white",
            "linecolor": "white",
            "ticks": ""
           },
           "baxis": {
            "gridcolor": "white",
            "linecolor": "white",
            "ticks": ""
           },
           "bgcolor": "#E5ECF6",
           "caxis": {
            "gridcolor": "white",
            "linecolor": "white",
            "ticks": ""
           }
          },
          "title": {
           "x": 0.05
          },
          "xaxis": {
           "automargin": true,
           "gridcolor": "white",
           "linecolor": "white",
           "ticks": "",
           "title": {
            "standoff": 15
           },
           "zerolinecolor": "white",
           "zerolinewidth": 2
          },
          "yaxis": {
           "automargin": true,
           "gridcolor": "white",
           "linecolor": "white",
           "ticks": "",
           "title": {
            "standoff": 15
           },
           "zerolinecolor": "white",
           "zerolinewidth": 2
          }
         }
        },
        "title": {
         "text": "Action Execution Time"
        },
        "xaxis": {
         "anchor": "y",
         "domain": [
          0,
          1
         ],
         "rangeslider": {
          "visible": true
         },
         "title": {
          "text": "x"
         }
        },
        "yaxis": {
         "anchor": "x",
         "domain": [
          0,
          1
         ],
         "title": {
          "text": "Execution time"
         }
        }
       }
      },
      "text/html": [
       "<div>                            <div id=\"a96f18ea-91b7-4176-a049-bf6977222802\" class=\"plotly-graph-div\" style=\"height:525px; width:100%;\"></div>            <script type=\"text/javascript\">                require([\"plotly\"], function(Plotly) {                    window.PLOTLYENV=window.PLOTLYENV || {};                                    if (document.getElementById(\"a96f18ea-91b7-4176-a049-bf6977222802\")) {                    Plotly.newPlot(                        \"a96f18ea-91b7-4176-a049-bf6977222802\",                        [{\"hovertemplate\":\"x=%{x}<br>Execution time=%{y}<extra></extra>\",\"legendgroup\":\"\",\"line\":{\"color\":\"#636efa\",\"dash\":\"solid\"},\"marker\":{\"symbol\":\"circle\"},\"mode\":\"lines\",\"name\":\"\",\"showlegend\":false,\"x\":[0,1,2,3,4,5,6,7,8,9,10,11,12,13,14,15,16,17,18,19,20,21,22,23,24,25,26,27,28,29,30,31,32,33,34,35,36,37,38,39,40,41,42,43,44,45,46,47,48,49,50,51,52,53,54,55,56,57,58,59,60,61,62,63,64,65,66,67,68,69,70,71,72,73,74,75,76,77,78,79,80,81,82,83,84,85,86,87,88,89,90,91,92,93,94,95,96,97,98,99,100,101,102,103,104,105,106,107,108,109,110,111,112,113,114,115,116,117,118,119,120,121,122,123,124,125,126,127,128,129,130,131,132,133,134,135,136,137,138,139,140,141,142,143,144,145,146,147,148,149,150,151,152,153,154,155,156,157,158,159,160,161,162,163,164,165,166,167,168,169,170,171,172,173,174,175,176,177,178,179,180,181,182,183,184,185,186,187,188,189,190,191,192,193,194,195,196,197,198,199,200,201,202,203,204,205,206,207,208,209,210,211,212,213,214,215,216,217,218,219,220,221,222,223,224,225,226,227,228,229,230,231,232,233,234,235,236,237,238,239,240,241,242,243,244,245,246,247,248,249,250,251,252,253,254,255,256,257,258,259,260,261,262,263,264,265,266,267,268,269,270,271,272,273,274,275,276,277,278,279,280,281,282,283,284,285,286,287,288,289,290,291,292,293,294,295,296,297,298,299,300,301,302,303,304,305,306,307,308,309,310,311,312,313,314,315,316,317,318,319,320,321,322,323,324,325,326,327,328,329,330,331,332,333,334,335,336,337,338,339,340,341,342,343,344,345,346,347,348,349,350,351,352,353,354,355,356,357,358,359,360,361,362,363,364,365,366,367,368,369,370,371,372,373,374,375,376,377,378,379,380,381,382,383,384,385,386,387,388,389,390,391,392,393,394,395,396,397,398,399,400,401,402,403,404,405,406,407,408,409,410,411,412,413,414,415,416,417,418,419,420,421,422,423,424,425,426,427,428,429,430,431,432,433,434,435,436,437,438,439,440,441,442,443,444,445,446,447,448,449,450,451,452,453,454,455,456,457,458,459,460,461,462,463,464,465,466,467,468,469,470,471,472,473,474,475,476,477,478,479,480,481,482,483,484,485,486,487,488,489,490,491,492,493,494,495,496,497,498,499,500,501,502,503,504,505,506,507,508,509,510,511,512,513,514,515,516,517,518,519,520,521,522,523,524,525,526,527,528,529,530,531,532,533,534,535,536,537,538,539,540,541,542,543,544,545,546,547,548,549,550,551,552,553,554,555,556,557,558,559,560,561,562,563,564,565,566,567,568,569,570,571,572,573,574,575,576,577,578,579,580,581,582,583,584,585,586,587,588,589,590,591,592,593,594,595,596,597,598,599,600,601,602,603,604,605,606,607,608,609,610,611,612,613,614,615,616,617,618,619,620,621,622,623,624,625,626,627,628,629,630,631,632,633,634,635,636,637,638,639,640,641,642,643,644,645,646,647,648,649,650,651,652,653,654,655,656,657,658,659,660,661,662,663,664,665,666,667,668,669,670,671,672,673,674,675,676,677,678,679,680,681,682,683,684,685,686,687,688,689,690,691,692,693,694,695,696,697,698,699,700,701,702,703,704,705,706,707,708,709,710,711,712,713,714,715,716,717,718,719,720,721,722,723,724,725,726,727,728,729,730,731,732,733,734,735,736,737,738,739,740,741,742,743,744,745,746,747,748,749,750,751,752,753,754,755,756,757,758,759,760,761,762,763,764,765,766,767,768,769,770,771,772,773,774,775,776,777,778,779,780,781,782,783,784,785,786,787,788,789,790,791,792,793,794,795,796,797,798,799,800,801,802,803,804,805,806,807,808,809,810,811,812,813,814,815,816,817,818,819,820,821,822,823,824,825,826,827,828,829,830,831,832,833,834,835,836,837,838,839,840,841,842,843,844,845,846,847,848,849,850,851,852,853,854,855,856,857,858,859,860,861,862,863,864,865,866,867,868,869,870,871,872,873,874,875,876,877,878,879,880,881,882,883,884,885,886,887,888,889,890,891,892,893,894,895,896,897,898,899,900,901,902,903,904,905,906,907,908,909,910,911,912,913,914,915,916,917,918,919,920,921,922,923,924,925,926,927,928,929,930,931,932,933,934,935,936,937,938,939,940,941,942,943,944,945,946,947,948,949,950,951,952,953,954,955,956,957,958,959,960,961,962,963,964,965,966,967,968,969,970,971,972,973,974,975,976,977,978,979,980,981,982,983,984,985,986,987,988,989,990,991,992,993,994,995,996,997,998,999,1000,1001,1002,1003,1004,1005,1006,1007,1008,1009,1010,1011,1012,1013,1014,1015,1016,1017,1018,1019,1020,1021,1022,1023,1024,1025,1026,1027,1028,1029,1030,1031,1032,1033,1034,1035,1036,1037,1038,1039,1040,1041,1042,1043,1044,1045,1046,1047,1048,1049,1050,1051,1052,1053,1054,1055,1056,1057,1058,1059,1060,1061,1062,1063,1064,1065,1066,1067,1068,1069,1070,1071,1072,1073,1074,1075,1076,1077,1078,1079,1080,1081,1082,1083,1084,1085,1086,1087,1088,1089,1090,1091,1092,1093,1094,1095,1096,1097,1098,1099,1100,1101,1102,1103,1104,1105,1106,1107,1108,1109,1110,1111,1112,1113,1114,1115,1116,1117,1118,1119,1120,1121,1122,1123,1124,1125,1126,1127,1128,1129,1130,1131,1132,1133,1134,1135,1136,1137,1138,1139,1140,1141,1142,1143,1144,1145,1146,1147,1148,1149,1150,1151,1152,1153,1154,1155,1156,1157,1158,1159,1160,1161,1162,1163,1164,1165,1166,1167,1168,1169,1170,1171,1172,1173,1174,1175,1176,1177,1178,1179,1180,1181,1182,1183,1184,1185,1186,1187,1188,1189,1190,1191,1192,1193,1194,1195,1196,1197,1198,1199,1200,1201,1202,1203,1204,1205,1206,1207,1208,1209,1210,1211,1212,1213,1214,1215,1216,1217,1218,1219,1220,1221,1222,1223,1224,1225,1226,1227,1228,1229,1230,1231,1232,1233,1234,1235,1236,1237,1238,1239,1240,1241,1242,1243,1244,1245,1246,1247,1248,1249,1250,1251,1252,1253,1254,1255,1256,1257,1258,1259,1260,1261,1262,1263,1264,1265,1266,1267,1268,1269,1270,1271,1272,1273,1274,1275,1276,1277,1278,1279,1280,1281,1282,1283,1284,1285,1286,1287,1288,1289,1290,1291,1292,1293,1294,1295,1296,1297,1298,1299,1300,1301,1302,1303,1304,1305,1306,1307,1308,1309,1310,1311,1312,1313,1314,1315,1316,1317,1318,1319,1320,1321,1322,1323,1324,1325,1326,1327,1328,1329,1330,1331,1332,1333,1334,1335,1336,1337,1338,1339,1340,1341,1342,1343,1344,1345,1346,1347,1348,1349,1350,1351,1352,1353,1354,1355,1356,1357,1358,1359,1360,1361,1362,1363,1364,1365,1366,1367,1368,1369,1370,1371,1372,1373,1374,1375,1376,1377,1378,1379,1380,1381,1382,1383,1384,1385,1386,1387,1388,1389,1390,1391,1392,1393,1394,1395,1396,1397,1398,1399,1400,1401,1402,1403,1404,1405,1406,1407,1408,1409,1410,1411,1412,1413,1414,1415,1416,1417,1418,1419,1420,1421,1422,1423,1424,1425,1426,1427,1428,1429,1430,1431,1432,1433,1434,1435,1436,1437,1438,1439,1440,1441,1442,1443,1444,1445,1446,1447,1448,1449,1450,1451,1452,1453,1454,1455,1456,1457,1458,1459,1460,1461,1462,1463,1464,1465,1466,1467,1468,1469,1470,1471,1472,1473,1474,1475,1476,1477,1478,1479,1480,1481,1482,1483,1484,1485,1486,1487,1488,1489,1490,1491,1492,1493,1494,1495,1496,1497,1498,1499,1500,1501,1502,1503,1504,1505,1506,1507,1508,1509,1510,1511,1512,1513,1514,1515,1516,1517,1518,1519,1520,1521,1522,1523,1524,1525,1526,1527,1528,1529,1530,1531,1532,1533,1534,1535,1536,1537,1538,1539,1540,1541,1542,1543,1544,1545,1546,1547,1548,1549,1550,1551,1552,1553,1554,1555,1556,1557,1558,1559,1560,1561,1562,1563,1564,1565,1566,1567,1568,1569,1570,1571,1572,1573,1574,1575,1576,1577,1578,1579,1580,1581,1582,1583,1584,1585,1586,1587,1588,1589,1590,1591,1592,1593,1594,1595,1596,1597,1598,1599,1600,1601,1602,1603,1604,1605,1606,1607,1608,1609,1610,1611,1612,1613,1614,1615,1616,1617,1618,1619,1620,1621,1622,1623,1624,1625,1626,1627,1628,1629,1630,1631,1632,1633,1634,1635,1636,1637,1638,1639,1640,1641,1642,1643,1644,1645,1646,1647,1648,1649,1650,1651,1652,1653,1654,1655,1656,1657,1658,1659,1660,1661,1662,1663,1664,1665,1666,1667,1668,1669,1670,1671,1672,1673,1674,1675,1676,1677,1678,1679,1680,1681,1682,1683,1684,1685,1686,1687,1688,1689,1690,1691,1692,1693,1694,1695,1696,1697,1698,1699,1700,1701,1702,1703,1704,1705,1706,1707,1708,1709,1710,1711,1712,1713,1714,1715,1716,1717,1718,1719,1720,1721,1722,1723,1724,1725,1726,1727,1728,1729,1730,1731,1732,1733,1734,1735,1736,1737,1738,1739,1740,1741,1742,1743,1744,1745,1746,1747,1748,1749,1750,1751,1752,1753,1754,1755,1756,1757,1758,1759,1760,1761,1762,1763,1764,1765,1766,1767,1768,1769,1770,1771,1772,1773,1774,1775,1776,1777,1778,1779,1780,1781,1782,1783,1784,1785,1786,1787,1788,1789,1790,1791,1792,1793,1794,1795,1796,1797,1798,1799,1800,1801,1802,1803,1804,1805,1806,1807,1808,1809,1810,1811,1812,1813,1814,1815,1816,1817,1818,1819,1820,1821,1822,1823,1824,1825,1826,1827,1828,1829,1830,1831,1832,1833,1834,1835,1836,1837,1838,1839,1840,1841,1842,1843,1844,1845,1846,1847,1848,1849,1850,1851,1852,1853,1854,1855,1856,1857,1858,1859,1860,1861,1862,1863,1864,1865,1866,1867,1868,1869,1870,1871,1872,1873,1874,1875,1876,1877,1878,1879,1880,1881,1882,1883,1884,1885,1886,1887,1888,1889,1890,1891,1892,1893,1894,1895,1896,1897,1898,1899,1900,1901,1902,1903,1904,1905,1906,1907,1908,1909,1910,1911,1912,1913,1914,1915,1916,1917,1918,1919,1920,1921,1922,1923,1924,1925,1926,1927,1928,1929,1930,1931,1932,1933,1934,1935,1936,1937,1938,1939,1940,1941,1942,1943,1944,1945,1946,1947,1948,1949,1950,1951,1952,1953,1954,1955,1956,1957,1958,1959,1960,1961,1962,1963,1964,1965,1966,1967,1968,1969,1970,1971,1972,1973,1974,1975,1976,1977,1978,1979,1980,1981,1982,1983,1984,1985,1986,1987,1988,1989,1990,1991,1992,1993,1994,1995,1996,1997,1998,1999,2000,2001,2002,2003,2004,2005,2006,2007,2008,2009,2010,2011,2012,2013,2014,2015,2016,2017,2018,2019,2020,2021,2022,2023,2024,2025,2026,2027,2028,2029,2030,2031,2032,2033,2034,2035,2036,2037,2038,2039,2040,2041,2042,2043,2044,2045,2046,2047,2048,2049,2050,2051,2052,2053,2054,2055],\"xaxis\":\"x\",\"y\":[0.000598907470703125,6.461143493652344e-05,6.318092346191406e-05,9.107589721679688e-05,6.365776062011719e-05,6.198883056640625e-05,6.0558319091796875e-05,6.0558319091796875e-05,6.175041198730469e-05,6.127357482910156e-05,5.936622619628906e-05,5.817413330078125e-05,7.796287536621094e-05,6.0558319091796875e-05,9.584426879882812e-05,6.318092346191406e-05,6.127357482910156e-05,5.8650970458984375e-05,5.936622619628906e-05,5.841255187988281e-05,6.723403930664062e-05,6.031990051269531e-05,5.984306335449219e-05,9.34600830078125e-05,0.00010323524475097656,6.580352783203125e-05,6.4849853515625e-05,5.841255187988281e-05,5.888938903808594e-05,6.246566772460938e-05,0.007958412170410156,8.416175842285156e-05,6.222724914550781e-05,5.745887756347656e-05,5.841255187988281e-05,8.0108642578125e-05,5.9604644775390625e-05,5.936622619628906e-05,6.008148193359375e-05,6.031990051269531e-05,6.413459777832031e-05,5.6743621826171875e-05,8.130073547363281e-05,5.7697296142578125e-05,5.7220458984375e-05,5.7697296142578125e-05,0.00010180473327636719,5.793571472167969e-05,8.296966552734375e-05,5.793571472167969e-05,5.8650970458984375e-05,5.7697296142578125e-05,5.698204040527344e-05,5.745887756347656e-05,5.745887756347656e-05,5.7220458984375e-05,9.1552734375e-05,5.7220458984375e-05,5.6743621826171875e-05,5.817413330078125e-05,5.7220458984375e-05,5.793571472167969e-05,7.724761962890625e-05,5.626678466796875e-05,6.461143493652344e-05,5.698204040527344e-05,5.7697296142578125e-05,5.7220458984375e-05,5.817413330078125e-05,5.7220458984375e-05,5.7220458984375e-05,5.650520324707031e-05,6.103515625e-05,6.961822509765625e-05,6.771087646484375e-05,6.604194641113281e-05,6.341934204101562e-05,5.841255187988281e-05,5.793571472167969e-05,6.222724914550781e-05,5.8650970458984375e-05,6.246566772460938e-05,5.817413330078125e-05,5.888938903808594e-05,5.793571472167969e-05,6.222724914550781e-05,7.843971252441406e-05,9.918212890625e-05,6.937980651855469e-05,6.4849853515625e-05,6.008148193359375e-05,5.984306335449219e-05,5.8650970458984375e-05,5.888938903808594e-05,8.249282836914062e-05,0.0001316070556640625,6.890296936035156e-05,6.0558319091796875e-05,5.8650970458984375e-05,5.984306335449219e-05,0.00011038780212402344,0.00011897087097167969,6.556510925292969e-05,0.00010585784912109375,6.842613220214844e-05,6.723403930664062e-05,0.00010037422180175781,7.390975952148438e-05,0.000110626220703125,0.00011873245239257812,7.176399230957031e-05,6.103515625e-05,6.031990051269531e-05,6.937980651855469e-05,5.91278076171875e-05,6.914138793945312e-05,0.00017976760864257812,8.749961853027344e-05,6.341934204101562e-05,5.888938903808594e-05,6.413459777832031e-05,0.00011467933654785156,5.888938903808594e-05,6.437301635742188e-05,5.888938903808594e-05,6.29425048828125e-05,6.008148193359375e-05,8.392333984375e-05,5.817413330078125e-05,5.7697296142578125e-05,6.0558319091796875e-05,8.082389831542969e-05,5.888938903808594e-05,5.841255187988281e-05,5.7697296142578125e-05,5.91278076171875e-05,6.151199340820312e-05,6.198883056640625e-05,8.153915405273438e-05,5.841255187988281e-05,5.793571472167969e-05,7.62939453125e-05,6.29425048828125e-05,8.296966552734375e-05,5.936622619628906e-05,9.846687316894531e-05,5.6743621826171875e-05,5.8650970458984375e-05,5.817413330078125e-05,5.7697296142578125e-05,6.365776062011719e-05,5.650520324707031e-05,5.91278076171875e-05,5.745887756347656e-05,6.413459777832031e-05,8.130073547363281e-05,6.198883056640625e-05,6.031990051269531e-05,6.318092346191406e-05,6.151199340820312e-05,6.175041198730469e-05,6.103515625e-05,6.651878356933594e-05,0.00010538101196289062,6.175041198730469e-05,6.198883056640625e-05,6.580352783203125e-05,6.365776062011719e-05,6.508827209472656e-05,6.508827209472656e-05,6.747245788574219e-05,6.318092346191406e-05,6.747245788574219e-05,7.462501525878906e-05,6.532669067382812e-05,6.29425048828125e-05,0.7107484340667725,6.227222919464111,4.803532600402832,4.698853492736816,7.82012939453125e-05,7.2479248046875e-05,6.842613220214844e-05,6.771087646484375e-05,6.794929504394531e-05,6.771087646484375e-05,0.010436534881591797,7.367134094238281e-05,0.24027609825134277,0.00010347366333007812,6.890296936035156e-05,6.985664367675781e-05,6.747245788574219e-05,6.461143493652344e-05,6.413459777832031e-05,6.461143493652344e-05,6.413459777832031e-05,6.556510925292969e-05,6.437301635742188e-05,6.437301635742188e-05,6.508827209472656e-05,0.00011014938354492188,9.012222290039062e-05,7.2479248046875e-05,7.081031799316406e-05,9.799003601074219e-05,6.723403930664062e-05,6.604194641113281e-05,6.532669067382812e-05,6.651878356933594e-05,7.009506225585938e-05,7.224082946777344e-05,7.009506225585938e-05,6.651878356933594e-05,6.556510925292969e-05,6.914138793945312e-05,6.771087646484375e-05,0.6118454933166504,7.581710815429688e-05,6.914138793945312e-05,0.6104550361633301,4.236868381500244,4.39067268371582,3.9436144828796387,7.081031799316406e-05,6.556510925292969e-05,6.389617919921875e-05,6.580352783203125e-05,0.08588528633117676,7.009506225585938e-05,6.914138793945312e-05,6.818771362304688e-05,7.748603820800781e-05,7.104873657226562e-05,8.7738037109375e-05,9.489059448242188e-05,9.632110595703125e-05,9.441375732421875e-05,6.651878356933594e-05,6.628036499023438e-05,6.914138793945312e-05,6.794929504394531e-05,6.628036499023438e-05,6.794929504394531e-05,6.580352783203125e-05,7.367134094238281e-05,6.723403930664062e-05,0.6008265018463135,6.747245788574219e-05,0.6183972358703613,0.14615321159362793,6.413459777832031e-05,6.151199340820312e-05,5.841255187988281e-05,0.07636880874633789,6.67572021484375e-05,6.270408630371094e-05,5.817413330078125e-05,5.888938903808594e-05,5.888938903808594e-05,5.841255187988281e-05,5.698204040527344e-05,5.8650970458984375e-05,0.02064967155456543,6.723403930664062e-05,5.984306335449219e-05,5.8650970458984375e-05,5.9604644775390625e-05,0.00011181831359863281,6.270408630371094e-05,5.8650970458984375e-05,5.745887756347656e-05,5.7697296142578125e-05,5.7697296142578125e-05,5.936622619628906e-05,6.246566772460938e-05,6.270408630371094e-05,5.698204040527344e-05,5.984306335449219e-05,6.389617919921875e-05,6.389617919921875e-05,5.984306335449219e-05,6.031990051269531e-05,5.650520324707031e-05,5.7697296142578125e-05,5.745887756347656e-05,7.152557373046875e-05,6.794929504394531e-05,6.67572021484375e-05,6.151199340820312e-05,6.151199340820312e-05,5.9604644775390625e-05,5.9604644775390625e-05,0.5895566940307617,6.699562072753906e-05,6.175041198730469e-05,5.8650970458984375e-05,6.365776062011719e-05,5.888938903808594e-05,0.009033441543579102,6.699562072753906e-05,6.270408630371094e-05,5.793571472167969e-05,0.5883679389953613,6.604194641113281e-05,6.127357482910156e-05,5.936622619628906e-05,6.031990051269531e-05,7.82012939453125e-05,5.8650970458984375e-05,5.745887756347656e-05,5.8650970458984375e-05,0.6173570156097412,6.532669067382812e-05,5.698204040527344e-05,5.53131103515625e-05,5.817413330078125e-05,5.8650970458984375e-05,0.00012993812561035156,6.079673767089844e-05,6.008148193359375e-05,5.841255187988281e-05,5.6743621826171875e-05,5.53131103515625e-05,5.602836608886719e-05,5.7220458984375e-05,6.008148193359375e-05,5.91278076171875e-05,6.031990051269531e-05,6.0558319091796875e-05,5.626678466796875e-05,5.6743621826171875e-05,5.817413330078125e-05,5.793571472167969e-05,5.841255187988281e-05,6.246566772460938e-05,6.413459777832031e-05,5.7220458984375e-05,5.745887756347656e-05,5.650520324707031e-05,5.745887756347656e-05,0.07889199256896973,6.723403930664062e-05,0.00013303756713867188,6.318092346191406e-05,5.936622619628906e-05,7.486343383789062e-05,5.91278076171875e-05,6.628036499023438e-05,6.103515625e-05,6.0558319091796875e-05,5.817413330078125e-05,0.00019931793212890625,5.888938903808594e-05,7.605552673339844e-05,5.9604644775390625e-05,0.0001575946807861328,7.295608520507812e-05,6.842613220214844e-05,7.510185241699219e-05,5.817413330078125e-05,6.008148193359375e-05,6.103515625e-05,5.984306335449219e-05,5.936622619628906e-05,8.988380432128906e-05,7.534027099609375e-05,5.817413330078125e-05,5.793571472167969e-05,5.7220458984375e-05,6.341934204101562e-05,6.651878356933594e-05,8.535385131835938e-05,0.0443730354309082,7.367134094238281e-05,8.106231689453125e-05,0.0001399517059326172,0.0001418590545654297,5.841255187988281e-05,6.365776062011719e-05,6.198883056640625e-05,5.8650970458984375e-05,6.222724914550781e-05,6.389617919921875e-05,5.7220458984375e-05,5.841255187988281e-05,6.341934204101562e-05,6.0558319091796875e-05,7.343292236328125e-05,8.20159912109375e-05,6.604194641113281e-05,6.008148193359375e-05,6.985664367675781e-05,7.939338684082031e-05,0.0001285076141357422,8.225440979003906e-05,6.699562072753906e-05,6.127357482910156e-05,6.29425048828125e-05,6.222724914550781e-05,5.888938903808594e-05,5.817413330078125e-05,6.4849853515625e-05,6.270408630371094e-05,6.29425048828125e-05,0.00011038780212402344,7.581710815429688e-05,5.793571472167969e-05,5.888938903808594e-05,6.246566772460938e-05,5.888938903808594e-05,5.817413330078125e-05,6.198883056640625e-05,0.00010156631469726562,5.984306335449219e-05,6.008148193359375e-05,7.724761962890625e-05,5.793571472167969e-05,5.936622619628906e-05,5.888938903808594e-05,5.888938903808594e-05,0.00011205673217773438,0.00010156631469726562,0.0001380443572998047,5.984306335449219e-05,8.082389831542969e-05,5.841255187988281e-05,6.270408630371094e-05,6.556510925292969e-05,8.368492126464844e-05,9.870529174804688e-05,0.00013899803161621094,6.127357482910156e-05,5.888938903808594e-05,5.9604644775390625e-05,5.793571472167969e-05,6.246566772460938e-05,6.29425048828125e-05,0.03288769721984863,8.153915405273438e-05,8.654594421386719e-05,8.273124694824219e-05,9.655952453613281e-05,0.0001780986785888672,0.00010514259338378906,9.226799011230469e-05,7.319450378417969e-05,7.390975952148438e-05,9.679794311523438e-05,0.00015687942504882812,8.296966552734375e-05,7.414817810058594e-05,8.559226989746094e-05,7.2479248046875e-05,7.081031799316406e-05,7.009506225585938e-05,7.152557373046875e-05,6.890296936035156e-05,0.00016236305236816406,8.845329284667969e-05,0.00013780593872070312,8.821487426757812e-05,8.893013000488281e-05,6.389617919921875e-05,5.9604644775390625e-05,6.175041198730469e-05,6.198883056640625e-05,0.00010132789611816406,8.440017700195312e-05,6.0558319091796875e-05,5.984306335449219e-05,6.0558319091796875e-05,6.628036499023438e-05,5.793571472167969e-05,5.7697296142578125e-05,6.222724914550781e-05,6.723403930664062e-05,6.031990051269531e-05,5.8650970458984375e-05,6.198883056640625e-05,8.988380432128906e-05,6.079673767089844e-05,5.817413330078125e-05,9.632110595703125e-05,0.00012969970703125,6.937980651855469e-05,9.179115295410156e-05,6.723403930664062e-05,6.961822509765625e-05,6.771087646484375e-05,5.9604644775390625e-05,5.984306335449219e-05,6.0558319091796875e-05,0.0001289844512939453,8.368492126464844e-05,6.127357482910156e-05,6.031990051269531e-05,6.365776062011719e-05,5.8650970458984375e-05,6.103515625e-05,6.151199340820312e-05,5.793571472167969e-05,5.888938903808594e-05,6.699562072753906e-05,5.793571472167969e-05,7.772445678710938e-05,5.8650970458984375e-05,5.91278076171875e-05,5.888938903808594e-05,6.151199340820312e-05,6.556510925292969e-05,5.888938903808594e-05,5.817413330078125e-05,5.936622619628906e-05,5.8650970458984375e-05,5.9604644775390625e-05,5.8650970458984375e-05,6.175041198730469e-05,5.745887756347656e-05,5.793571472167969e-05,5.984306335449219e-05,5.984306335449219e-05,5.984306335449219e-05,5.984306335449219e-05,5.888938903808594e-05,5.91278076171875e-05,5.91278076171875e-05,5.817413330078125e-05,5.888938903808594e-05,5.888938903808594e-05,5.841255187988281e-05,0.016733169555664062,0.00011467933654785156,0.03926253318786621,6.461143493652344e-05,5.984306335449219e-05,5.745887756347656e-05,0.07171130180358887,7.963180541992188e-05,7.867813110351562e-05,6.127357482910156e-05,6.079673767089844e-05,5.984306335449219e-05,5.888938903808594e-05,5.841255187988281e-05,0.1233513355255127,7.128715515136719e-05,5.888938903808594e-05,5.745887756347656e-05,5.8650970458984375e-05,5.745887756347656e-05,5.7220458984375e-05,5.7697296142578125e-05,5.817413330078125e-05,6.866455078125e-05,6.628036499023438e-05,6.508827209472656e-05,6.389617919921875e-05,6.461143493652344e-05,6.580352783203125e-05,6.508827209472656e-05,6.4849853515625e-05,6.67572021484375e-05,8.249282836914062e-05,6.842613220214844e-05,6.532669067382812e-05,6.437301635742188e-05,6.4849853515625e-05,6.341934204101562e-05,6.413459777832031e-05,6.413459777832031e-05,6.341934204101562e-05,6.389617919921875e-05,7.009506225585938e-05,8.153915405273438e-05,7.009506225585938e-05,7.2479248046875e-05,0.00011992454528808594,6.628036499023438e-05,0.00012445449829101562,7.581710815429688e-05,9.655952453613281e-05,6.914138793945312e-05,6.604194641113281e-05,6.508827209472656e-05,6.413459777832031e-05,6.437301635742188e-05,7.033348083496094e-05,8.630752563476562e-05,6.771087646484375e-05,6.461143493652344e-05,6.413459777832031e-05,6.461143493652344e-05,0.327578067779541,7.295608520507812e-05,6.4849853515625e-05,7.05718994140625e-05,6.890296936035156e-05,6.961822509765625e-05,6.771087646484375e-05,6.651878356933594e-05,0.004910945892333984,6.0558319091796875e-05,7.915496826171875e-05,6.103515625e-05,6.031990051269531e-05,5.602836608886719e-05,5.602836608886719e-05,5.745887756347656e-05,5.888938903808594e-05,5.7220458984375e-05,9.417533874511719e-05,5.793571472167969e-05,6.151199340820312e-05,6.008148193359375e-05,6.0558319091796875e-05,5.6743621826171875e-05,5.626678466796875e-05,5.745887756347656e-05,5.91278076171875e-05,5.888938903808594e-05,5.7697296142578125e-05,5.745887756347656e-05,5.7220458984375e-05,0.00011134147644042969,6.198883056640625e-05,0.00012350082397460938,6.580352783203125e-05,5.9604644775390625e-05,5.8650970458984375e-05,6.389617919921875e-05,5.841255187988281e-05,5.793571472167969e-05,5.936622619628906e-05,6.747245788574219e-05,6.365776062011719e-05,6.318092346191406e-05,6.365776062011719e-05,6.437301635742188e-05,8.177757263183594e-05,6.747245788574219e-05,6.771087646484375e-05,6.723403930664062e-05,6.532669067382812e-05,6.651878356933594e-05,6.604194641113281e-05,6.532669067382812e-05,6.413459777832031e-05,6.580352783203125e-05,0.00011849403381347656,0.0001494884490966797,6.67572021484375e-05,6.604194641113281e-05,6.365776062011719e-05,6.937980651855469e-05,6.4849853515625e-05,6.4849853515625e-05,6.413459777832031e-05,0.00010347366333007812,6.556510925292969e-05,6.4849853515625e-05,6.532669067382812e-05,6.508827209472656e-05,6.437301635742188e-05,6.413459777832031e-05,6.413459777832031e-05,6.723403930664062e-05,6.556510925292969e-05,6.651878356933594e-05,6.556510925292969e-05,6.580352783203125e-05,6.532669067382812e-05,7.152557373046875e-05,7.176399230957031e-05,8.225440979003906e-05,6.651878356933594e-05,6.508827209472656e-05,6.532669067382812e-05,6.4849853515625e-05,6.461143493652344e-05,6.437301635742188e-05,0.004666566848754883,9.036064147949219e-05,5.793571472167969e-05,5.817413330078125e-05,7.2479248046875e-05,8.296966552734375e-05,0.00011014938354492188,6.890296936035156e-05,0.00010442733764648438,0.00010824203491210938,6.866455078125e-05,7.987022399902344e-05,0.00011181831359863281,7.390975952148438e-05,6.103515625e-05,5.984306335449219e-05,5.9604644775390625e-05,0.0001010894775390625,8.058547973632812e-05,5.91278076171875e-05,5.698204040527344e-05,5.817413330078125e-05,6.0558319091796875e-05,6.246566772460938e-05,5.745887756347656e-05,5.793571472167969e-05,7.581710815429688e-05,5.7697296142578125e-05,5.7697296142578125e-05,6.008148193359375e-05,8.082389831542969e-05,5.53131103515625e-05,5.7220458984375e-05,0.00011134147644042969,5.817413330078125e-05,5.817413330078125e-05,5.793571472167969e-05,6.079673767089844e-05,6.151199340820312e-05,7.367134094238281e-05,0.04703831672668457,6.29425048828125e-05,5.8650970458984375e-05,6.151199340820312e-05,0.00010514259338378906,9.083747863769531e-05,5.984306335449219e-05,7.462501525878906e-05,5.698204040527344e-05,6.198883056640625e-05,5.745887756347656e-05,5.6743621826171875e-05,5.602836608886719e-05,5.626678466796875e-05,5.745887756347656e-05,6.127357482910156e-05,0.00012230873107910156,5.745887756347656e-05,6.67572021484375e-05,9.417533874511719e-05,5.7220458984375e-05,5.626678466796875e-05,5.841255187988281e-05,5.626678466796875e-05,5.555152893066406e-05,5.5789947509765625e-05,5.6743621826171875e-05,5.936622619628906e-05,5.650520324707031e-05,5.7220458984375e-05,9.250640869140625e-05,5.6743621826171875e-05,6.079673767089844e-05,6.222724914550781e-05,5.793571472167969e-05,5.793571472167969e-05,5.698204040527344e-05,7.128715515136719e-05,6.008148193359375e-05,5.5789947509765625e-05,5.698204040527344e-05,5.817413330078125e-05,5.6743621826171875e-05,5.936622619628906e-05,5.8650970458984375e-05,5.698204040527344e-05,6.079673767089844e-05,5.7697296142578125e-05,9.655952453613281e-05,5.817413330078125e-05,5.745887756347656e-05,5.698204040527344e-05,5.626678466796875e-05,5.5789947509765625e-05,5.745887756347656e-05,5.6743621826171875e-05,5.698204040527344e-05,5.626678466796875e-05,5.7220458984375e-05,5.841255187988281e-05,6.079673767089844e-05,6.318092346191406e-05,5.626678466796875e-05,5.5789947509765625e-05,5.602836608886719e-05,5.602836608886719e-05,5.602836608886719e-05,6.0558319091796875e-05,0.00010275840759277344,5.626678466796875e-05,6.270408630371094e-05,5.602836608886719e-05,5.626678466796875e-05,5.6743621826171875e-05,0.00012946128845214844,6.0558319091796875e-05,5.9604644775390625e-05,6.437301635742188e-05,7.867813110351562e-05,5.793571472167969e-05,5.91278076171875e-05,5.888938903808594e-05,5.841255187988281e-05,6.198883056640625e-05,5.91278076171875e-05,7.748603820800781e-05,7.200241088867188e-05,9.107589721679688e-05,6.937980651855469e-05,0.00010609626770019531,0.00012302398681640625,5.8650970458984375e-05,5.745887756347656e-05,5.8650970458984375e-05,5.650520324707031e-05,6.699562072753906e-05,7.534027099609375e-05,5.7697296142578125e-05,5.936622619628906e-05,9.632110595703125e-05,6.341934204101562e-05,6.151199340820312e-05,0.00013971328735351562,0.04456472396850586,6.222724914550781e-05,5.7697296142578125e-05,6.341934204101562e-05,7.367134094238281e-05,5.8650970458984375e-05,5.7697296142578125e-05,5.984306335449219e-05,5.984306335449219e-05,5.8650970458984375e-05,5.91278076171875e-05,6.0558319091796875e-05,6.222724914550781e-05,0.00010704994201660156,5.91278076171875e-05,7.534027099609375e-05,5.7220458984375e-05,5.626678466796875e-05,5.650520324707031e-05,5.745887756347656e-05,6.222724914550781e-05,0.00011444091796875,5.698204040527344e-05,5.6743621826171875e-05,5.7697296142578125e-05,7.152557373046875e-05,6.008148193359375e-05,5.793571472167969e-05,5.7697296142578125e-05,6.365776062011719e-05,5.793571472167969e-05,6.365776062011719e-05,6.198883056640625e-05,5.602836608886719e-05,5.53131103515625e-05,5.5789947509765625e-05,5.793571472167969e-05,5.841255187988281e-05,8.177757263183594e-05,5.5789947509765625e-05,6.175041198730469e-05,5.698204040527344e-05,5.602836608886719e-05,5.7220458984375e-05,5.745887756347656e-05,5.7220458984375e-05,0.00012135505676269531,0.0001285076141357422,7.104873657226562e-05,6.723403930664062e-05,5.698204040527344e-05,5.793571472167969e-05,5.7220458984375e-05,5.841255187988281e-05,5.8650970458984375e-05,8.177757263183594e-05,7.700920104980469e-05,7.653236389160156e-05,5.817413330078125e-05,5.888938903808594e-05,6.079673767089844e-05,6.008148193359375e-05,5.984306335449219e-05,5.9604644775390625e-05,6.127357482910156e-05,5.7697296142578125e-05,5.8650970458984375e-05,5.626678466796875e-05,5.817413330078125e-05,5.793571472167969e-05,5.817413330078125e-05,6.008148193359375e-05,5.7697296142578125e-05,7.724761962890625e-05,5.745887756347656e-05,5.698204040527344e-05,0.04795527458190918,6.937980651855469e-05,7.82012939453125e-05,5.888938903808594e-05,6.008148193359375e-05,5.8650970458984375e-05,6.198883056640625e-05,9.512901306152344e-05,6.008148193359375e-05,6.318092346191406e-05,5.888938903808594e-05,5.8650970458984375e-05,6.103515625e-05,5.936622619628906e-05,5.888938903808594e-05,5.91278076171875e-05,6.556510925292969e-05,5.793571472167969e-05,5.841255187988281e-05,6.031990051269531e-05,5.626678466796875e-05,5.984306335449219e-05,5.888938903808594e-05,5.650520324707031e-05,0.00012731552124023438,6.604194641113281e-05,5.7697296142578125e-05,5.6743621826171875e-05,5.555152893066406e-05,5.650520324707031e-05,5.650520324707031e-05,5.888938903808594e-05,0.00011038780212402344,5.626678466796875e-05,5.650520324707031e-05,6.341934204101562e-05,5.698204040527344e-05,5.6743621826171875e-05,5.5789947509765625e-05,5.6743621826171875e-05,6.198883056640625e-05,7.462501525878906e-05,6.103515625e-05,5.7697296142578125e-05,5.817413330078125e-05,5.7697296142578125e-05,5.793571472167969e-05,6.079673767089844e-05,5.6743621826171875e-05,5.602836608886719e-05,5.602836608886719e-05,5.7697296142578125e-05,5.507469177246094e-05,5.6743621826171875e-05,6.008148193359375e-05,5.5789947509765625e-05,5.626678466796875e-05,5.650520324707031e-05,5.626678466796875e-05,5.650520324707031e-05,6.103515625e-05,5.602836608886719e-05,0.00011754035949707031,7.319450378417969e-05,6.079673767089844e-05,6.246566772460938e-05,6.079673767089844e-05,6.103515625e-05,5.793571472167969e-05,5.8650970458984375e-05,5.7220458984375e-05,5.698204040527344e-05,5.91278076171875e-05,5.888938903808594e-05,9.012222290039062e-05,6.031990051269531e-05,5.7697296142578125e-05,6.008148193359375e-05,5.841255187988281e-05,5.984306335449219e-05,6.270408630371094e-05,5.6743621826171875e-05,7.963180541992188e-05,5.936622619628906e-05,5.745887756347656e-05,5.841255187988281e-05,6.246566772460938e-05,5.984306335449219e-05,5.793571472167969e-05,5.698204040527344e-05,5.7220458984375e-05,0.00015497207641601562,5.745887756347656e-05,0.049977779388427734,6.937980651855469e-05,6.079673767089844e-05,5.91278076171875e-05,6.0558319091796875e-05,6.4849853515625e-05,5.698204040527344e-05,5.8650970458984375e-05,5.817413330078125e-05,5.793571472167969e-05,5.91278076171875e-05,5.91278076171875e-05,6.151199340820312e-05,8.96453857421875e-05,5.888938903808594e-05,5.8650970458984375e-05,5.936622619628906e-05,6.079673767089844e-05,7.772445678710938e-05,5.936622619628906e-05,5.793571472167969e-05,6.031990051269531e-05,5.888938903808594e-05,7.62939453125e-05,6.318092346191406e-05,7.653236389160156e-05,6.29425048828125e-05,5.602836608886719e-05,5.602836608886719e-05,5.7220458984375e-05,0.025438547134399414,6.29425048828125e-05,5.8650970458984375e-05,6.103515625e-05,5.984306335449219e-05,6.270408630371094e-05,5.7697296142578125e-05,8.58306884765625e-05,0.00010728836059570312,9.989738464355469e-05,6.604194641113281e-05,6.29425048828125e-05,9.679794311523438e-05,6.580352783203125e-05,6.151199340820312e-05,5.984306335449219e-05,5.91278076171875e-05,6.008148193359375e-05,5.936622619628906e-05,5.9604644775390625e-05,8.654594421386719e-05,6.222724914550781e-05,5.9604644775390625e-05,6.365776062011719e-05,9.655952453613281e-05,0.0001220703125,8.440017700195312e-05,6.723403930664062e-05,6.079673767089844e-05,6.031990051269531e-05,5.936622619628906e-05,5.8650970458984375e-05,5.8650970458984375e-05,6.461143493652344e-05,6.341934204101562e-05,6.270408630371094e-05,5.698204040527344e-05,5.745887756347656e-05,5.7220458984375e-05,5.7220458984375e-05,5.817413330078125e-05,6.818771362304688e-05,6.341934204101562e-05,9.250640869140625e-05,5.6743621826171875e-05,5.745887756347656e-05,5.6743621826171875e-05,5.698204040527344e-05,5.6743621826171875e-05,5.817413330078125e-05,5.841255187988281e-05,6.103515625e-05,5.817413330078125e-05,0.6203596591949463,0.5989162921905518,7.224082946777344e-05,6.747245788574219e-05,6.723403930664062e-05,7.43865966796875e-05,6.961822509765625e-05,6.628036499023438e-05,6.914138793945312e-05,6.866455078125e-05,0.00012254714965820312,0.06206202507019043,7.104873657226562e-05,6.341934204101562e-05,7.414817810058594e-05,6.842613220214844e-05,6.389617919921875e-05,0.6210846900939941,4.712974548339844,0.00045228004455566406,0.5054035186767578,3.2590951919555664,4.865058898925781,4.770475387573242,4.783240795135498,4.090578079223633,4.619189262390137,4.388488292694092,4.6294379234313965,3.1572747230529785,4.193821907043457,0.2601659297943115,0.0038230419158935547,0.004362344741821289,0.004987478256225586,0.0041811466217041016,0.005064487457275391,0.004445075988769531,0.004354715347290039,0.004304409027099609,0.004647493362426758,0.004675865173339844,0.00450897216796875,0.007252693176269531,0.007147789001464844,0.005780935287475586,0.004265785217285156,0.009756803512573242,0.0043048858642578125,0.004072904586791992,0.004173994064331055,0.0047376155853271484,0.004255533218383789,0.0043392181396484375,0.0042150020599365234,0.00401759147644043,0.003942728042602539,0.0040454864501953125,0.0040090084075927734,0.006087064743041992,0.004385471343994141,0.0040743350982666016,0.0050389766693115234,0.004439353942871094,0.00410771369934082,0.00446319580078125,0.004049062728881836,0.00493931770324707,0.004120588302612305,0.004083871841430664,0.004192352294921875,0.004161357879638672,0.004102945327758789,0.004174232482910156,0.004563331604003906,0.004332304000854492,0.004195690155029297,0.004418611526489258,0.00455784797668457,0.004338264465332031,0.004658222198486328,0.004395246505737305,0.004172801971435547,0.004819154739379883,0.004089832305908203,0.0041277408599853516,0.0040929317474365234,0.0042726993560791016,0.004075288772583008,0.004182577133178711,0.004015922546386719,0.004083871841430664,0.00509953498840332,0.004568576812744141,0.004523515701293945,0.004394054412841797,0.004415750503540039,0.004453897476196289,0.018782854080200195,0.0043621063232421875,0.004274129867553711,0.05444979667663574,0.003923177719116211,0.0038225650787353516,0.003345489501953125,0.0033178329467773438,0.4516608715057373,0.0028891563415527344,0.0639190673828125,0.002954721450805664,0.002844095230102539,0.003315448760986328,0.0032715797424316406,0.003113269805908203,0.003277301788330078,0.0035219192504882812,0.008122444152832031,0.008182764053344727,0.008250713348388672,0.008280038833618164,0.00895071029663086,0.008695840835571289,0.00829172134399414,0.008501768112182617,0.00860905647277832,0.010740518569946289,0.008800506591796875,0.008156538009643555,0.008544206619262695,0.008193254470825195,0.008066177368164062,0.008170366287231445,0.008133172988891602,0.00810861587524414,0.00783991813659668,0.008336305618286133,0.007948160171508789,0.016249656677246094,0.007684230804443359,0.0076029300689697266,0.007521390914916992,0.007721900939941406,0.0074062347412109375,0.020420074462890625,0.007416963577270508,0.06060791015625,0.007930994033813477,0.007698774337768555,0.0077288150787353516,0.00811147689819336,0.009417057037353516,0.008864402770996094,0.007314205169677734,0.00791168212890625,0.00754857063293457,0.007613658905029297,0.008023262023925781,0.007451534271240234,0.007281064987182617,0.008818864822387695,0.007681846618652344,0.007866621017456055,0.007991313934326172,0.008307218551635742,0.008225679397583008,0.007849693298339844,0.008397102355957031,0.00826406478881836,0.008632183074951172,0.008329629898071289,0.008763313293457031,0.008777379989624023,0.008324623107910156,0.00773930549621582,0.007710933685302734,0.009090185165405273,0.00906229019165039,0.009035348892211914,0.4399533271789551,0.007699728012084961,0.007768869400024414,0.007714748382568359,0.008082389831542969,0.007858514785766602,0.007709503173828125,0.008422374725341797,0.007742643356323242,0.008677244186401367,0.007570028305053711,0.008907079696655273,0.007572650909423828,0.0002834796905517578,6.508827209472656e-05,6.246566772460938e-05,5.888938903808594e-05,5.91278076171875e-05,6.198883056640625e-05,5.8650970458984375e-05,5.841255187988281e-05,5.984306335449219e-05,5.817413330078125e-05,5.8650970458984375e-05,6.008148193359375e-05,5.793571472167969e-05,9.965896606445312e-05,5.6743621826171875e-05,5.91278076171875e-05,5.841255187988281e-05,6.198883056640625e-05,5.5789947509765625e-05,5.698204040527344e-05,6.198883056640625e-05,0.00011348724365234375,0.00010609626770019531,5.841255187988281e-05,5.984306335449219e-05,5.841255187988281e-05,5.936622619628906e-05,6.198883056640625e-05,5.7697296142578125e-05,5.7220458984375e-05,5.888938903808594e-05,5.745887756347656e-05,5.602836608886719e-05,5.817413330078125e-05,0.00012731552124023438,5.841255187988281e-05,0.00012302398681640625,5.7220458984375e-05,5.7220458984375e-05,5.841255187988281e-05,5.793571472167969e-05,5.936622619628906e-05,5.5789947509765625e-05,5.555152893066406e-05,5.602836608886719e-05,0.0001442432403564453,5.841255187988281e-05,9.751319885253906e-05,5.6743621826171875e-05,5.7220458984375e-05,5.626678466796875e-05,5.793571472167969e-05,5.650520324707031e-05,7.772445678710938e-05,5.555152893066406e-05,5.888938903808594e-05,9.799003601074219e-05,5.841255187988281e-05,5.7697296142578125e-05,5.745887756347656e-05,5.91278076171875e-05,5.7697296142578125e-05,5.5789947509765625e-05,5.602836608886719e-05,7.271766662597656e-05,6.0558319091796875e-05,5.650520324707031e-05,5.5789947509765625e-05,5.6743621826171875e-05,5.650520324707031e-05,5.745887756347656e-05,6.151199340820312e-05,5.626678466796875e-05,5.745887756347656e-05,5.6743621826171875e-05,5.793571472167969e-05,5.7697296142578125e-05,0.00018262863159179688,6.961822509765625e-05,6.508827209472656e-05,6.151199340820312e-05,5.936622619628906e-05,7.677078247070312e-05,7.772445678710938e-05,5.745887756347656e-05,5.841255187988281e-05,5.841255187988281e-05,7.62939453125e-05,5.745887756347656e-05,5.817413330078125e-05,5.817413330078125e-05,6.103515625e-05,5.650520324707031e-05,5.7697296142578125e-05,5.745887756347656e-05,5.7697296142578125e-05,5.698204040527344e-05,0.00011563301086425781,6.532669067382812e-05,6.699562072753906e-05,5.91278076171875e-05,5.817413330078125e-05,5.8650970458984375e-05,5.91278076171875e-05,5.793571472167969e-05,5.817413330078125e-05,5.9604644775390625e-05,5.936622619628906e-05,6.008148193359375e-05,0.00022029876708984375,7.224082946777344e-05,0.00011110305786132812,9.5367431640625e-05,0.0001361370086669922,6.246566772460938e-05,5.841255187988281e-05,5.745887756347656e-05,5.9604644775390625e-05,7.367134094238281e-05,6.437301635742188e-05,5.841255187988281e-05,5.888938903808594e-05,5.91278076171875e-05,6.270408630371094e-05,6.175041198730469e-05,0.00012993812561035156,5.793571472167969e-05,5.793571472167969e-05,5.936622619628906e-05,6.103515625e-05,5.7697296142578125e-05,6.008148193359375e-05,5.793571472167969e-05,5.8650970458984375e-05,5.626678466796875e-05,5.936622619628906e-05,5.7697296142578125e-05,6.532669067382812e-05,7.987022399902344e-05,6.389617919921875e-05,6.604194641113281e-05,6.389617919921875e-05,6.818771362304688e-05,6.365776062011719e-05,6.365776062011719e-05,6.532669067382812e-05,6.389617919921875e-05,0.00011563301086425781,6.389617919921875e-05,6.29425048828125e-05,6.437301635742188e-05,6.341934204101562e-05,7.939338684082031e-05,6.914138793945312e-05,0.0937814712524414,8.225440979003906e-05,8.058547973632812e-05,7.891654968261719e-05,7.796287536621094e-05,7.772445678710938e-05,8.344650268554688e-05,8.320808410644531e-05,7.653236389160156e-05,7.343292236328125e-05,7.319450378417969e-05,8.058547973632812e-05,7.867813110351562e-05,7.963180541992188e-05,7.2479248046875e-05,7.176399230957031e-05,7.534027099609375e-05,7.319450378417969e-05,7.486343383789062e-05,7.05718994140625e-05,7.104873657226562e-05,7.939338684082031e-05,7.700920104980469e-05,7.581710815429688e-05,8.440017700195312e-05,7.557868957519531e-05,9.799003601074219e-05,7.82012939453125e-05,8.440017700195312e-05,7.772445678710938e-05,0.004773378372192383,9.131431579589844e-05,6.270408630371094e-05,6.556510925292969e-05,6.318092346191406e-05,7.486343383789062e-05,5.9604644775390625e-05,6.222724914550781e-05,6.794929504394531e-05,6.842613220214844e-05,7.200241088867188e-05,6.890296936035156e-05,6.556510925292969e-05,6.628036499023438e-05,7.104873657226562e-05,6.985664367675781e-05,7.2479248046875e-05,6.937980651855469e-05,6.4849853515625e-05,6.508827209472656e-05,6.0558319091796875e-05,0.0001499652862548828,0.00011658668518066406,0.00011801719665527344,7.987022399902344e-05,7.82012939453125e-05,7.43865966796875e-05,7.200241088867188e-05,6.341934204101562e-05,6.461143493652344e-05,6.127357482910156e-05,6.461143493652344e-05,7.224082946777344e-05,6.747245788574219e-05,7.104873657226562e-05,6.628036499023438e-05,7.62939453125e-05,7.891654968261719e-05,7.987022399902344e-05,7.510185241699219e-05,7.486343383789062e-05,7.62939453125e-05,7.748603820800781e-05,7.510185241699219e-05,7.653236389160156e-05,8.821487426757812e-05,7.486343383789062e-05,0.00010275840759277344,7.915496826171875e-05,8.034706115722656e-05,8.654594421386719e-05,8.463859558105469e-05,0.00014090538024902344,0.00013303756713867188,8.630752563476562e-05,7.724761962890625e-05,8.034706115722656e-05,7.62939453125e-05,7.62939453125e-05,0.00011301040649414062,0.00010585784912109375,9.131431579589844e-05,8.106231689453125e-05,7.367134094238281e-05,7.271766662597656e-05,7.152557373046875e-05,7.200241088867188e-05,0.00010061264038085938,0.00010180473327636719,0.00010371208190917969,6.699562072753906e-05,7.843971252441406e-05,7.224082946777344e-05,6.747245788574219e-05,6.771087646484375e-05,6.723403930664062e-05,6.937980651855469e-05,6.985664367675781e-05,6.747245788574219e-05,7.510185241699219e-05,6.842613220214844e-05,7.033348083496094e-05,7.176399230957031e-05,7.772445678710938e-05,7.843971252441406e-05,7.05718994140625e-05,7.867813110351562e-05,6.580352783203125e-05,7.176399230957031e-05,6.842613220214844e-05,9.679794311523438e-05,6.437301635742188e-05,6.556510925292969e-05,6.794929504394531e-05,6.67572021484375e-05,7.104873657226562e-05,6.747245788574219e-05,7.200241088867188e-05,6.961822509765625e-05,6.866455078125e-05,6.747245788574219e-05,0.00010347366333007812,0.00012445449829101562,0.00012445449829101562,0.00012540817260742188,9.036064147949219e-05,7.271766662597656e-05,6.937980651855469e-05,7.724761962890625e-05,6.866455078125e-05,7.176399230957031e-05,7.343292236328125e-05,6.985664367675781e-05,6.961822509765625e-05,0.00010704994201660156,8.344650268554688e-05,7.367134094238281e-05,6.794929504394531e-05,7.510185241699219e-05,7.271766662597656e-05,9.441375732421875e-05,7.319450378417969e-05,7.653236389160156e-05,8.821487426757812e-05,7.367134094238281e-05,7.343292236328125e-05,7.2479248046875e-05,7.104873657226562e-05,6.985664367675781e-05,9.751319885253906e-05,7.271766662597656e-05,7.653236389160156e-05,0.00010991096496582031,7.987022399902344e-05,0.008620738983154297,8.034706115722656e-05,7.557868957519531e-05,7.915496826171875e-05,7.152557373046875e-05,7.200241088867188e-05,7.510185241699219e-05,7.200241088867188e-05,0.00012493133544921875,0.00011491775512695312,8.082389831542969e-05,7.510185241699219e-05,7.677078247070312e-05,7.891654968261719e-05,7.462501525878906e-05,7.510185241699219e-05,6.628036499023438e-05,7.867813110351562e-05,7.05718994140625e-05,6.961822509765625e-05,7.43865966796875e-05,8.654594421386719e-05,7.200241088867188e-05,7.176399230957031e-05,7.009506225585938e-05,6.961822509765625e-05,6.747245788574219e-05,6.771087646484375e-05,7.104873657226562e-05,7.82012939453125e-05,8.58306884765625e-05,7.486343383789062e-05,7.081031799316406e-05,7.05718994140625e-05,7.009506225585938e-05,7.414817810058594e-05,6.914138793945312e-05,6.866455078125e-05,9.298324584960938e-05,0.00012445449829101562,7.843971252441406e-05,7.867813110351562e-05,7.891654968261719e-05,8.20159912109375e-05,7.200241088867188e-05,7.390975952148438e-05,9.250640869140625e-05,8.034706115722656e-05,6.914138793945312e-05,7.605552673339844e-05,7.462501525878906e-05,7.224082946777344e-05,8.177757263183594e-05,7.271766662597656e-05,7.271766662597656e-05,9.846687316894531e-05,9.083747863769531e-05,7.605552673339844e-05,7.581710815429688e-05,7.128715515136719e-05,7.009506225585938e-05,7.152557373046875e-05,7.915496826171875e-05,7.319450378417969e-05,7.581710815429688e-05,7.295608520507812e-05,8.058547973632812e-05,7.43865966796875e-05,7.557868957519531e-05,7.700920104980469e-05,7.462501525878906e-05,7.939338684082031e-05,7.557868957519531e-05,7.939338684082031e-05,8.082389831542969e-05,0.00011372566223144531,7.62939453125e-05,7.867813110351562e-05,7.653236389160156e-05,8.511543273925781e-05,8.320808410644531e-05,7.653236389160156e-05,7.486343383789062e-05,6.890296936035156e-05,9.822845458984375e-05,7.390975952148438e-05,9.918212890625e-05,7.534027099609375e-05,6.985664367675781e-05,7.295608520507812e-05,7.295608520507812e-05,8.153915405273438e-05,0.00011372566223144531,9.560585021972656e-05,0.00010895729064941406,9.179115295410156e-05,9.894371032714844e-05,7.987022399902344e-05,7.963180541992188e-05,7.081031799316406e-05,0.7341694831848145,0.00010275840759277344,0.08053088188171387,9.72747802734375e-05,9.441375732421875e-05,0.0001227855682373047,9.870529174804688e-05,9.584426879882812e-05,9.393692016601562e-05,0.3874225616455078,0.00010085105895996094,0.0001010894775390625,9.250640869140625e-05,8.96453857421875e-05,0.00012636184692382812,8.845329284667969e-05,0.00010013580322265625,9.34600830078125e-05,0.00011467933654785156,0.00010466575622558594,0.8142986297607422,0.00010728836059570312,9.918212890625e-05,0.00011086463928222656,0.00010657310485839844,0.000102996826171875,0.00010251998901367188,0.00010466575622558594,0.00010776519775390625,0.0001163482666015625,0.0001380443572998047,0.0001347064971923828,0.00010085105895996094,0.00010347366333007812,0.00010514259338378906,0.00010395050048828125,9.918212890625e-05,0.00010251998901367188,0.00010013580322265625,0.0066661834716796875,0.00606989860534668,0.006018400192260742,0.006188392639160156,0.006407260894775391,0.006659746170043945,0.006284475326538086,0.006336212158203125,0.0066089630126953125,0.007188558578491211,0.0061855316162109375,0.006018638610839844,0.006039619445800781,0.006167173385620117,0.006815433502197266,0.006900310516357422,0.00849461555480957,0.008862972259521484,0.006172657012939453,0.007524967193603516,0.006180763244628906,0.0067327022552490234,0.0061190128326416016,0.006357431411743164,0.00613856315612793,0.039829254150390625,8.96453857421875e-05,0.000141143798828125,0.00011157989501953125,0.00013113021850585938,9.107589721679688e-05,8.320808410644531e-05,0.00014829635620117188,0.00010466575622558594,8.821487426757812e-05,0.0001285076141357422,8.344650268554688e-05,8.630752563476562e-05,9.894371032714844e-05,8.320808410644531e-05,0.0001010894775390625,8.869171142578125e-05,0.00010991096496582031,8.630752563476562e-05,9.441375732421875e-05,8.320808410644531e-05,8.153915405273438e-05,8.559226989746094e-05,0.00010251998901367188,8.845329284667969e-05,8.797645568847656e-05,0.00010323524475097656,9.632110595703125e-05,8.702278137207031e-05,8.606910705566406e-05,0.0001418590545654297,9.322166442871094e-05,9.1552734375e-05,0.0001289844512939453,8.7738037109375e-05,8.440017700195312e-05,0.00013446807861328125,9.107589721679688e-05,0.0001308917999267578,8.702278137207031e-05,8.797645568847656e-05,8.416175842285156e-05,8.630752563476562e-05,9.059906005859375e-05,9.059906005859375e-05,0.00012087821960449219,0.0001862049102783203,0.0001575946807861328,8.869171142578125e-05,9.703636169433594e-05,8.96453857421875e-05,0.00011467933654785156,0.00021576881408691406,8.916854858398438e-05,9.560585021972656e-05,8.726119995117188e-05,9.226799011230469e-05,8.96453857421875e-05,8.988380432128906e-05,9.870529174804688e-05,0.0001437664031982422,8.821487426757812e-05,9.679794311523438e-05,9.775161743164062e-05,0.00017142295837402344,0.0001010894775390625,0.00010514259338378906,9.632110595703125e-05,9.441375732421875e-05,7.700920104980469e-05,0.00011444091796875,8.344650268554688e-05,0.0001289844512939453,0.00012826919555664062,0.0001316070556640625,0.00012159347534179688,0.0001308917999267578,9.679794311523438e-05,8.606910705566406e-05,0.00014019012451171875,9.083747863769531e-05,8.916854858398438e-05,8.368492126464844e-05,0.00010895729064941406,0.00010919570922851562,0.00010204315185546875,0.00010657310485839844,9.799003601074219e-05,8.368492126464844e-05,9.083747863769531e-05,8.678436279296875e-05,0.0002799034118652344,8.082389831542969e-05,7.82012939453125e-05,7.915496826171875e-05,8.606910705566406e-05,7.796287536621094e-05,8.7738037109375e-05,8.440017700195312e-05,8.797645568847656e-05,0.7609670162200928,7.796287536621094e-05,7.128715515136719e-05,6.842613220214844e-05,6.914138793945312e-05,6.961822509765625e-05,7.82012939453125e-05,7.62939453125e-05,0.6050512790679932,6.341934204101562e-05,0.5474491119384766,3.9861032962799072,4.071490287780762,3.276106357574463,0.00047659873962402344,0.0003879070281982422,0.000354766845703125,0.002935647964477539,0.5859253406524658,0.0027799606323242188,0.5077197551727295,0.002577543258666992,0.611238956451416,0.0028159618377685547,0.0034554004669189453,0.0026726722717285156,0.002561807632446289,0.5639667510986328,0.0025246143341064453,0.002935647964477539,0.0026578903198242188,0.0024242401123046875,0.002643585205078125,0.0027227401733398438,0.0027306079864501953,0.0025053024291992188,0.002533435821533203,0.0026712417602539062,0.09960675239562988,0.0029022693634033203,0.002471446990966797,0.02074885368347168,0.002534151077270508,0.0025196075439453125,0.0028035640716552734,0.003102540969848633,0.004756450653076172,0.0029397010803222656,0.003806591033935547,0.002548694610595703,0.0025484561920166016,0.0028166770935058594,0.0025472640991210938,0.0025434494018554688,0.002802610397338867,0.0024852752685546875,0.002778768539428711,0.0025205612182617188,0.00244903564453125,0.002546072006225586,0.002579212188720703,0.0025300979614257812,0.00304412841796875,0.0030312538146972656,0.0030317306518554688,0.0027310848236083984,0.0026657581329345703,0.0025632381439208984,0.0025441646575927734,0.002818584442138672,0.0025038719177246094,0.0025415420532226562,0.0026068687438964844,0.0025548934936523438,0.002492666244506836,0.002507448196411133,0.002828359603881836,0.002536773681640625,0.0029184818267822266,0.0029354095458984375,0.003223896026611328,0.0025551319122314453,0.002838134765625,0.002533435821533203,0.002636432647705078,0.002684354782104492,0.002492666244506836,0.0025787353515625,0.0028772354125976562,0.0029218196868896484,0.0024895668029785156,0.0027685165405273438,0.002547740936279297,0.0028603076934814453,0.0027108192443847656,0.0031023025512695312,0.003094911575317383,0.002563953399658203,0.0025882720947265625,0.0024857521057128906,0.0025238990783691406,0.002523660659790039,0.002735614776611328,0.0026400089263916016,0.0028498172760009766,0.0028815269470214844,0.0027475357055664062,0.002535581588745117,0.002496480941772461,0.003165721893310547,0.0026090145111083984,0.002622842788696289,0.002892017364501953,0.002560138702392578,0.002470731735229492,0.002953052520751953,0.0031332969665527344,0.003268718719482422,0.002833843231201172,0.0027112960815429688,0.0026412010192871094,0.002753019332885742,0.0025615692138671875,0.0027794837951660156,0.002602100372314453,0.0026824474334716797,0.0026395320892333984,0.0025403499603271484,0.003087282180786133,0.002438783645629883,0.0027840137481689453,0.0026521682739257812,0.0029115676879882812,0.0026102066040039062,0.0027189254760742188,0.0025713443756103516,0.0025315284729003906,0.002527952194213867,0.0024847984313964844,0.0028285980224609375,0.002511739730834961,0.03231048583984375,0.0025424957275390625,0.0024940967559814453,0.002749204635620117,0.19360041618347168,0.0024862289428710938,0.002513408660888672,0.002471446990966797,0.002544403076171875,0.0027658939361572266,0.0028030872344970703,0.002717256546020508,0.0024459362030029297,0.002769947052001953,0.002516508102416992,0.002500295639038086,0.0025658607482910156,0.0025107860565185547,0.0028100013732910156,0.0024979114532470703,0.0028579235076904297,0.002531290054321289,0.0028581619262695312,0.0025153160095214844,0.0025262832641601562,0.0027675628662109375,0.0028312206268310547,0.0025701522827148438,0.0026450157165527344,0.002725839614868164,0.003659963607788086,0.0028438568115234375,0.0025136470794677734,0.00284576416015625,0.0025632381439208984,0.0025615692138671875,0.002565622329711914,0.002529621124267578,0.06949973106384277,0.0026886463165283203,0.0024933815002441406,0.0026640892028808594,0.002502918243408203,0.0029497146606445312,0.0025091171264648438,0.002825498580932617,0.0024938583374023438,0.0027332305908203125,0.002532958984375,0.002859830856323242,0.0025458335876464844,0.002515077590942383,0.0025339126586914062,0.002595186233520508,0.002707242965698242,0.0027697086334228516,0.0027332305908203125,0.0025892257690429688,0.0024406909942626953,0.0028891563415527344,0.0027697086334228516,0.0026450157165527344,0.002454042434692383,0.0027141571044921875,0.0025482177734375,0.002786874771118164],\"yaxis\":\"y\",\"type\":\"scattergl\"}],                        {\"template\":{\"data\":{\"bar\":[{\"error_x\":{\"color\":\"#2a3f5f\"},\"error_y\":{\"color\":\"#2a3f5f\"},\"marker\":{\"line\":{\"color\":\"#E5ECF6\",\"width\":0.5},\"pattern\":{\"fillmode\":\"overlay\",\"size\":10,\"solidity\":0.2}},\"type\":\"bar\"}],\"barpolar\":[{\"marker\":{\"line\":{\"color\":\"#E5ECF6\",\"width\":0.5},\"pattern\":{\"fillmode\":\"overlay\",\"size\":10,\"solidity\":0.2}},\"type\":\"barpolar\"}],\"carpet\":[{\"aaxis\":{\"endlinecolor\":\"#2a3f5f\",\"gridcolor\":\"white\",\"linecolor\":\"white\",\"minorgridcolor\":\"white\",\"startlinecolor\":\"#2a3f5f\"},\"baxis\":{\"endlinecolor\":\"#2a3f5f\",\"gridcolor\":\"white\",\"linecolor\":\"white\",\"minorgridcolor\":\"white\",\"startlinecolor\":\"#2a3f5f\"},\"type\":\"carpet\"}],\"choropleth\":[{\"colorbar\":{\"outlinewidth\":0,\"ticks\":\"\"},\"type\":\"choropleth\"}],\"contour\":[{\"colorbar\":{\"outlinewidth\":0,\"ticks\":\"\"},\"colorscale\":[[0.0,\"#0d0887\"],[0.1111111111111111,\"#46039f\"],[0.2222222222222222,\"#7201a8\"],[0.3333333333333333,\"#9c179e\"],[0.4444444444444444,\"#bd3786\"],[0.5555555555555556,\"#d8576b\"],[0.6666666666666666,\"#ed7953\"],[0.7777777777777778,\"#fb9f3a\"],[0.8888888888888888,\"#fdca26\"],[1.0,\"#f0f921\"]],\"type\":\"contour\"}],\"contourcarpet\":[{\"colorbar\":{\"outlinewidth\":0,\"ticks\":\"\"},\"type\":\"contourcarpet\"}],\"heatmap\":[{\"colorbar\":{\"outlinewidth\":0,\"ticks\":\"\"},\"colorscale\":[[0.0,\"#0d0887\"],[0.1111111111111111,\"#46039f\"],[0.2222222222222222,\"#7201a8\"],[0.3333333333333333,\"#9c179e\"],[0.4444444444444444,\"#bd3786\"],[0.5555555555555556,\"#d8576b\"],[0.6666666666666666,\"#ed7953\"],[0.7777777777777778,\"#fb9f3a\"],[0.8888888888888888,\"#fdca26\"],[1.0,\"#f0f921\"]],\"type\":\"heatmap\"}],\"heatmapgl\":[{\"colorbar\":{\"outlinewidth\":0,\"ticks\":\"\"},\"colorscale\":[[0.0,\"#0d0887\"],[0.1111111111111111,\"#46039f\"],[0.2222222222222222,\"#7201a8\"],[0.3333333333333333,\"#9c179e\"],[0.4444444444444444,\"#bd3786\"],[0.5555555555555556,\"#d8576b\"],[0.6666666666666666,\"#ed7953\"],[0.7777777777777778,\"#fb9f3a\"],[0.8888888888888888,\"#fdca26\"],[1.0,\"#f0f921\"]],\"type\":\"heatmapgl\"}],\"histogram\":[{\"marker\":{\"pattern\":{\"fillmode\":\"overlay\",\"size\":10,\"solidity\":0.2}},\"type\":\"histogram\"}],\"histogram2d\":[{\"colorbar\":{\"outlinewidth\":0,\"ticks\":\"\"},\"colorscale\":[[0.0,\"#0d0887\"],[0.1111111111111111,\"#46039f\"],[0.2222222222222222,\"#7201a8\"],[0.3333333333333333,\"#9c179e\"],[0.4444444444444444,\"#bd3786\"],[0.5555555555555556,\"#d8576b\"],[0.6666666666666666,\"#ed7953\"],[0.7777777777777778,\"#fb9f3a\"],[0.8888888888888888,\"#fdca26\"],[1.0,\"#f0f921\"]],\"type\":\"histogram2d\"}],\"histogram2dcontour\":[{\"colorbar\":{\"outlinewidth\":0,\"ticks\":\"\"},\"colorscale\":[[0.0,\"#0d0887\"],[0.1111111111111111,\"#46039f\"],[0.2222222222222222,\"#7201a8\"],[0.3333333333333333,\"#9c179e\"],[0.4444444444444444,\"#bd3786\"],[0.5555555555555556,\"#d8576b\"],[0.6666666666666666,\"#ed7953\"],[0.7777777777777778,\"#fb9f3a\"],[0.8888888888888888,\"#fdca26\"],[1.0,\"#f0f921\"]],\"type\":\"histogram2dcontour\"}],\"mesh3d\":[{\"colorbar\":{\"outlinewidth\":0,\"ticks\":\"\"},\"type\":\"mesh3d\"}],\"parcoords\":[{\"line\":{\"colorbar\":{\"outlinewidth\":0,\"ticks\":\"\"}},\"type\":\"parcoords\"}],\"pie\":[{\"automargin\":true,\"type\":\"pie\"}],\"scatter\":[{\"marker\":{\"colorbar\":{\"outlinewidth\":0,\"ticks\":\"\"}},\"type\":\"scatter\"}],\"scatter3d\":[{\"line\":{\"colorbar\":{\"outlinewidth\":0,\"ticks\":\"\"}},\"marker\":{\"colorbar\":{\"outlinewidth\":0,\"ticks\":\"\"}},\"type\":\"scatter3d\"}],\"scattercarpet\":[{\"marker\":{\"colorbar\":{\"outlinewidth\":0,\"ticks\":\"\"}},\"type\":\"scattercarpet\"}],\"scattergeo\":[{\"marker\":{\"colorbar\":{\"outlinewidth\":0,\"ticks\":\"\"}},\"type\":\"scattergeo\"}],\"scattergl\":[{\"marker\":{\"colorbar\":{\"outlinewidth\":0,\"ticks\":\"\"}},\"type\":\"scattergl\"}],\"scattermapbox\":[{\"marker\":{\"colorbar\":{\"outlinewidth\":0,\"ticks\":\"\"}},\"type\":\"scattermapbox\"}],\"scatterpolar\":[{\"marker\":{\"colorbar\":{\"outlinewidth\":0,\"ticks\":\"\"}},\"type\":\"scatterpolar\"}],\"scatterpolargl\":[{\"marker\":{\"colorbar\":{\"outlinewidth\":0,\"ticks\":\"\"}},\"type\":\"scatterpolargl\"}],\"scatterternary\":[{\"marker\":{\"colorbar\":{\"outlinewidth\":0,\"ticks\":\"\"}},\"type\":\"scatterternary\"}],\"surface\":[{\"colorbar\":{\"outlinewidth\":0,\"ticks\":\"\"},\"colorscale\":[[0.0,\"#0d0887\"],[0.1111111111111111,\"#46039f\"],[0.2222222222222222,\"#7201a8\"],[0.3333333333333333,\"#9c179e\"],[0.4444444444444444,\"#bd3786\"],[0.5555555555555556,\"#d8576b\"],[0.6666666666666666,\"#ed7953\"],[0.7777777777777778,\"#fb9f3a\"],[0.8888888888888888,\"#fdca26\"],[1.0,\"#f0f921\"]],\"type\":\"surface\"}],\"table\":[{\"cells\":{\"fill\":{\"color\":\"#EBF0F8\"},\"line\":{\"color\":\"white\"}},\"header\":{\"fill\":{\"color\":\"#C8D4E3\"},\"line\":{\"color\":\"white\"}},\"type\":\"table\"}]},\"layout\":{\"annotationdefaults\":{\"arrowcolor\":\"#2a3f5f\",\"arrowhead\":0,\"arrowwidth\":1},\"autotypenumbers\":\"strict\",\"coloraxis\":{\"colorbar\":{\"outlinewidth\":0,\"ticks\":\"\"}},\"colorscale\":{\"diverging\":[[0,\"#8e0152\"],[0.1,\"#c51b7d\"],[0.2,\"#de77ae\"],[0.3,\"#f1b6da\"],[0.4,\"#fde0ef\"],[0.5,\"#f7f7f7\"],[0.6,\"#e6f5d0\"],[0.7,\"#b8e186\"],[0.8,\"#7fbc41\"],[0.9,\"#4d9221\"],[1,\"#276419\"]],\"sequential\":[[0.0,\"#0d0887\"],[0.1111111111111111,\"#46039f\"],[0.2222222222222222,\"#7201a8\"],[0.3333333333333333,\"#9c179e\"],[0.4444444444444444,\"#bd3786\"],[0.5555555555555556,\"#d8576b\"],[0.6666666666666666,\"#ed7953\"],[0.7777777777777778,\"#fb9f3a\"],[0.8888888888888888,\"#fdca26\"],[1.0,\"#f0f921\"]],\"sequentialminus\":[[0.0,\"#0d0887\"],[0.1111111111111111,\"#46039f\"],[0.2222222222222222,\"#7201a8\"],[0.3333333333333333,\"#9c179e\"],[0.4444444444444444,\"#bd3786\"],[0.5555555555555556,\"#d8576b\"],[0.6666666666666666,\"#ed7953\"],[0.7777777777777778,\"#fb9f3a\"],[0.8888888888888888,\"#fdca26\"],[1.0,\"#f0f921\"]]},\"colorway\":[\"#636efa\",\"#EF553B\",\"#00cc96\",\"#ab63fa\",\"#FFA15A\",\"#19d3f3\",\"#FF6692\",\"#B6E880\",\"#FF97FF\",\"#FECB52\"],\"font\":{\"color\":\"#2a3f5f\"},\"geo\":{\"bgcolor\":\"white\",\"lakecolor\":\"white\",\"landcolor\":\"#E5ECF6\",\"showlakes\":true,\"showland\":true,\"subunitcolor\":\"white\"},\"hoverlabel\":{\"align\":\"left\"},\"hovermode\":\"closest\",\"mapbox\":{\"style\":\"light\"},\"paper_bgcolor\":\"white\",\"plot_bgcolor\":\"#E5ECF6\",\"polar\":{\"angularaxis\":{\"gridcolor\":\"white\",\"linecolor\":\"white\",\"ticks\":\"\"},\"bgcolor\":\"#E5ECF6\",\"radialaxis\":{\"gridcolor\":\"white\",\"linecolor\":\"white\",\"ticks\":\"\"}},\"scene\":{\"xaxis\":{\"backgroundcolor\":\"#E5ECF6\",\"gridcolor\":\"white\",\"gridwidth\":2,\"linecolor\":\"white\",\"showbackground\":true,\"ticks\":\"\",\"zerolinecolor\":\"white\"},\"yaxis\":{\"backgroundcolor\":\"#E5ECF6\",\"gridcolor\":\"white\",\"gridwidth\":2,\"linecolor\":\"white\",\"showbackground\":true,\"ticks\":\"\",\"zerolinecolor\":\"white\"},\"zaxis\":{\"backgroundcolor\":\"#E5ECF6\",\"gridcolor\":\"white\",\"gridwidth\":2,\"linecolor\":\"white\",\"showbackground\":true,\"ticks\":\"\",\"zerolinecolor\":\"white\"}},\"shapedefaults\":{\"line\":{\"color\":\"#2a3f5f\"}},\"ternary\":{\"aaxis\":{\"gridcolor\":\"white\",\"linecolor\":\"white\",\"ticks\":\"\"},\"baxis\":{\"gridcolor\":\"white\",\"linecolor\":\"white\",\"ticks\":\"\"},\"bgcolor\":\"#E5ECF6\",\"caxis\":{\"gridcolor\":\"white\",\"linecolor\":\"white\",\"ticks\":\"\"}},\"title\":{\"x\":0.05},\"xaxis\":{\"automargin\":true,\"gridcolor\":\"white\",\"linecolor\":\"white\",\"ticks\":\"\",\"title\":{\"standoff\":15},\"zerolinecolor\":\"white\",\"zerolinewidth\":2},\"yaxis\":{\"automargin\":true,\"gridcolor\":\"white\",\"linecolor\":\"white\",\"ticks\":\"\",\"title\":{\"standoff\":15},\"zerolinecolor\":\"white\",\"zerolinewidth\":2}}},\"xaxis\":{\"anchor\":\"y\",\"domain\":[0.0,1.0],\"title\":{\"text\":\"x\"},\"rangeslider\":{\"visible\":true}},\"yaxis\":{\"anchor\":\"x\",\"domain\":[0.0,1.0],\"title\":{\"text\":\"Execution time\"}},\"legend\":{\"tracegroupgap\":0},\"title\":{\"text\":\"Action Execution Time\"}},                        {\"responsive\": true}                    ).then(function(){\n",
       "                            \n",
       "var gd = document.getElementById('a96f18ea-91b7-4176-a049-bf6977222802');\n",
       "var x = new MutationObserver(function (mutations, observer) {{\n",
       "        var display = window.getComputedStyle(gd).display;\n",
       "        if (!display || display === 'none') {{\n",
       "            console.log([gd, 'removed!']);\n",
       "            Plotly.purge(gd);\n",
       "            observer.disconnect();\n",
       "        }}\n",
       "}});\n",
       "\n",
       "// Listen for the removal of the full notebook cells\n",
       "var notebookContainer = gd.closest('#notebook-container');\n",
       "if (notebookContainer) {{\n",
       "    x.observe(notebookContainer, {childList: true});\n",
       "}}\n",
       "\n",
       "// Listen for the clearing of the current output cell\n",
       "var outputEl = gd.closest('.output');\n",
       "if (outputEl) {{\n",
       "    x.observe(outputEl, {childList: true});\n",
       "}}\n",
       "\n",
       "                        })                };                });            </script>        </div>"
      ]
     },
     "metadata": {},
     "output_type": "display_data"
    }
   ],
   "source": [
    "episodes_plot.plot_computation_times(episodes_names=[\"dec16_1\", \"dec16_2\"])"
   ]
  },
  {
   "cell_type": "code",
   "execution_count": null,
   "metadata": {
    "pycharm": {
     "name": "#%%\n"
    }
   },
   "outputs": [],
   "source": [
    "episodes_plot.plot_distance_from_initial_topology(episodes_names=[\"dec16_1\", \"dec16_2\"])"
   ]
  },
  {
   "cell_type": "code",
   "execution_count": null,
   "metadata": {
    "pycharm": {
     "name": "#%%\n"
    }
   },
   "outputs": [],
   "source": [
    "episodes_plot.plot_actions_freq_by_station(episodes_names=[\"dec16_1\", \"dec16_2\"])"
   ]
  },
  {
   "cell_type": "code",
   "execution_count": null,
   "metadata": {
    "pycharm": {
     "name": "#%%\n"
    }
   },
   "outputs": [],
   "source": [
    "episodes_plot.plot_actions_sequence_length_by_type(xaxis={\"rangeslider\": {\"visible\": False}})"
   ]
  },
  {
   "cell_type": "code",
   "execution_count": null,
   "metadata": {
    "pycharm": {
     "name": "#%%\n"
    }
   },
   "outputs": [],
   "source": [
    "from configmanager.configmanager import ConfigManager\n",
    "conf_path = os.path.abspath(\"../conf.ini\")\n",
    "conf = ConfigManager(\"Pyplot kwargs\", path=conf_path)"
   ]
  },
  {
   "cell_type": "code",
   "execution_count": null,
   "metadata": {
    "pycharm": {
     "name": "#%%\n"
    }
   },
   "outputs": [],
   "source": [
    "data_path = os.path.abspath(\"../data/input\")\n",
    "results_path = os.path.abspath(\"../data/output\")"
   ]
  },
  {
   "cell_type": "code",
   "execution_count": null,
   "metadata": {
    "pycharm": {
     "name": "#%%\n"
    }
   },
   "outputs": [],
   "source": [
    "conf.create_config(data_path = data_path, results_path = results_path )"
   ]
  },
  {
   "cell_type": "code",
   "execution_count": null,
   "metadata": {
    "pycharm": {
     "name": "#%%\n"
    }
   },
   "outputs": [],
   "source": [
    "conf.remove_config_option(scenario_name=\"PPO Agent\", option=\"episode_names\")"
   ]
  },
  {
   "cell_type": "code",
   "execution_count": 6,
   "metadata": {
    "pycharm": {
     "name": "#%%\n"
    }
   },
   "outputs": [
    {
     "data": {
      "text/html": [
       "<div>\n",
       "<style scoped>\n",
       "    .dataframe tbody tr th:only-of-type {\n",
       "        vertical-align: middle;\n",
       "    }\n",
       "\n",
       "    .dataframe tbody tr th {\n",
       "        vertical-align: top;\n",
       "    }\n",
       "\n",
       "    .dataframe thead th {\n",
       "        text-align: right;\n",
       "    }\n",
       "</style>\n",
       "<table border=\"1\" class=\"dataframe\">\n",
       "  <thead>\n",
       "    <tr style=\"text-align: right;\">\n",
       "      <th></th>\n",
       "      <th>Timestamp</th>\n",
       "      <th>NB action</th>\n",
       "    </tr>\n",
       "  </thead>\n",
       "  <tbody>\n",
       "    <tr>\n",
       "      <th>0</th>\n",
       "      <td>2012-12-04 09:30:00</td>\n",
       "      <td>4</td>\n",
       "    </tr>\n",
       "    <tr>\n",
       "      <th>1</th>\n",
       "      <td>2012-12-04 21:40:00</td>\n",
       "      <td>3</td>\n",
       "    </tr>\n",
       "    <tr>\n",
       "      <th>2</th>\n",
       "      <td>2012-12-04 21:45:00</td>\n",
       "      <td>1</td>\n",
       "    </tr>\n",
       "    <tr>\n",
       "      <th>3</th>\n",
       "      <td>2012-12-04 21:50:00</td>\n",
       "      <td>4</td>\n",
       "    </tr>\n",
       "    <tr>\n",
       "      <th>4</th>\n",
       "      <td>2012-12-04 21:55:00</td>\n",
       "      <td>5</td>\n",
       "    </tr>\n",
       "    <tr>\n",
       "      <th>...</th>\n",
       "      <td>...</td>\n",
       "      <td>...</td>\n",
       "    </tr>\n",
       "    <tr>\n",
       "      <th>57</th>\n",
       "      <td>2012-12-08 09:40:00</td>\n",
       "      <td>2</td>\n",
       "    </tr>\n",
       "    <tr>\n",
       "      <th>58</th>\n",
       "      <td>2012-12-08 12:05:00</td>\n",
       "      <td>2</td>\n",
       "    </tr>\n",
       "    <tr>\n",
       "      <th>59</th>\n",
       "      <td>2012-12-08 12:35:00</td>\n",
       "      <td>5</td>\n",
       "    </tr>\n",
       "    <tr>\n",
       "      <th>60</th>\n",
       "      <td>2012-12-08 12:45:00</td>\n",
       "      <td>1</td>\n",
       "    </tr>\n",
       "    <tr>\n",
       "      <th>61</th>\n",
       "      <td>2012-12-08 15:30:00</td>\n",
       "      <td>5</td>\n",
       "    </tr>\n",
       "  </tbody>\n",
       "</table>\n",
       "<p>62 rows × 2 columns</p>\n",
       "</div>"
      ],
      "text/plain": [
       "             Timestamp  NB action\n",
       "0  2012-12-04 09:30:00          4\n",
       "1  2012-12-04 21:40:00          3\n",
       "2  2012-12-04 21:45:00          1\n",
       "3  2012-12-04 21:50:00          4\n",
       "4  2012-12-04 21:55:00          5\n",
       "..                 ...        ...\n",
       "57 2012-12-08 09:40:00          2\n",
       "58 2012-12-08 12:05:00          2\n",
       "59 2012-12-08 12:35:00          5\n",
       "60 2012-12-08 12:45:00          1\n",
       "61 2012-12-08 15:30:00          5\n",
       "\n",
       "[62 rows x 2 columns]"
      ]
     },
     "execution_count": 6,
     "metadata": {},
     "output_type": "execute_result"
    }
   ],
   "source": [
    "#compute_action_sequences_length()\n",
    "from rlbenchplot.EpisodesPlot import EpisodeDataExtractor\n",
    "\n",
    "\n",
    "e_data= EpisodeDataExtractor(agent_path,episode_name=\"dec16_1\")\n",
    "\n",
    "\n",
    "e_data.compute_actions_freq_by_timestamp()"
   ]
  },
  {
   "cell_type": "code",
   "execution_count": null,
   "metadata": {},
   "outputs": [],
   "source": []
  },
  {
   "cell_type": "code",
   "execution_count": null,
   "metadata": {},
   "outputs": [],
   "source": []
  },
  {
   "cell_type": "code",
   "execution_count": 7,
   "metadata": {},
   "outputs": [
    {
     "data": {
      "text/plain": [
       "datetime.datetime(2012, 12, 4, 7, 15)"
      ]
     },
     "execution_count": 7,
     "metadata": {},
     "output_type": "execute_result"
    }
   ],
   "source": [
    "e_data.timestamps[3]"
   ]
  },
  {
   "cell_type": "code",
   "execution_count": 5,
   "metadata": {},
   "outputs": [],
   "source": [
    "#e_data.create_topology_df()\n",
    "#e_data.create_force_line_df()\n"
   ]
  },
  {
   "cell_type": "code",
   "execution_count": null,
   "metadata": {},
   "outputs": [],
   "source": []
  },
  {
   "cell_type": "code",
   "execution_count": null,
   "metadata": {},
   "outputs": [],
   "source": []
  },
  {
   "cell_type": "code",
   "execution_count": 3,
   "metadata": {},
   "outputs": [
    {
     "data": {},
     "metadata": {},
     "output_type": "display_data"
    },
    {
     "data": {
      "text/plain": [
       "'total Number of Tolopology changes:242'"
      ]
     },
     "metadata": {},
     "output_type": "display_data"
    },
    {
     "data": {
      "application/vnd.jupyter.widget-view+json": {
       "model_id": "34aeca2fb6bd4e3d8e88cbda2666e0e9",
       "version_major": 2,
       "version_minor": 0
      },
      "text/plain": [
       "Dropdown(description='Table', options=('Select', 'Tolopology', 'Force_line', 'Redispatching', 'Injection', 'Cu…"
      ]
     },
     "metadata": {},
     "output_type": "display_data"
    },
    {
     "data": {
      "text/plain": [
       "'total Number of Tolopology changes:242'"
      ]
     },
     "metadata": {},
     "output_type": "display_data"
    },
    {
     "data": {
      "application/vnd.jupyter.widget-view+json": {
       "model_id": "914ac30d55de4362a79b61a663632cf8",
       "version_major": 2,
       "version_minor": 0
      },
      "text/plain": [
       "QgridWidget(grid_options={'fullWidthRows': True, 'syncColumnCellResize': True, 'forceFitColumns': True, 'defau…"
      ]
     },
     "metadata": {},
     "output_type": "display_data"
    }
   ],
   "source": [
    "episodes_plot.display_detailed_action_type()"
   ]
  },
  {
   "cell_type": "code",
   "execution_count": null,
   "metadata": {},
   "outputs": [],
   "source": []
  },
  {
   "cell_type": "code",
   "execution_count": null,
   "metadata": {},
   "outputs": [],
   "source": []
  },
  {
   "cell_type": "code",
   "execution_count": null,
   "metadata": {},
   "outputs": [],
   "source": []
  },
  {
   "cell_type": "code",
   "execution_count": null,
   "metadata": {},
   "outputs": [],
   "source": []
  }
 ],
 "metadata": {
  "kernelspec": {
   "display_name": "Python 3",
   "language": "python",
   "name": "python3"
  },
  "language_info": {
   "codemirror_mode": {
    "name": "ipython",
    "version": 3
   },
   "file_extension": ".py",
   "mimetype": "text/x-python",
   "name": "python",
   "nbconvert_exporter": "python",
   "pygments_lexer": "ipython3",
   "version": "3.8.8"
  }
 },
 "nbformat": 4,
 "nbformat_minor": 1
}
