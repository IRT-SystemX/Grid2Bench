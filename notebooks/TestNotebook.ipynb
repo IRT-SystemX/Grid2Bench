{
 "cells": [
  {
   "cell_type": "code",
   "execution_count": 4,
   "metadata": {},
   "outputs": [],
   "source": [
    "import os\n",
    "import  grid2op\n",
    "import qgrid"
   ]
  },
  {
   "cell_type": "code",
   "metadata": {
    "pycharm": {
     "name": "#%%\n"
    }
   },
   "source": [
    "agent_path = os.path.abspath(\"../data/input/rte_case14_redisp_do_nothing_agent\")"
   ],
   "execution_count": 5,
   "outputs": []
  },
  {
   "cell_type": "code",
   "metadata": {
    "pycharm": {
     "name": "#%%\n"
    }
   },
   "source": [
    "from grid2op.Agent import DoNothingAgent\n",
    "from grid2op.Runner import Runner\n",
    "from grid2op.Parameters import Parameters\n",
    "max_iter = 10\n",
    "\n",
    "# Disable lines disconnections due to overflows\n",
    "params = Parameters()\n",
    "#params.NO_OVERFLOW_DISCONNECTION = True\n",
    "\n",
    "env = grid2op.make(\"rte_case14_redisp\", test=True, param=params)\n",
    "\n",
    "runner = Runner(**env.get_params_for_runner(), agentClass=DoNothingAgent)\n",
    "res = runner.run(nb_episode=2, path_save=agent_path, max_iter=max_iter)"
   ],
   "execution_count": 6,
   "outputs": [
    {
     "name": "stderr",
     "output_type": "stream",
     "text": [
      "/home/seif-eddine/.cache/pypoetry/virtualenvs/rlbenchplot-msLqga0e-py3.9/lib/python3.9/site-packages/grid2op/MakeEnv/Make.py:326: UserWarning: You are using a development environment. This environment is not intended for training agents. It might not be up to date and its primary use if for tests (hence the \"test=True\" you passed as argument). Use at your own risk.\n",
      "  warnings.warn(_MAKE_DEV_ENV_WARN)\n"
     ]
    }
   ]
  },
  {
   "cell_type": "markdown",
   "metadata": {},
   "source": []
  },
  {
   "cell_type": "code",
   "execution_count": 1,
   "outputs": [],
   "source": [
    "import os\n",
    "from configmanager.configmanager import ConfigManager\n",
    "conf_path = os.path.abspath(\"../conf.ini\")\n",
    "\n",
    "conf = ConfigManager(benchmark_name='Tests', path=conf_path)"
   ],
   "metadata": {
    "collapsed": false,
    "pycharm": {
     "name": "#%%\n"
    }
   }
  },
  {
   "cell_type": "code",
   "execution_count": 2,
   "outputs": [
    {
     "data": {
      "text/plain": "<configparser.ConfigParser at 0x7ff784173be0>"
     },
     "execution_count": 2,
     "metadata": {},
     "output_type": "execute_result"
    }
   ],
   "source": [
    "kwargs = {\n",
    "    'data_path' : os.path.abspath('data/agents/'),\n",
    "    'agents_names' : ['rte_case14_redisp_do_nothing_agent', 'rte_case14_redisp_random_agent'],\n",
    "    'episodes_names' : ['0', '1']\n",
    "}\n",
    "conf.create_config(**kwargs)"
   ],
   "metadata": {
    "collapsed": false,
    "pycharm": {
     "name": "#%%\n"
    }
   }
  },
  {
   "cell_type": "code",
   "execution_count": 2,
   "outputs": [
    {
     "data": {
      "text/plain": "{'data_path': 'tests/data/agents',\n 'agents_names': \"['rte_case14_redisp_do_nothing_agent', 'rte_case14_redisp_random_agent']\",\n 'episodes_names': \"['0', '1']\"}"
     },
     "execution_count": 2,
     "metadata": {},
     "output_type": "execute_result"
    }
   ],
   "source": [
    "conf.get_options_dict()"
   ],
   "metadata": {
    "collapsed": false,
    "pycharm": {
     "name": "#%%\n"
    }
   }
  },
  {
   "cell_type": "code",
   "execution_count": 4,
   "outputs": [],
   "source": [
    "path = conf.get_option('data_path')"
   ],
   "metadata": {
    "collapsed": false,
    "pycharm": {
     "name": "#%%\n"
    }
   }
  },
  {
   "cell_type": "code",
   "execution_count": 10,
   "outputs": [
    {
     "data": {
      "text/plain": "'/home/seif-eddine/PycharmProjects/RLBenchPlot/notebooks/tests/data/agents'"
     },
     "execution_count": 10,
     "metadata": {},
     "output_type": "execute_result"
    }
   ],
   "source": [
    "os.path.abspath(path)"
   ],
   "metadata": {
    "collapsed": false,
    "pycharm": {
     "name": "#%%\n"
    }
   }
  },
  {
   "cell_type": "code",
   "execution_count": null,
   "outputs": [],
   "source": [],
   "metadata": {
    "collapsed": false,
    "pycharm": {
     "name": "#%%\n"
    }
   }
  }
 ],
 "metadata": {
  "kernelspec": {
   "display_name": "Python 3",
   "language": "python",
   "name": "python3"
  },
  "language_info": {
   "codemirror_mode": {
    "name": "ipython",
    "version": 3
   },
   "file_extension": ".py",
   "mimetype": "text/x-python",
   "name": "python",
   "nbconvert_exporter": "python",
   "pygments_lexer": "ipython3",
   "version": "3.8.8"
  }
 },
 "nbformat": 4,
 "nbformat_minor": 1
}