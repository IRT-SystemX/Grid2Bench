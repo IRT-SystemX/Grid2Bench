{
 "cells": [
  {
   "cell_type": "code",
   "execution_count": 4,
   "outputs": [],
   "source": [
    "import warnings\n",
    "\n",
    "warnings.filterwarnings(\"ignore\")\n"
   ],
   "metadata": {
    "collapsed": false,
    "pycharm": {
     "name": "#%%\n"
    }
   }
  },
  {
   "cell_type": "code",
   "execution_count": 7,
   "metadata": {},
   "outputs": [
    {
     "name": "stdout",
     "output_type": "stream",
     "text": [
      "  t_step          time_stamp action_id susbtation  episode\n",
      "0     30 2012-12-04 09:30:00         1         16  dec16_1\n",
      "1     77 2012-12-04 13:25:00         2         16  dec16_1\n",
      "2    176 2012-12-04 21:40:00         3         32  dec16_1\n",
      "3    178 2012-12-04 21:50:00         4         26  dec16_1\n",
      "4    180 2012-12-04 22:00:00         5         32  dec16_1\n",
      "53\n"
     ]
    }
   ],
   "source": [
    "from grid2bench.EpisodeDataExtractor import EpisodeDataExtractor\n",
    "\n",
    "# import episode data\n",
    "agent_log_path = '../data/input/Expert_Agent'\n",
    "episode_name = 'dec16_1'\n",
    "episode_data = EpisodeDataExtractor(agent_log_path, episode_name)\n",
    "\n",
    "c ,df = episode_data.create_topology_df()\n",
    "print(df)\n",
    "print(c)"
   ]
  },
  {
   "cell_type": "markdown",
   "metadata": {},
   "source": []
  },
  {
   "cell_type": "code",
   "execution_count": 1,
   "outputs": [],
   "source": [
    "import os\n",
    "from configmanager.configmanager import ConfigManager\n",
    "conf_path = os.path.abspath(\"../conf.ini\")\n",
    "\n",
    "conf = ConfigManager(benchmark_name='Tests', path=conf_path)"
   ],
   "metadata": {
    "collapsed": false,
    "pycharm": {
     "name": "#%%\n"
    }
   }
  },
  {
   "cell_type": "code",
   "execution_count": 2,
   "outputs": [
    {
     "data": {
      "text/plain": "<configparser.ConfigParser at 0x7ff784173be0>"
     },
     "execution_count": 2,
     "metadata": {},
     "output_type": "execute_result"
    }
   ],
   "source": [
    "kwargs = {\n",
    "    'data_path' : os.path.abspath('data/agents/'),\n",
    "    'agents_names' : ['rte_case14_redisp_do_nothing_agent', 'rte_case14_redisp_random_agent'],\n",
    "    'episodes_names' : ['0', '1']\n",
    "}\n",
    "conf.create_config(**kwargs)"
   ],
   "metadata": {
    "collapsed": false,
    "pycharm": {
     "name": "#%%\n"
    }
   }
  },
  {
   "cell_type": "code",
   "execution_count": 2,
   "outputs": [
    {
     "data": {
      "text/plain": "{'data_path': 'tests/data/agents',\n 'agents_names': \"['rte_case14_redisp_do_nothing_agent', 'rte_case14_redisp_random_agent']\",\n 'episodes_names': \"['0', '1']\"}"
     },
     "execution_count": 2,
     "metadata": {},
     "output_type": "execute_result"
    }
   ],
   "source": [
    "conf.get_options_dict()"
   ],
   "metadata": {
    "collapsed": false,
    "pycharm": {
     "name": "#%%\n"
    }
   }
  },
  {
   "cell_type": "code",
   "execution_count": 4,
   "outputs": [],
   "source": [
    "path = conf.get_option('data_path')"
   ],
   "metadata": {
    "collapsed": false,
    "pycharm": {
     "name": "#%%\n"
    }
   }
  },
  {
   "cell_type": "code",
   "execution_count": 10,
   "outputs": [
    {
     "data": {
      "text/plain": "'/home/seif-eddine/PycharmProjects/RLBenchPlot/notebooks/tests/data/agents'"
     },
     "execution_count": 10,
     "metadata": {},
     "output_type": "execute_result"
    }
   ],
   "source": [
    "os.path.abspath(path)\n",
    "\n"
   ],
   "metadata": {
    "collapsed": false,
    "pycharm": {
     "name": "#%%\n"
    }
   }
  },
  {
   "cell_type": "code",
   "execution_count": null,
   "outputs": [],
   "source": [],
   "metadata": {
    "collapsed": false,
    "pycharm": {
     "name": "#%%\n"
    }
   }
  }
 ],
 "metadata": {
  "kernelspec": {
   "display_name": "Python 3",
   "language": "python",
   "name": "python3"
  },
  "language_info": {
   "codemirror_mode": {
    "name": "ipython",
    "version": 3
   },
   "file_extension": ".py",
   "mimetype": "text/x-python",
   "name": "python",
   "nbconvert_exporter": "python",
   "pygments_lexer": "ipython3",
   "version": "3.8.8"
  }
 },
 "nbformat": 4,
 "nbformat_minor": 1
}