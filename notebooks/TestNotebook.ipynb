{
 "cells": [
  {
   "cell_type": "code",
   "execution_count": 1,
   "metadata": {
    "collapsed": true
   },
   "outputs": [],
   "source": [
    "import os"
   ]
  },
  {
   "cell_type": "raw",
   "source": [
    "agent_path = os.path.abspath(\"../data/input/rte_case14_redisp_random_agent\")"
   ],
   "metadata": {
    "collapsed": false,
    "pycharm": {
     "name": "#%% raw\n"
    }
   }
  },
  {
   "cell_type": "raw",
   "source": [
    "from grid2op.Agent import RandomAgent\n",
    "from grid2op.Runner import Runner\n",
    "from grid2op.Parameters import Parameters\n",
    "max_iter = 100\n",
    "\n",
    "# Disable lines disconnections due to overflows\n",
    "params = Parameters()\n",
    "#params.NO_OVERFLOW_DISCONNECTION = True\n",
    "\n",
    "env = grid2op.make(\"rte_case14_redisp\", test=True, param=params)\n",
    "\n",
    "runner = Runner(**env.get_params_for_runner(), agentClass=RandomAgent)\n",
    "res = runner.run(nb_episode=1, path_save=agent_path, max_iter=max_iter)"
   ],
   "metadata": {
    "collapsed": false,
    "pycharm": {
     "name": "#%% raw\n"
    }
   }
  },
  {
   "cell_type": "markdown",
   "source": [],
   "metadata": {
    "collapsed": false
   }
  },
  {
   "cell_type": "code",
   "source": [
    "agent_path = os.path.abspath(\"../data/input/rte_case14_redisp_random_agent\")"
   ],
   "metadata": {
    "collapsed": false,
    "pycharm": {
     "name": "#%%\n"
    }
   },
   "execution_count": 2,
   "outputs": []
  },
  {
   "cell_type": "code",
   "execution_count": 3,
   "outputs": [],
   "source": [
    "from rlbenchplot.BenchPlot import BenchPlot\n",
    "bench_plot = BenchPlot(agent_path,\"0\")"
   ],
   "metadata": {
    "collapsed": false,
    "pycharm": {
     "name": "#%%\n"
    }
   }
  },
  {
   "cell_type": "code",
   "execution_count": 4,
   "outputs": [
    {
     "data": {
      "text/plain": "[<grid2op.Space.GridObjects.CompleteObservation_rte_case14_redisp at 0x7fdc05b56760>,\n <grid2op.Space.GridObjects.CompleteObservation_rte_case14_redisp at 0x7fdc05b56d30>,\n <grid2op.Space.GridObjects.CompleteObservation_rte_case14_redisp at 0x7fdc05b64610>,\n <grid2op.Space.GridObjects.CompleteObservation_rte_case14_redisp at 0x7fdc05b64520>,\n <grid2op.Space.GridObjects.CompleteObservation_rte_case14_redisp at 0x7fdc05b642b0>,\n <grid2op.Space.GridObjects.CompleteObservation_rte_case14_redisp at 0x7fdc05b64460>]"
     },
     "execution_count": 4,
     "metadata": {},
     "output_type": "execute_result"
    }
   ],
   "source": [
    "bench_plot.get_observations()"
   ],
   "metadata": {
    "collapsed": false,
    "pycharm": {
     "name": "#%%\n"
    }
   }
  },
  {
   "cell_type": "code",
   "execution_count": 5,
   "outputs": [],
   "source": [
    "actions = bench_plot.get_actions()"
   ],
   "metadata": {
    "collapsed": false,
    "pycharm": {
     "name": "#%%\n"
    }
   }
  },
  {
   "cell_type": "code",
   "execution_count": 6,
   "outputs": [],
   "source": [
    "actions[4]._subs_impacted"
   ],
   "metadata": {
    "collapsed": false,
    "pycharm": {
     "name": "#%%\n"
    }
   }
  },
  {
   "cell_type": "code",
   "execution_count": 7,
   "outputs": [],
   "source": [
    "actions[0]._lines_impacted"
   ],
   "metadata": {
    "collapsed": false,
    "pycharm": {
     "name": "#%%\n"
    }
   }
  },
  {
   "cell_type": "code",
   "execution_count": 8,
   "outputs": [
    {
     "data": {
      "text/plain": "(array([False, False, False, False, False, False, False, False, False,\n        False, False, False, False, False, False,  True, False, False,\n        False, False]),\n array([False, False, False, False, False, False, False, False, False,\n        False, False, False, False, False]))"
     },
     "execution_count": 8,
     "metadata": {},
     "output_type": "execute_result"
    }
   ],
   "source": [
    "actions[3].get_topological_impact()"
   ],
   "metadata": {
    "collapsed": false,
    "pycharm": {
     "name": "#%%\n"
    }
   }
  },
  {
   "cell_type": "code",
   "execution_count": 9,
   "outputs": [
    {
     "data": {
      "text/plain": "[1, 4, 1, 1, 4]"
     },
     "execution_count": 9,
     "metadata": {},
     "output_type": "execute_result"
    }
   ],
   "source": [
    "actions_freq_by_timestamp= bench_plot.get_actions_freq_by_timestamp()\n",
    "actions_freq_by_timestamp"
   ],
   "metadata": {
    "collapsed": false,
    "pycharm": {
     "name": "#%%\n"
    }
   }
  },
  {
   "cell_type": "code",
   "execution_count": 10,
   "outputs": [
    {
     "data": {
      "text/plain": "{'nb_injection': [0, 0, 0, 0, 0],\n 'nb_lines_forced': [0, 0, 0, 0, 0],\n 'nb_lines_switched': [0, 0, 0, 1, 0],\n 'nb_topological_changes': [0, 4, 1, 0, 4],\n 'nb_redispatching_changes': [1, 0, 0, 0, 0],\n 'nb_storage_changes': [0, 0, 0, 0, 0],\n 'nb_curtailment_changes': [0, 0, 0, 0, 0]}"
     },
     "execution_count": 10,
     "metadata": {},
     "output_type": "execute_result"
    }
   ],
   "source": [
    "actions_freq_per_type = bench_plot.get_actions_freq_by_type()\n",
    "actions_freq_per_type"
   ],
   "metadata": {
    "collapsed": false,
    "pycharm": {
     "name": "#%%\n"
    }
   }
  },
  {
   "cell_type": "code",
   "execution_count": 11,
   "outputs": [
    {
     "name": "stdout",
     "output_type": "stream",
     "text": [
      "This action will:\n",
      "\t - NOT change anything to the injections\n",
      "\t - Modify the generators with redispatching in the following way:\n",
      "\t \t - Redispatch \"gen_1_0\" of -3.75 MW\n",
      "\t - NOT modify any storage capacity\n",
      "\t - NOT perform any curtailment\n",
      "\t - NOT force any line status\n",
      "\t - NOT switch any line status\n",
      "\t - NOT switch anything in the topology\n",
      "\t - NOT force any particular bus configuration\n"
     ]
    }
   ],
   "source": [
    "print(actions[0])"
   ],
   "metadata": {
    "collapsed": false,
    "pycharm": {
     "name": "#%%\n"
    }
   }
  },
  {
   "cell_type": "code",
   "execution_count": 12,
   "outputs": [
    {
     "data": {
      "text/plain": "{'has_impact': True,\n 'injection': {'changed': False, 'count': 0, 'impacted': []},\n 'force_line': {'changed': False,\n  'reconnections': {'count': 0, 'powerlines': []},\n  'disconnections': {'count': 0, 'powerlines': []}},\n 'switch_line': {'changed': False, 'count': 0, 'powerlines': []},\n 'topology': {'changed': False,\n  'bus_switch': [],\n  'assigned_bus': [],\n  'disconnect_bus': []},\n 'redispatch': {'changed': True,\n  'generators': [{'gen_id': 0, 'gen_name': 'gen_1_0', 'amount': -3.75}]},\n 'storage': {'changed': False, 'capacities': []},\n 'curtailment': {'changed': False, 'limit': []}}"
     },
     "execution_count": 12,
     "metadata": {},
     "output_type": "execute_result"
    }
   ],
   "source": [
    "actions[0].impact_on_objects()"
   ],
   "metadata": {
    "collapsed": false,
    "pycharm": {
     "name": "#%%\n"
    }
   }
  },
  {
   "cell_type": "code",
   "execution_count": 13,
   "outputs": [
    {
     "data": {
      "text/plain": "[{'timestamp': 1, 'subs_impacted': {'sub_13'}},\n {'timestamp': 2, 'subs_impacted': {'sub_12'}},\n {'timestamp': 4, 'subs_impacted': {'sub_12'}}]"
     },
     "execution_count": 13,
     "metadata": {},
     "output_type": "execute_result"
    }
   ],
   "source": [
    "bench_plot.get_actions_freq_by_station()"
   ],
   "metadata": {
    "collapsed": false,
    "pycharm": {
     "name": "#%%\n"
    }
   }
  },
  {
   "cell_type": "code",
   "execution_count": 14,
   "outputs": [],
   "source": [
    "observations = bench_plot.get_observations()"
   ],
   "metadata": {
    "collapsed": false,
    "pycharm": {
     "name": "#%%\n"
    }
   }
  },
  {
   "cell_type": "code",
   "execution_count": 15,
   "outputs": [
    {
     "data": {
      "text/plain": "[{'timestamp': 2, 'lines_overflowed': {5, 14}},\n {'timestamp': 3, 'lines_overflowed': {5, 14}},\n {'timestamp': 4, 'lines_overflowed': {8, 16}}]"
     },
     "execution_count": 15,
     "metadata": {},
     "output_type": "execute_result"
    }
   ],
   "source": [
    "bench_plot.get_overflow_lines_by_timestamp()"
   ],
   "metadata": {
    "collapsed": false,
    "pycharm": {
     "name": "#%%\n"
    }
   }
  },
  {
   "cell_type": "code",
   "execution_count": 18,
   "outputs": [
    {
     "data": {
      "text/plain": "[{'timestamp': 4, 'lines_disconnected': {5, 14, 15}},\n {'timestamp': 5,\n  'lines_disconnected': {0,\n   1,\n   2,\n   3,\n   4,\n   5,\n   6,\n   7,\n   8,\n   9,\n   10,\n   11,\n   12,\n   13,\n   14,\n   15,\n   16,\n   17,\n   18,\n   19}}]"
     },
     "execution_count": 18,
     "metadata": {},
     "output_type": "execute_result"
    }
   ],
   "source": [
    "bench_plot.get_disconnected_lines_by_timestamp()"
   ],
   "metadata": {
    "collapsed": false,
    "pycharm": {
     "name": "#%%\n"
    }
   }
  },
  {
   "cell_type": "code",
   "execution_count": 17,
   "outputs": [],
   "source": [],
   "metadata": {
    "collapsed": false,
    "pycharm": {
     "name": "#%%\n"
    }
   }
  }
 ],
 "metadata": {
  "kernelspec": {
   "display_name": "Python 3",
   "language": "python",
   "name": "python3"
  },
  "language_info": {
   "codemirror_mode": {
    "name": "ipython",
    "version": 2
   },
   "file_extension": ".py",
   "mimetype": "text/x-python",
   "name": "python",
   "nbconvert_exporter": "python",
   "pygments_lexer": "ipython2",
   "version": "2.7.6"
  }
 },
 "nbformat": 4,
 "nbformat_minor": 0
}